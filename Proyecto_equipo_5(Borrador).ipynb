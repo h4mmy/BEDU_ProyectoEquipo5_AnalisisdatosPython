{
 "cells": [
  {
   "cell_type": "markdown",
   "metadata": {
    "id": "lpGhITeV0PnM"
   },
   "source": [
    "<font size=10 color='Steelblue'><center> Proyecto Equipo 5 </center></font>\n",
    "\n",
    "<font size=4> Integrantes:\n",
    "\n",
    "*   Rodrigo Garmendia Issa\n",
    "*   Jorge Arista\n",
    "*   Isaac Moreno\n",
    "\n",
    "<font size=6> NLP : Clasificación de reseñas de películas"
   ]
  },
  {
   "cell_type": "markdown",
   "metadata": {
    "id": "pJZFoI1vJcCy"
   },
   "source": [
    "# <font size=6> Planteamiento del problema\n",
    "\n",
    "<font size= 3> La intención de este proyecto es clasificar las reseñas de películas con una valoración de positivas o negativas. Esta base de datos se obtuvo de la plataforma [Kaggle](https://www.kaggle.com/datasets/lakshmi25npathi/imdb-dataset-of-50k-movie-reviews), dicha base cuenta con un total de 50,000 reseñas de películas extraídas de la página de [IMDB](https://www.imdb.com/). \n",
    "Para llevar a cabo el proyecto se relizaron diversas técnicas de NLP para la visualización y comprensión de los datos, así como el uso de Regresión Logística para realizar la clasificación y se aplicaron de diversas métricas para medir el desempeño del modelo."
   ]
  },
  {
   "cell_type": "markdown",
   "metadata": {
    "id": "-3lwcNdL0Pi_"
   },
   "source": [
    "# <font size=6> Exploración de datos\n",
    "<font size=3> Como se mencionó previamente, se trabajó con la base de datos encontrada en Kaggle, el *dataset* se subió en cuatro archivos distintos en el Github de [Rodrigo](https://github.com/ruderikissa/BEDU/tree/main), esto por motivos de limitación de espacio. Posteriormente estos archivos se leyeron y unieron nuevamente en el *Notebook*.\n",
    "\n",
    "Lo primero que se realizó fue importar las bibliotecas requeridas para la exploración y análisis de los datos. Dado que estamos trabajando con archivos de texto, entre estas herramientas se encuentra NLTK para el procesamiento de lenguaje natural."
   ]
  },
  {
   "cell_type": "code",
   "execution_count": 1,
   "metadata": {
    "colab": {
     "base_uri": "https://localhost:8080/"
    },
    "id": "UCL9uKHyKjTr",
    "outputId": "bc47dc41-81dc-4349-9ec0-235408bf16d9"
   },
   "outputs": [
    {
     "name": "stderr",
     "output_type": "stream",
     "text": [
      "[nltk_data] Downloading package punkt to\n",
      "[nltk_data]     C:\\Users\\Carolina\\AppData\\Roaming\\nltk_data...\n",
      "[nltk_data]   Package punkt is already up-to-date!\n",
      "[nltk_data] Downloading package stopwords to\n",
      "[nltk_data]     C:\\Users\\Carolina\\AppData\\Roaming\\nltk_data...\n",
      "[nltk_data]   Package stopwords is already up-to-date!\n"
     ]
    },
    {
     "data": {
      "text/plain": [
       "True"
      ]
     },
     "execution_count": 1,
     "metadata": {},
     "output_type": "execute_result"
    }
   ],
   "source": [
    "#!pip install nltk\n",
    "import nltk  # herramientas para el análisis de NLP\n",
    "import seaborn as sns \n",
    "from pylab import * # numpy y matplotlib.pyplot\n",
    "import pandas as pd  \n",
    "import re    # análisis de patrones en str\n",
    "nltk.download('punkt')       # lista de palabras vacías\n",
    "nltk.download('stopwords')   # y puntación en inglés"
   ]
  },
  {
   "cell_type": "markdown",
   "metadata": {
    "id": "dwjlQchdBKhk"
   },
   "source": [
    "<font size=3> Se importan y leen los 4 archivos que contienen el *data set* a explorar"
   ]
  },
  {
   "cell_type": "code",
   "execution_count": 2,
   "metadata": {
    "id": "imnX1-tqzxwQ"
   },
   "outputs": [],
   "source": [
    "data1 = pd.read_csv('https://raw.githubusercontent.com/ruderikissa/BEDU/main/neg_rev1', index_col=0)\n",
    "data2 = pd.read_csv('https://raw.githubusercontent.com/ruderikissa/BEDU/main/neg_rev2', index_col=0)\n",
    "data3 = pd.read_csv('https://raw.githubusercontent.com/ruderikissa/BEDU/main/pos_rev1', index_col=0)\n",
    "data4 = pd.read_csv('https://raw.githubusercontent.com/ruderikissa/BEDU/main/pos_rev2', index_col=0)"
   ]
  },
  {
   "cell_type": "markdown",
   "metadata": {
    "id": "3xLL1RnnBctf"
   },
   "source": [
    "<font size=3> Se unen los archivos y se verifica que se haya realizada correctamente\n",
    "\n",
    "\n",
    "\n"
   ]
  },
  {
   "cell_type": "code",
   "execution_count": 3,
   "metadata": {
    "colab": {
     "base_uri": "https://localhost:8080/",
     "height": 423
    },
    "id": "9dnmuo4gKi2-",
    "outputId": "82ce9fad-6e01-4ef1-84d3-4c359e1b32c8"
   },
   "outputs": [
    {
     "data": {
      "text/html": [
       "<div>\n",
       "<style scoped>\n",
       "    .dataframe tbody tr th:only-of-type {\n",
       "        vertical-align: middle;\n",
       "    }\n",
       "\n",
       "    .dataframe tbody tr th {\n",
       "        vertical-align: top;\n",
       "    }\n",
       "\n",
       "    .dataframe thead th {\n",
       "        text-align: right;\n",
       "    }\n",
       "</style>\n",
       "<table border=\"1\" class=\"dataframe\">\n",
       "  <thead>\n",
       "    <tr style=\"text-align: right;\">\n",
       "      <th></th>\n",
       "      <th>review</th>\n",
       "      <th>sentiment</th>\n",
       "    </tr>\n",
       "  </thead>\n",
       "  <tbody>\n",
       "    <tr>\n",
       "      <th>0</th>\n",
       "      <td>Basically there's a family where a little boy ...</td>\n",
       "      <td>negative</td>\n",
       "    </tr>\n",
       "    <tr>\n",
       "      <th>1</th>\n",
       "      <td>This show was an amazing, fresh &amp; innovative i...</td>\n",
       "      <td>negative</td>\n",
       "    </tr>\n",
       "    <tr>\n",
       "      <th>2</th>\n",
       "      <td>Encouraged by the positive comments about this...</td>\n",
       "      <td>negative</td>\n",
       "    </tr>\n",
       "    <tr>\n",
       "      <th>3</th>\n",
       "      <td>Phil the Alien is one of those quirky films wh...</td>\n",
       "      <td>negative</td>\n",
       "    </tr>\n",
       "    <tr>\n",
       "      <th>4</th>\n",
       "      <td>I saw this movie when I was about 12 when it c...</td>\n",
       "      <td>negative</td>\n",
       "    </tr>\n",
       "    <tr>\n",
       "      <th>...</th>\n",
       "      <td>...</td>\n",
       "      <td>...</td>\n",
       "    </tr>\n",
       "    <tr>\n",
       "      <th>49995</th>\n",
       "      <td>I loved it, having been a fan of the original ...</td>\n",
       "      <td>positive</td>\n",
       "    </tr>\n",
       "    <tr>\n",
       "      <th>49996</th>\n",
       "      <td>Imaginary Heroes is clearly the best film of t...</td>\n",
       "      <td>positive</td>\n",
       "    </tr>\n",
       "    <tr>\n",
       "      <th>49997</th>\n",
       "      <td>I got this one a few weeks ago and love it! It...</td>\n",
       "      <td>positive</td>\n",
       "    </tr>\n",
       "    <tr>\n",
       "      <th>49998</th>\n",
       "      <td>John Garfield plays a Marine who is blinded by...</td>\n",
       "      <td>positive</td>\n",
       "    </tr>\n",
       "    <tr>\n",
       "      <th>49999</th>\n",
       "      <td>I thought this movie did a down right good job...</td>\n",
       "      <td>positive</td>\n",
       "    </tr>\n",
       "  </tbody>\n",
       "</table>\n",
       "<p>50000 rows × 2 columns</p>\n",
       "</div>"
      ],
      "text/plain": [
       "                                                  review sentiment\n",
       "0      Basically there's a family where a little boy ...  negative\n",
       "1      This show was an amazing, fresh & innovative i...  negative\n",
       "2      Encouraged by the positive comments about this...  negative\n",
       "3      Phil the Alien is one of those quirky films wh...  negative\n",
       "4      I saw this movie when I was about 12 when it c...  negative\n",
       "...                                                  ...       ...\n",
       "49995  I loved it, having been a fan of the original ...  positive\n",
       "49996  Imaginary Heroes is clearly the best film of t...  positive\n",
       "49997  I got this one a few weeks ago and love it! It...  positive\n",
       "49998  John Garfield plays a Marine who is blinded by...  positive\n",
       "49999  I thought this movie did a down right good job...  positive\n",
       "\n",
       "[50000 rows x 2 columns]"
      ]
     },
     "execution_count": 3,
     "metadata": {},
     "output_type": "execute_result"
    }
   ],
   "source": [
    "data = pd.concat([data1,data2,data3,data4],ignore_index=True)\n",
    "data"
   ]
  },
  {
   "cell_type": "code",
   "execution_count": 4,
   "metadata": {
    "colab": {
     "base_uri": "https://localhost:8080/"
    },
    "id": "Qa8xWnJ0Kzbz",
    "outputId": "e88a8926-9fe3-47a1-d1e5-21e127dffb11"
   },
   "outputs": [
    {
     "name": "stdout",
     "output_type": "stream",
     "text": [
      "<class 'pandas.core.frame.DataFrame'>\n",
      "RangeIndex: 50000 entries, 0 to 49999\n",
      "Data columns (total 2 columns):\n",
      " #   Column     Non-Null Count  Dtype \n",
      "---  ------     --------------  ----- \n",
      " 0   review     50000 non-null  object\n",
      " 1   sentiment  50000 non-null  object\n",
      "dtypes: object(2)\n",
      "memory usage: 781.4+ KB\n"
     ]
    }
   ],
   "source": [
    "data.info()"
   ]
  },
  {
   "cell_type": "markdown",
   "metadata": {
    "id": "M8de1h7RCIDZ"
   },
   "source": [
    "<font size=3> Notamos que el *data set* únicamente cuenta con dos columnas: la reseña hecha y la valoración positiva o negativa de la misma, ambas columnas de tipo *'object'*\n",
    "\n",
    "\n",
    "Ahora, checamos cuántas reseñas hay de acuerdo a cada sentimiento.\n",
    "\n"
   ]
  },
  {
   "cell_type": "code",
   "execution_count": 5,
   "metadata": {
    "colab": {
     "base_uri": "https://localhost:8080/",
     "height": 143
    },
    "id": "WqBr4H1mKtoi",
    "outputId": "89d647e3-97e8-43ad-ba89-0775e0859178"
   },
   "outputs": [
    {
     "data": {
      "text/html": [
       "<div>\n",
       "<style scoped>\n",
       "    .dataframe tbody tr th:only-of-type {\n",
       "        vertical-align: middle;\n",
       "    }\n",
       "\n",
       "    .dataframe tbody tr th {\n",
       "        vertical-align: top;\n",
       "    }\n",
       "\n",
       "    .dataframe thead th {\n",
       "        text-align: right;\n",
       "    }\n",
       "</style>\n",
       "<table border=\"1\" class=\"dataframe\">\n",
       "  <thead>\n",
       "    <tr style=\"text-align: right;\">\n",
       "      <th></th>\n",
       "      <th>review</th>\n",
       "    </tr>\n",
       "    <tr>\n",
       "      <th>sentiment</th>\n",
       "      <th></th>\n",
       "    </tr>\n",
       "  </thead>\n",
       "  <tbody>\n",
       "    <tr>\n",
       "      <th>negative</th>\n",
       "      <td>25000</td>\n",
       "    </tr>\n",
       "    <tr>\n",
       "      <th>positive</th>\n",
       "      <td>25000</td>\n",
       "    </tr>\n",
       "  </tbody>\n",
       "</table>\n",
       "</div>"
      ],
      "text/plain": [
       "           review\n",
       "sentiment        \n",
       "negative    25000\n",
       "positive    25000"
      ]
     },
     "execution_count": 5,
     "metadata": {},
     "output_type": "execute_result"
    }
   ],
   "source": [
    "data.groupby('sentiment').count()"
   ]
  },
  {
   "cell_type": "markdown",
   "metadata": {
    "id": "oQcNaccncq7u"
   },
   "source": [
    "> *Con esto, logramos ver que tenemos una completa igualdad en el número de \n",
    "reseñas tanto negativas como positivas, lo cual nos ayudara en los siguientes pasos*\n",
    "\n"
   ]
  },
  {
   "cell_type": "markdown",
   "metadata": {
    "id": "LXkAHiUZC7Gz"
   },
   "source": [
    "<font size=3> Para hacer una análisis con mayor detalle dividiremos el *data frame* en dos: cada uno conteniendo las reseñas de un tipo de sentimiento. "
   ]
  },
  {
   "cell_type": "code",
   "execution_count": 6,
   "metadata": {
    "colab": {
     "base_uri": "https://localhost:8080/",
     "height": 423
    },
    "id": "n9uUWWK2KtmC",
    "outputId": "fcdc88d0-0cfd-4d0d-ca98-9304810db14b"
   },
   "outputs": [
    {
     "data": {
      "text/html": [
       "<div>\n",
       "<style scoped>\n",
       "    .dataframe tbody tr th:only-of-type {\n",
       "        vertical-align: middle;\n",
       "    }\n",
       "\n",
       "    .dataframe tbody tr th {\n",
       "        vertical-align: top;\n",
       "    }\n",
       "\n",
       "    .dataframe thead th {\n",
       "        text-align: right;\n",
       "    }\n",
       "</style>\n",
       "<table border=\"1\" class=\"dataframe\">\n",
       "  <thead>\n",
       "    <tr style=\"text-align: right;\">\n",
       "      <th></th>\n",
       "      <th>review</th>\n",
       "      <th>sentiment</th>\n",
       "    </tr>\n",
       "  </thead>\n",
       "  <tbody>\n",
       "    <tr>\n",
       "      <th>0</th>\n",
       "      <td>One of the other reviewers has mentioned that ...</td>\n",
       "      <td>positive</td>\n",
       "    </tr>\n",
       "    <tr>\n",
       "      <th>1</th>\n",
       "      <td>A wonderful little production. &lt;br /&gt;&lt;br /&gt;The...</td>\n",
       "      <td>positive</td>\n",
       "    </tr>\n",
       "    <tr>\n",
       "      <th>2</th>\n",
       "      <td>I thought this was a wonderful way to spend ti...</td>\n",
       "      <td>positive</td>\n",
       "    </tr>\n",
       "    <tr>\n",
       "      <th>3</th>\n",
       "      <td>Petter Mattei's \"Love in the Time of Money\" is...</td>\n",
       "      <td>positive</td>\n",
       "    </tr>\n",
       "    <tr>\n",
       "      <th>4</th>\n",
       "      <td>Probably my all-time favorite movie, a story o...</td>\n",
       "      <td>positive</td>\n",
       "    </tr>\n",
       "    <tr>\n",
       "      <th>...</th>\n",
       "      <td>...</td>\n",
       "      <td>...</td>\n",
       "    </tr>\n",
       "    <tr>\n",
       "      <th>24995</th>\n",
       "      <td>I loved it, having been a fan of the original ...</td>\n",
       "      <td>positive</td>\n",
       "    </tr>\n",
       "    <tr>\n",
       "      <th>24996</th>\n",
       "      <td>Imaginary Heroes is clearly the best film of t...</td>\n",
       "      <td>positive</td>\n",
       "    </tr>\n",
       "    <tr>\n",
       "      <th>24997</th>\n",
       "      <td>I got this one a few weeks ago and love it! It...</td>\n",
       "      <td>positive</td>\n",
       "    </tr>\n",
       "    <tr>\n",
       "      <th>24998</th>\n",
       "      <td>John Garfield plays a Marine who is blinded by...</td>\n",
       "      <td>positive</td>\n",
       "    </tr>\n",
       "    <tr>\n",
       "      <th>24999</th>\n",
       "      <td>I thought this movie did a down right good job...</td>\n",
       "      <td>positive</td>\n",
       "    </tr>\n",
       "  </tbody>\n",
       "</table>\n",
       "<p>25000 rows × 2 columns</p>\n",
       "</div>"
      ],
      "text/plain": [
       "                                                  review sentiment\n",
       "0      One of the other reviewers has mentioned that ...  positive\n",
       "1      A wonderful little production. <br /><br />The...  positive\n",
       "2      I thought this was a wonderful way to spend ti...  positive\n",
       "3      Petter Mattei's \"Love in the Time of Money\" is...  positive\n",
       "4      Probably my all-time favorite movie, a story o...  positive\n",
       "...                                                  ...       ...\n",
       "24995  I loved it, having been a fan of the original ...  positive\n",
       "24996  Imaginary Heroes is clearly the best film of t...  positive\n",
       "24997  I got this one a few weeks ago and love it! It...  positive\n",
       "24998  John Garfield plays a Marine who is blinded by...  positive\n",
       "24999  I thought this movie did a down right good job...  positive\n",
       "\n",
       "[25000 rows x 2 columns]"
      ]
     },
     "execution_count": 6,
     "metadata": {},
     "output_type": "execute_result"
    }
   ],
   "source": [
    "# Data frame con las reseñas positivas\n",
    "pos_rev = data.query('sentiment== \"positive\"').reset_index(drop=True)\n",
    "pos_rev"
   ]
  },
  {
   "cell_type": "code",
   "execution_count": 7,
   "metadata": {
    "colab": {
     "base_uri": "https://localhost:8080/",
     "height": 423
    },
    "id": "0z1N1sU8KtjS",
    "outputId": "64c16dad-7d15-4b02-c399-03ec0272145d"
   },
   "outputs": [
    {
     "data": {
      "text/html": [
       "<div>\n",
       "<style scoped>\n",
       "    .dataframe tbody tr th:only-of-type {\n",
       "        vertical-align: middle;\n",
       "    }\n",
       "\n",
       "    .dataframe tbody tr th {\n",
       "        vertical-align: top;\n",
       "    }\n",
       "\n",
       "    .dataframe thead th {\n",
       "        text-align: right;\n",
       "    }\n",
       "</style>\n",
       "<table border=\"1\" class=\"dataframe\">\n",
       "  <thead>\n",
       "    <tr style=\"text-align: right;\">\n",
       "      <th></th>\n",
       "      <th>review</th>\n",
       "      <th>sentiment</th>\n",
       "    </tr>\n",
       "  </thead>\n",
       "  <tbody>\n",
       "    <tr>\n",
       "      <th>0</th>\n",
       "      <td>Basically there's a family where a little boy ...</td>\n",
       "      <td>negative</td>\n",
       "    </tr>\n",
       "    <tr>\n",
       "      <th>1</th>\n",
       "      <td>This show was an amazing, fresh &amp; innovative i...</td>\n",
       "      <td>negative</td>\n",
       "    </tr>\n",
       "    <tr>\n",
       "      <th>2</th>\n",
       "      <td>Encouraged by the positive comments about this...</td>\n",
       "      <td>negative</td>\n",
       "    </tr>\n",
       "    <tr>\n",
       "      <th>3</th>\n",
       "      <td>Phil the Alien is one of those quirky films wh...</td>\n",
       "      <td>negative</td>\n",
       "    </tr>\n",
       "    <tr>\n",
       "      <th>4</th>\n",
       "      <td>I saw this movie when I was about 12 when it c...</td>\n",
       "      <td>negative</td>\n",
       "    </tr>\n",
       "    <tr>\n",
       "      <th>...</th>\n",
       "      <td>...</td>\n",
       "      <td>...</td>\n",
       "    </tr>\n",
       "    <tr>\n",
       "      <th>24995</th>\n",
       "      <td>This is your typical junk comedy.&lt;br /&gt;&lt;br /&gt;T...</td>\n",
       "      <td>negative</td>\n",
       "    </tr>\n",
       "    <tr>\n",
       "      <th>24996</th>\n",
       "      <td>Bad plot, bad dialogue, bad acting, idiotic di...</td>\n",
       "      <td>negative</td>\n",
       "    </tr>\n",
       "    <tr>\n",
       "      <th>24997</th>\n",
       "      <td>I am a Catholic taught in parochial elementary...</td>\n",
       "      <td>negative</td>\n",
       "    </tr>\n",
       "    <tr>\n",
       "      <th>24998</th>\n",
       "      <td>I'm going to have to disagree with the previou...</td>\n",
       "      <td>negative</td>\n",
       "    </tr>\n",
       "    <tr>\n",
       "      <th>24999</th>\n",
       "      <td>No one expects the Star Trek movies to be high...</td>\n",
       "      <td>negative</td>\n",
       "    </tr>\n",
       "  </tbody>\n",
       "</table>\n",
       "<p>25000 rows × 2 columns</p>\n",
       "</div>"
      ],
      "text/plain": [
       "                                                  review sentiment\n",
       "0      Basically there's a family where a little boy ...  negative\n",
       "1      This show was an amazing, fresh & innovative i...  negative\n",
       "2      Encouraged by the positive comments about this...  negative\n",
       "3      Phil the Alien is one of those quirky films wh...  negative\n",
       "4      I saw this movie when I was about 12 when it c...  negative\n",
       "...                                                  ...       ...\n",
       "24995  This is your typical junk comedy.<br /><br />T...  negative\n",
       "24996  Bad plot, bad dialogue, bad acting, idiotic di...  negative\n",
       "24997  I am a Catholic taught in parochial elementary...  negative\n",
       "24998  I'm going to have to disagree with the previou...  negative\n",
       "24999  No one expects the Star Trek movies to be high...  negative\n",
       "\n",
       "[25000 rows x 2 columns]"
      ]
     },
     "execution_count": 7,
     "metadata": {},
     "output_type": "execute_result"
    }
   ],
   "source": [
    "# Data frame con las reseñas negativas \n",
    "neg_rev = data.query('sentiment==\"negative\"').reset_index(drop=True)\n",
    "neg_rev"
   ]
  },
  {
   "cell_type": "markdown",
   "metadata": {
    "id": "qJxplWY50Phv"
   },
   "source": [
    "# <font size=6> Análisis de datos y visualización\n",
    "\n",
    "<font size=3> Una vez explorado el *data set*, procedemos a analizar la información con la que contamos, para ello compararemos las reseñas de acuerdo al sentimiento conforme a la divisón que hicimos previamente.\n",
    "\n",
    "Empezamos explorando la distribución de la cantidad de caracteres por reseña."
   ]
  },
  {
   "cell_type": "code",
   "execution_count": 8,
   "metadata": {
    "colab": {
     "base_uri": "https://localhost:8080/",
     "height": 283
    },
    "id": "XKP9h6idKtg1",
    "outputId": "718b48b5-b7e0-4c57-d54f-32c600cfa26e"
   },
   "outputs": [
    {
     "data": {
      "text/plain": [
       "<AxesSubplot:>"
      ]
     },
     "execution_count": 8,
     "metadata": {},
     "output_type": "execute_result"
    },
    {
     "data": {
      "image/png": "[encoded data removed]",
      "text/plain": [
       "<Figure size 432x288 with 1 Axes>"
      ]
     },
     "metadata": {
      "needs_background": "light"
     },
     "output_type": "display_data"
    }
   ],
   "source": [
    "# Histograma de cantidad de caracteres para reseñas negativas\n",
    "neg_rev_len = neg_rev.review.apply(lambda x: len(x))\n",
    "neg_rev_len\n",
    "neg_rev_len.hist( ec='w' )\n"
   ]
  },
  {
   "cell_type": "code",
   "execution_count": 9,
   "metadata": {
    "colab": {
     "base_uri": "https://localhost:8080/",
     "height": 283
    },
    "id": "U47VM9s9Ktc4",
    "outputId": "0f018e22-a0aa-4abd-b626-5c25601db248"
   },
   "outputs": [
    {
     "data": {
      "text/plain": [
       "<AxesSubplot:>"
      ]
     },
     "execution_count": 9,
     "metadata": {},
     "output_type": "execute_result"
    },
    {
     "data": {
      "image/png": "[encoded data removed]",
      "text/plain": [
       "<Figure size 432x288 with 1 Axes>"
      ]
     },
     "metadata": {
      "needs_background": "light"
     },
     "output_type": "display_data"
    }
   ],
   "source": [
    "# Histograma de cantidad de caracteres para reseñas positivas\n",
    "pos_rev_len = pos_rev.review.apply(lambda x: len(x))\n",
    "pos_rev_len.hist(ec='w')"
   ]
  },
  {
   "cell_type": "markdown",
   "metadata": {
    "id": "YdhmY4U_FrCW"
   },
   "source": [
    "<font size=3> Ahora, vemos la cantidad de palabras por reseña."
   ]
  },
  {
   "cell_type": "code",
   "execution_count": 10,
   "metadata": {
    "colab": {
     "base_uri": "https://localhost:8080/",
     "height": 313
    },
    "id": "G5g1lXZFKtX7",
    "outputId": "5ab46f53-7318-4854-9071-d1f216acbda0"
   },
   "outputs": [
    {
     "data": {
      "text/plain": [
       "Text(0.5, 0, 'Reseñas')"
      ]
     },
     "execution_count": 10,
     "metadata": {},
     "output_type": "execute_result"
    },
    {
     "data": {
      "image/png": "[encoded data removed]",
      "text/plain": [
       "<Figure size 432x288 with 1 Axes>"
      ]
     },
     "metadata": {
      "needs_background": "light"
     },
     "output_type": "display_data"
    }
   ],
   "source": [
    "#Definimos la función contadora d palabras\n",
    "def word_count(review):\n",
    "    words = review.split()\n",
    "    return len(words)\n",
    "# Aplicamos la función a las reseñas negativas y graficamos  \n",
    "neg_rev_words = neg_rev.review.apply(word_count)\n",
    "neg_rev_words.hist(ec='w')\n",
    "plt.title('Reseñas Negativas')\n",
    "plt.ylabel('Palabras')\n",
    "plt.xlabel('Reseñas')"
   ]
  },
  {
   "cell_type": "code",
   "execution_count": 11,
   "metadata": {
    "colab": {
     "base_uri": "https://localhost:8080/",
     "height": 313
    },
    "id": "wTPDt83WMGp5",
    "outputId": "8f2c0294-13f1-4cd7-a522-823004509e52"
   },
   "outputs": [
    {
     "data": {
      "text/plain": [
       "Text(0.5, 0, '# Reseñas')"
      ]
     },
     "execution_count": 11,
     "metadata": {},
     "output_type": "execute_result"
    },
    {
     "data": {
      "image/png": "[encoded data removed]",
      "text/plain": [
       "<Figure size 432x288 with 1 Axes>"
      ]
     },
     "metadata": {
      "needs_background": "light"
     },
     "output_type": "display_data"
    }
   ],
   "source": [
    "# Aplicamos la función a las reseñas positivas y graficamos\n",
    "pos_rev_words = pos_rev.review.apply(word_count)\n",
    "pos_rev_words.hist(ec='w')\n",
    "plt.title('Reseñas Positivas')\n",
    "plt.ylabel('Palabras')\n",
    "plt.xlabel('# Reseñas')"
   ]
  },
  {
   "cell_type": "markdown",
   "metadata": {
    "id": "V9C_1hB8nUSV"
   },
   "source": [
    "\n",
    "\n",
    "> *Con estos histogramas logramos dimensionar el número de palabras que se ocupan en las reseñas*\n",
    "\n"
   ]
  },
  {
   "cell_type": "markdown",
   "metadata": {
    "id": "etspU0jzGQZE"
   },
   "source": [
    "<font size=3> Visualizamos un ejemplo por cada sentimiento"
   ]
  },
  {
   "cell_type": "code",
   "execution_count": 12,
   "metadata": {
    "colab": {
     "base_uri": "https://localhost:8080/",
     "height": 110
    },
    "id": "uRhHBtl6GPTW",
    "outputId": "17da5709-bd2b-4c1f-fa2c-f10d9bc7cf9f"
   },
   "outputs": [
    {
     "data": {
      "text/plain": [
       "\"Robert Colomb has two full-time jobs. He's known throughout the world as a globetrotting TV reporter. Less well-known but equally effortful are his exploits as a full-time philanderer.<br /><br />I saw `Vivre pour Vivre' dubbed in English with the title 'Live for Life.' Some life! Robert seems to always have at least three women in his life: one mistress on her way out, one on her way in, and the cheated wife at home. It helps that Robert is a glib liar. Among his most useful lies are `I'll call you tomorrow' and `My work took longer than planned.' He spends a lot of time and money on planes, trains and hotel rooms for his succession of liaisons. You wonder when this guy will get caught with his pants down.<br /><br />Some may find his life exciting, but I thought it to be tedious. His companions, including his wife, Catherine, are all attractive and desirable women. But his lifestyle is so hectic and he is so deceitful, you wonder if he's enjoying all this.<br /><br />Adding to the tedium is considerable footage that doesn't further the plot. There are extended sections with no dialogue or French-only dialogue. We see documentaries of wars, torture, and troop training interspersed with the live action. When Robert's flight returns from Africa, we wait and wait for the plane to land and taxi to the airport terminal.<br /><br />Annie Girardot is the standout performer in this film. Hers was the most interesting character and she played it to perfection. It was also nice to see Candice Bergen at the beginning of her career. I can't find fault with Yves Montand's performance of what was basically an amoral bum.<br /><br />I enjoyed some of Claude Lelouch's novel techniques. In a hotel room scene, the camera pans around the room as Robert and his mistress argue. We catch sight of them briefly during each pass around the room. In another scene set on a sleeping car of a train, Robert is lying on the upper bunk while his wife is on the lower. Robert is giving his wife some important but distressing news, but we hear only parts of it because of the clatter of the train. I sensed that his wife was also unable to absorb every word due to the shocking nature of the news. I also liked the exciting safari scenes in Africa. The cinematography of those scenes and of those in Amsterdam was superb.<br /><br />I reviewed this movie as part of a project at the Library of Congress. I've named the project FIFTY: 50 Notable Films Forgotten Within 50 Years. As best I can determine, this film, like the other forty-nine I've identified, has not been on video, telecast, or distributed in the U.S. since its original release. In my opinion, it is worthy of being made available again.<br /><br />\""
      ]
     },
     "execution_count": 12,
     "metadata": {},
     "output_type": "execute_result"
    }
   ],
   "source": [
    "# Reseña negativa\n",
    "neg_example = neg_rev.loc[24994][0]\n",
    "neg_example"
   ]
  },
  {
   "cell_type": "code",
   "execution_count": 13,
   "metadata": {
    "colab": {
     "base_uri": "https://localhost:8080/",
     "height": 110
    },
    "id": "720GOZcAGPLU",
    "outputId": "a818432f-9ce4-4c95-89ce-22fe615debc9"
   },
   "outputs": [
    {
     "data": {
      "text/plain": [
       "'A wonderful little production. <br /><br />The filming technique is very unassuming- very old-time-BBC fashion and gives a comforting, and sometimes discomforting, sense of realism to the entire piece. <br /><br />The actors are extremely well chosen- Michael Sheen not only \"has got all the polari\" but he has all the voices down pat too! You can truly see the seamless editing guided by the references to Williams\\' diary entries, not only is it well worth the watching but it is a terrificly written and performed piece. A masterful production about one of the great master\\'s of comedy and his life. <br /><br />The realism really comes home with the little things: the fantasy of the guard which, rather than use the traditional \\'dream\\' techniques remains solid then disappears. It plays on our knowledge and our senses, particularly with the scenes concerning Orton and Halliwell and the sets (particularly of their flat with Halliwell\\'s murals decorating every surface) are terribly well done.'"
      ]
     },
     "execution_count": 13,
     "metadata": {},
     "output_type": "execute_result"
    }
   ],
   "source": [
    "# Reseña positiva \n",
    "pos_example = pos_rev.loc[1][0]\n",
    "pos_example"
   ]
  },
  {
   "cell_type": "markdown",
   "metadata": {
    "id": "teXUy8y3oDnu"
   },
   "source": [
    "#  <font size=6> Limpieza de datos"
   ]
  },
  {
   "cell_type": "markdown",
   "metadata": {
    "id": "IMpVhUeuGpEB"
   },
   "source": [
    "<font size=3> Notemos que las reseñas tienen varios caracteres que no son palabras ni aportan información relevante como era de esperarse, por lo que se procede a limpiar las reseñas. "
   ]
  },
  {
   "cell_type": "code",
   "execution_count": 14,
   "metadata": {
    "id": "yezn2-2iMGl_"
   },
   "outputs": [],
   "source": [
    "# Se define la función de limpieza para las reseñas\n",
    "from nltk.corpus import stopwords\n",
    "def clean_review(review):\n",
    "    # Se transforman en minúsculas todas las letras\n",
    "    review = review.lower()\n",
    "    # Se eliminan los caracteres de html\n",
    "    review = re.sub(r'<.*?>',' ', review)\n",
    "    # Se eliminan las ligas de internet\n",
    "    review = re.sub(r'http[s]?.*',' ',review)\n",
    "    # Se eliminan los dígitos\n",
    "    review = re.sub('\\d',' ',review)\n",
    "    # Se eliminan el resto de caracteres que no sean letras.\n",
    "    review = re.sub('[^\\w]+',' ', review)\n",
    "    # Se eliminan posibles espacios extras\n",
    "    review = review.strip()\n",
    "    return review"
   ]
  },
  {
   "cell_type": "markdown",
   "metadata": {
    "id": "TZevy6viI0UA"
   },
   "source": [
    "<font size=3> Aplicamos la limpieza a las reseñas. "
   ]
  },
  {
   "cell_type": "code",
   "execution_count": 15,
   "metadata": {
    "id": "VuFKKH0Y8ZBJ"
   },
   "outputs": [],
   "source": [
    "neg_rev_clean = neg_rev.review.apply(clean_review)"
   ]
  },
  {
   "cell_type": "code",
   "execution_count": 16,
   "metadata": {
    "id": "ER7KQyDX9fEH"
   },
   "outputs": [],
   "source": [
    "pos_rev_clean = pos_rev.review.apply(clean_review)"
   ]
  },
  {
   "cell_type": "markdown",
   "metadata": {
    "id": "Uncu79yVI59H"
   },
   "source": [
    "<font size=3> Y vemos un ejemplo previo y posterior a la limpieza por cada sentimiento."
   ]
  },
  {
   "cell_type": "markdown",
   "metadata": {
    "id": "q7Za9Ju7JU_2"
   },
   "source": [
    "1.   <font size=3> Reseña negativa sin limpieza:"
   ]
  },
  {
   "cell_type": "code",
   "execution_count": 17,
   "metadata": {
    "colab": {
     "base_uri": "https://localhost:8080/",
     "height": 110
    },
    "id": "fz36kGQgMGXm",
    "outputId": "117d3263-b092-45d3-9579-7d957fe731e9"
   },
   "outputs": [
    {
     "data": {
      "text/plain": [
       "\"Robert Colomb has two full-time jobs. He's known throughout the world as a globetrotting TV reporter. Less well-known but equally effortful are his exploits as a full-time philanderer.<br /><br />I saw `Vivre pour Vivre' dubbed in English with the title 'Live for Life.' Some life! Robert seems to always have at least three women in his life: one mistress on her way out, one on her way in, and the cheated wife at home. It helps that Robert is a glib liar. Among his most useful lies are `I'll call you tomorrow' and `My work took longer than planned.' He spends a lot of time and money on planes, trains and hotel rooms for his succession of liaisons. You wonder when this guy will get caught with his pants down.<br /><br />Some may find his life exciting, but I thought it to be tedious. His companions, including his wife, Catherine, are all attractive and desirable women. But his lifestyle is so hectic and he is so deceitful, you wonder if he's enjoying all this.<br /><br />Adding to the tedium is considerable footage that doesn't further the plot. There are extended sections with no dialogue or French-only dialogue. We see documentaries of wars, torture, and troop training interspersed with the live action. When Robert's flight returns from Africa, we wait and wait for the plane to land and taxi to the airport terminal.<br /><br />Annie Girardot is the standout performer in this film. Hers was the most interesting character and she played it to perfection. It was also nice to see Candice Bergen at the beginning of her career. I can't find fault with Yves Montand's performance of what was basically an amoral bum.<br /><br />I enjoyed some of Claude Lelouch's novel techniques. In a hotel room scene, the camera pans around the room as Robert and his mistress argue. We catch sight of them briefly during each pass around the room. In another scene set on a sleeping car of a train, Robert is lying on the upper bunk while his wife is on the lower. Robert is giving his wife some important but distressing news, but we hear only parts of it because of the clatter of the train. I sensed that his wife was also unable to absorb every word due to the shocking nature of the news. I also liked the exciting safari scenes in Africa. The cinematography of those scenes and of those in Amsterdam was superb.<br /><br />I reviewed this movie as part of a project at the Library of Congress. I've named the project FIFTY: 50 Notable Films Forgotten Within 50 Years. As best I can determine, this film, like the other forty-nine I've identified, has not been on video, telecast, or distributed in the U.S. since its original release. In my opinion, it is worthy of being made available again.<br /><br />\""
      ]
     },
     "execution_count": 17,
     "metadata": {},
     "output_type": "execute_result"
    }
   ],
   "source": [
    "neg_example = neg_rev.loc[24994][0]\n",
    "neg_example"
   ]
  },
  {
   "cell_type": "markdown",
   "metadata": {
    "id": "6HGRSgBopfT8"
   },
   "source": [
    "2.   <font size=3> Reseña negativa limpia:"
   ]
  },
  {
   "cell_type": "code",
   "execution_count": 18,
   "metadata": {
    "colab": {
     "base_uri": "https://localhost:8080/",
     "height": 110
    },
    "id": "8ypTyXL8MGUN",
    "outputId": "5c312696-b2e0-4230-96b6-fbab1f02b0d0"
   },
   "outputs": [
    {
     "data": {
      "text/plain": [
       "'robert colomb has two full time jobs he s known throughout the world as a globetrotting tv reporter less well known but equally effortful are his exploits as a full time philanderer i saw vivre pour vivre dubbed in english with the title live for life some life robert seems to always have at least three women in his life one mistress on her way out one on her way in and the cheated wife at home it helps that robert is a glib liar among his most useful lies are i ll call you tomorrow and my work took longer than planned he spends a lot of time and money on planes trains and hotel rooms for his succession of liaisons you wonder when this guy will get caught with his pants down some may find his life exciting but i thought it to be tedious his companions including his wife catherine are all attractive and desirable women but his lifestyle is so hectic and he is so deceitful you wonder if he s enjoying all this adding to the tedium is considerable footage that doesn t further the plot there are extended sections with no dialogue or french only dialogue we see documentaries of wars torture and troop training interspersed with the live action when robert s flight returns from africa we wait and wait for the plane to land and taxi to the airport terminal annie girardot is the standout performer in this film hers was the most interesting character and she played it to perfection it was also nice to see candice bergen at the beginning of her career i can t find fault with yves montand s performance of what was basically an amoral bum i enjoyed some of claude lelouch s novel techniques in a hotel room scene the camera pans around the room as robert and his mistress argue we catch sight of them briefly during each pass around the room in another scene set on a sleeping car of a train robert is lying on the upper bunk while his wife is on the lower robert is giving his wife some important but distressing news but we hear only parts of it because of the clatter of the train i sensed that his wife was also unable to absorb every word due to the shocking nature of the news i also liked the exciting safari scenes in africa the cinematography of those scenes and of those in amsterdam was superb i reviewed this movie as part of a project at the library of congress i ve named the project fifty notable films forgotten within years as best i can determine this film like the other forty nine i ve identified has not been on video telecast or distributed in the u s since its original release in my opinion it is worthy of being made available again'"
      ]
     },
     "execution_count": 18,
     "metadata": {},
     "output_type": "execute_result"
    }
   ],
   "source": [
    "neg_clean_example = neg_rev_clean[24994]\n",
    "neg_clean_example"
   ]
  },
  {
   "cell_type": "markdown",
   "metadata": {
    "id": "BB_dpqYeJcFp"
   },
   "source": [
    "1.   <font size=3> Reseña positiva sin limpieza:"
   ]
  },
  {
   "cell_type": "code",
   "execution_count": 19,
   "metadata": {
    "colab": {
     "base_uri": "https://localhost:8080/",
     "height": 110
    },
    "id": "3SWSUS4bMGRA",
    "outputId": "d2be904c-333b-4b1c-f313-800d7097970e"
   },
   "outputs": [
    {
     "data": {
      "text/plain": [
       "'A wonderful little production. <br /><br />The filming technique is very unassuming- very old-time-BBC fashion and gives a comforting, and sometimes discomforting, sense of realism to the entire piece. <br /><br />The actors are extremely well chosen- Michael Sheen not only \"has got all the polari\" but he has all the voices down pat too! You can truly see the seamless editing guided by the references to Williams\\' diary entries, not only is it well worth the watching but it is a terrificly written and performed piece. A masterful production about one of the great master\\'s of comedy and his life. <br /><br />The realism really comes home with the little things: the fantasy of the guard which, rather than use the traditional \\'dream\\' techniques remains solid then disappears. It plays on our knowledge and our senses, particularly with the scenes concerning Orton and Halliwell and the sets (particularly of their flat with Halliwell\\'s murals decorating every surface) are terribly well done.'"
      ]
     },
     "execution_count": 19,
     "metadata": {},
     "output_type": "execute_result"
    }
   ],
   "source": [
    "pos_example = pos_rev.loc[1][0]\n",
    "pos_example"
   ]
  },
  {
   "cell_type": "markdown",
   "metadata": {
    "id": "URXiEgFzpmEn"
   },
   "source": [
    "2.   <font size=3>Reseña positiva limpia"
   ]
  },
  {
   "cell_type": "code",
   "execution_count": 20,
   "metadata": {
    "colab": {
     "base_uri": "https://localhost:8080/",
     "height": 91
    },
    "id": "_oe6s2qR7z-4",
    "outputId": "b117afdb-fd76-478e-a6ae-6a1c7da90ffa"
   },
   "outputs": [
    {
     "data": {
      "text/plain": [
       "'a wonderful little production the filming technique is very unassuming very old time bbc fashion and gives a comforting and sometimes discomforting sense of realism to the entire piece the actors are extremely well chosen michael sheen not only has got all the polari but he has all the voices down pat too you can truly see the seamless editing guided by the references to williams diary entries not only is it well worth the watching but it is a terrificly written and performed piece a masterful production about one of the great master s of comedy and his life the realism really comes home with the little things the fantasy of the guard which rather than use the traditional dream techniques remains solid then disappears it plays on our knowledge and our senses particularly with the scenes concerning orton and halliwell and the sets particularly of their flat with halliwell s murals decorating every surface are terribly well done'"
      ]
     },
     "execution_count": 20,
     "metadata": {},
     "output_type": "execute_result"
    }
   ],
   "source": [
    "pos_clean_example = pos_rev_clean[1]\n",
    "pos_clean_example"
   ]
  },
  {
   "cell_type": "markdown",
   "metadata": {
    "id": "OryKjVBXJiDU"
   },
   "source": [
    "<font size=3> Ya hecha la limpieza, procedemos a 'tokenizar' las reseñas para seguir con nuestro análisis."
   ]
  },
  {
   "cell_type": "code",
   "execution_count": 21,
   "metadata": {
    "id": "cuBWjyoL9XUA"
   },
   "outputs": [],
   "source": [
    "neg_rev_clean = neg_rev_clean.apply(nltk.word_tokenize)\n",
    "pos_rev_clean = pos_rev_clean.apply(nltk.word_tokenize)"
   ]
  },
  {
   "cell_type": "markdown",
   "metadata": {
    "id": "fKs-WuijJyEh"
   },
   "source": [
    "<font size=3> Creamos un *'corpus'* de palabras que contienen cada tipo de reseña."
   ]
  },
  {
   "cell_type": "code",
   "execution_count": 22,
   "metadata": {
    "id": "EEPFZsWPOVP8"
   },
   "outputs": [],
   "source": [
    "neg_corpus = [words[i] for words in neg_rev_clean for i in range(len(words))]\n",
    "pos_corpus = [words[i] for words in pos_rev_clean for i in range(len(words))]"
   ]
  },
  {
   "cell_type": "markdown",
   "metadata": {
    "id": "e_nQMdGXKCCz"
   },
   "source": [
    "<font size=3> Se crea un diccionario con los frecuencias de cada palabra en los *data frames* y visualizamos cuáles son las más fercuentes para cada sentimiento."
   ]
  },
  {
   "cell_type": "code",
   "execution_count": 23,
   "metadata": {
    "id": "5OTi1LyYOU5u"
   },
   "outputs": [],
   "source": [
    "# Diccionario de frecuencias\n",
    "neg_freq_dist = nltk.FreqDist(neg_corpus)\n",
    "pos_freq_dist = nltk.FreqDist(pos_corpus)"
   ]
  },
  {
   "cell_type": "code",
   "execution_count": 24,
   "metadata": {
    "id": "ffVypyFIOU1W"
   },
   "outputs": [],
   "source": [
    "# Las 30 más comunes de cada data frame\n",
    "neg_30_most_common = np.array(list(map(lambda x: list(x), neg_freq_dist.most_common(30))))\n",
    "pos_30_most_common = np.array(list(map(lambda x: list(x), pos_freq_dist.most_common(30))))"
   ]
  },
  {
   "cell_type": "code",
   "execution_count": 25,
   "metadata": {
    "colab": {
     "base_uri": "https://localhost:8080/",
     "height": 313
    },
    "id": "SROBO-oKOUyQ",
    "outputId": "479c3da9-b783-4bc9-b656-014914a2dff0"
   },
   "outputs": [
    {
     "data": {
      "text/plain": [
       "Text(0.5, 0, 'Palabras')"
      ]
     },
     "execution_count": 25,
     "metadata": {},
     "output_type": "execute_result"
    },
    {
     "data": {
      "image/png": "[encoded data removed]",
      "text/plain": [
       "<Figure size 432x288 with 1 Axes>"
      ]
     },
     "metadata": {
      "needs_background": "light"
     },
     "output_type": "display_data"
    }
   ],
   "source": [
    "fig = plt.Figure(figsize=(12,8))\n",
    "#axes = fig.subplots(nrows=2, ncols=2)\n",
    "#sns.barplot(x=neg_30_most_common[:,0], y=neg_30_most_common[:,1].astype('int'), ax= axes[0,0])\n",
    "sns.barplot(y=pos_30_most_common[:,0], x=pos_30_most_common[:,1].astype('int'))\n",
    "plt.title('Palabras Comunes')\n",
    "plt.ylabel('# Ocurrencias')\n",
    "plt.xlabel('Palabras')"
   ]
  },
  {
   "cell_type": "markdown",
   "metadata": {
    "id": "W7K06YcjgAbs"
   },
   "source": [
    "<font size=3> Visualizamos la distribución de longitudes de todas las palabras."
   ]
  },
  {
   "cell_type": "code",
   "execution_count": 26,
   "metadata": {
    "colab": {
     "base_uri": "https://localhost:8080/",
     "height": 313
    },
    "id": "5Rh554cjP5UF",
    "outputId": "b8e9da9a-2c96-440c-a1a7-f6f841a2bc92"
   },
   "outputs": [
    {
     "data": {
      "text/plain": [
       "Text(0.5, 0, 'Longitud')"
      ]
     },
     "execution_count": 26,
     "metadata": {},
     "output_type": "execute_result"
    },
    {
     "data": {
      "image/png": "[encoded data removed]",
      "text/plain": [
       "<Figure size 432x288 with 1 Axes>"
      ]
     },
     "metadata": {
      "needs_background": "light"
     },
     "output_type": "display_data"
    }
   ],
   "source": [
    "neg_word_length = [len(word) for word in neg_corpus]\n",
    "pos_word_length = [len(word) for word in pos_corpus]\n",
    "#sns.displot(neg_word_length, kde=False)\n",
    "sns.histplot(x=pos_word_length, kde=False)\n",
    "plt.title('Longitudes')\n",
    "plt.xlabel('Longitud')"
   ]
  },
  {
   "cell_type": "markdown",
   "metadata": {
    "id": "X5oe-68AgIxZ"
   },
   "source": [
    "<font size=3> Como era de esperarse las palabras más frecuentes son palabras vacías, es decir sirven como conectores sintácticos pero no aportan información, por lo que procedemos a eliminarlas."
   ]
  },
  {
   "cell_type": "code",
   "execution_count": 27,
   "metadata": {
    "id": "-fprOPw1P5Rf"
   },
   "outputs": [],
   "source": [
    "stopwords = stopwords.words('english') #Palabras vacías en inglés\n",
    "neg_corpus_clean = [word for word in neg_corpus if word not in stopwords] \n",
    "pos_corpus_clean = [word for word in pos_corpus if word not in stopwords]"
   ]
  },
  {
   "cell_type": "markdown",
   "metadata": {
    "id": "l1WrP48xgmQU"
   },
   "source": [
    "<font size=3> Creamos nuevamente el diccionario de frecuencias sin las palabras vacías y visualizamos."
   ]
  },
  {
   "cell_type": "code",
   "execution_count": 28,
   "metadata": {
    "id": "OtVDdxROP5Kc"
   },
   "outputs": [],
   "source": [
    "neg_freq_dist = nltk.FreqDist(neg_corpus_clean)\n",
    "pos_freq_dist = nltk.FreqDist(pos_corpus_clean)"
   ]
  },
  {
   "cell_type": "code",
   "execution_count": 29,
   "metadata": {
    "id": "1a2gctIDP5IU"
   },
   "outputs": [],
   "source": [
    "neg_30_most_common = np.array(list(map(lambda x: list(x), neg_freq_dist.most_common(30))))\n",
    "pos_30_most_common = np.array(list(map(lambda x: list(x), pos_freq_dist.most_common(30))))"
   ]
  },
  {
   "cell_type": "code",
   "execution_count": 30,
   "metadata": {
    "colab": {
     "base_uri": "https://localhost:8080/",
     "height": 313
    },
    "id": "bj-CxpaHP4xs",
    "outputId": "0fd5971e-739f-4622-ef65-e0e05e71f3a4"
   },
   "outputs": [
    {
     "data": {
      "text/plain": [
       "Text(0, 0.5, 'Palabra')"
      ]
     },
     "execution_count": 30,
     "metadata": {},
     "output_type": "execute_result"
    },
    {
     "data": {
      "image/png": "[encoded data removed]",
      "text/plain": [
       "<Figure size 432x288 with 1 Axes>"
      ]
     },
     "metadata": {
      "needs_background": "light"
     },
     "output_type": "display_data"
    }
   ],
   "source": [
    "fig = plt.Figure(figsize=(12,8))\n",
    "#axes = fig.subplots(nrows=2, ncols=2)\n",
    "sns.barplot(x=neg_30_most_common[:,1].astype('int'), y=neg_30_most_common[:,0])\n",
    "plt.title('Palabras Comunes')\n",
    "plt.xlabel('# Ocurrencias')\n",
    "plt.ylabel('Palabra')\n",
    "#sns.barplot(x=pos_30_most_common[:,0], y=pos_30_most_common[:,1].astype('int'))"
   ]
  },
  {
   "cell_type": "markdown",
   "metadata": {
    "id": "kJeMN7LGgwcx"
   },
   "source": [
    "<font size=3> También veamos la distribución de la longitud de palabras de estos nuevos *'corpus'.*"
   ]
  },
  {
   "cell_type": "code",
   "execution_count": 31,
   "metadata": {
    "id": "BckOfaJ-P4uH"
   },
   "outputs": [],
   "source": [
    "neg_word_length = pd.Series([len(word) for word in neg_corpus_clean])\n",
    "pos_word_length = pd.Series([len(word) for word in pos_corpus_clean])"
   ]
  },
  {
   "cell_type": "code",
   "execution_count": 32,
   "metadata": {
    "colab": {
     "base_uri": "https://localhost:8080/",
     "height": 283
    },
    "id": "bjt5XgVbQLFk",
    "outputId": "4e28c22a-b287-475b-893b-18f4915adabd"
   },
   "outputs": [
    {
     "data": {
      "text/plain": [
       "<AxesSubplot:ylabel='Count'>"
      ]
     },
     "execution_count": 32,
     "metadata": {},
     "output_type": "execute_result"
    },
    {
     "data": {
      "image/png": "[encoded data removed]",
      "text/plain": [
       "<Figure size 432x288 with 1 Axes>"
      ]
     },
     "metadata": {
      "needs_background": "light"
     },
     "output_type": "display_data"
    }
   ],
   "source": [
    "sns.histplot(x=neg_word_length)"
   ]
  },
  {
   "cell_type": "markdown",
   "metadata": {
    "id": "8xtMFZkEwbRo"
   },
   "source": [
    "\n",
    "\n",
    "> Despues de la limpieza y creación de nuestro diccionarios podemos observar que las palabras mas usadas, son las que referencian a la Pelicula \n",
    "\n"
   ]
  },
  {
   "cell_type": "markdown",
   "metadata": {
    "id": "T2_j2uyX0PeQ"
   },
   "source": [
    "# <font size=6> Preprocesamiento\n",
    "\n",
    "<font size=3> Una ves visualizado los textos y visto el comportamiento de los datos de acuerdo a cada clasificación, nos proponemos a preparar los datos para entrenar el modelo.\n",
    "\n",
    "Empezamos creando una nueva columna donde se almacenaran los datos ya preparados. Lo primero que hacemos es aplicar la función *clean_review* definida previamente.\n",
    "\n"
   ]
  },
  {
   "cell_type": "code",
   "execution_count": 33,
   "metadata": {},
   "outputs": [],
   "source": [
    "from sklearn.preprocessing import StandardScaler"
   ]
  },
  {
   "cell_type": "code",
   "execution_count": 34,
   "metadata": {
    "colab": {
     "base_uri": "https://localhost:8080/",
     "height": 206
    },
    "id": "SENFSk7AQLCu",
    "outputId": "451e232f-bfba-4562-91a9-4e87356b10d1"
   },
   "outputs": [
    {
     "data": {
      "text/html": [
       "<div>\n",
       "<style scoped>\n",
       "    .dataframe tbody tr th:only-of-type {\n",
       "        vertical-align: middle;\n",
       "    }\n",
       "\n",
       "    .dataframe tbody tr th {\n",
       "        vertical-align: top;\n",
       "    }\n",
       "\n",
       "    .dataframe thead th {\n",
       "        text-align: right;\n",
       "    }\n",
       "</style>\n",
       "<table border=\"1\" class=\"dataframe\">\n",
       "  <thead>\n",
       "    <tr style=\"text-align: right;\">\n",
       "      <th></th>\n",
       "      <th>review</th>\n",
       "      <th>sentiment</th>\n",
       "      <th>review_clean</th>\n",
       "    </tr>\n",
       "  </thead>\n",
       "  <tbody>\n",
       "    <tr>\n",
       "      <th>0</th>\n",
       "      <td>One of the other reviewers has mentioned that ...</td>\n",
       "      <td>positive</td>\n",
       "      <td>one of the other reviewers has mentioned that ...</td>\n",
       "    </tr>\n",
       "    <tr>\n",
       "      <th>1</th>\n",
       "      <td>A wonderful little production. &lt;br /&gt;&lt;br /&gt;The...</td>\n",
       "      <td>positive</td>\n",
       "      <td>a wonderful little production the filming tech...</td>\n",
       "    </tr>\n",
       "    <tr>\n",
       "      <th>2</th>\n",
       "      <td>I thought this was a wonderful way to spend ti...</td>\n",
       "      <td>positive</td>\n",
       "      <td>i thought this was a wonderful way to spend ti...</td>\n",
       "    </tr>\n",
       "    <tr>\n",
       "      <th>3</th>\n",
       "      <td>Petter Mattei's \"Love in the Time of Money\" is...</td>\n",
       "      <td>positive</td>\n",
       "      <td>petter mattei s love in the time of money is a...</td>\n",
       "    </tr>\n",
       "    <tr>\n",
       "      <th>4</th>\n",
       "      <td>Probably my all-time favorite movie, a story o...</td>\n",
       "      <td>positive</td>\n",
       "      <td>probably my all time favorite movie a story of...</td>\n",
       "    </tr>\n",
       "  </tbody>\n",
       "</table>\n",
       "</div>"
      ],
      "text/plain": [
       "                                              review sentiment  \\\n",
       "0  One of the other reviewers has mentioned that ...  positive   \n",
       "1  A wonderful little production. <br /><br />The...  positive   \n",
       "2  I thought this was a wonderful way to spend ti...  positive   \n",
       "3  Petter Mattei's \"Love in the Time of Money\" is...  positive   \n",
       "4  Probably my all-time favorite movie, a story o...  positive   \n",
       "\n",
       "                                        review_clean  \n",
       "0  one of the other reviewers has mentioned that ...  \n",
       "1  a wonderful little production the filming tech...  \n",
       "2  i thought this was a wonderful way to spend ti...  \n",
       "3  petter mattei s love in the time of money is a...  \n",
       "4  probably my all time favorite movie a story of...  "
      ]
     },
     "execution_count": 34,
     "metadata": {},
     "output_type": "execute_result"
    }
   ],
   "source": [
    "pos_rev['review_clean'] = pos_rev.review.apply(clean_review)\n",
    "pos_rev.head()"
   ]
  },
  {
   "cell_type": "code",
   "execution_count": 35,
   "metadata": {
    "colab": {
     "base_uri": "https://localhost:8080/",
     "height": 206
    },
    "id": "CE_Yw9J-QLAZ",
    "outputId": "912f45e5-fa08-410b-87e0-b68cf8250bbc"
   },
   "outputs": [
    {
     "data": {
      "text/html": [
       "<div>\n",
       "<style scoped>\n",
       "    .dataframe tbody tr th:only-of-type {\n",
       "        vertical-align: middle;\n",
       "    }\n",
       "\n",
       "    .dataframe tbody tr th {\n",
       "        vertical-align: top;\n",
       "    }\n",
       "\n",
       "    .dataframe thead th {\n",
       "        text-align: right;\n",
       "    }\n",
       "</style>\n",
       "<table border=\"1\" class=\"dataframe\">\n",
       "  <thead>\n",
       "    <tr style=\"text-align: right;\">\n",
       "      <th></th>\n",
       "      <th>review</th>\n",
       "      <th>sentiment</th>\n",
       "      <th>review_clean</th>\n",
       "    </tr>\n",
       "  </thead>\n",
       "  <tbody>\n",
       "    <tr>\n",
       "      <th>0</th>\n",
       "      <td>Basically there's a family where a little boy ...</td>\n",
       "      <td>negative</td>\n",
       "      <td>basically there s a family where a little boy ...</td>\n",
       "    </tr>\n",
       "    <tr>\n",
       "      <th>1</th>\n",
       "      <td>This show was an amazing, fresh &amp; innovative i...</td>\n",
       "      <td>negative</td>\n",
       "      <td>this show was an amazing fresh innovative idea...</td>\n",
       "    </tr>\n",
       "    <tr>\n",
       "      <th>2</th>\n",
       "      <td>Encouraged by the positive comments about this...</td>\n",
       "      <td>negative</td>\n",
       "      <td>encouraged by the positive comments about this...</td>\n",
       "    </tr>\n",
       "    <tr>\n",
       "      <th>3</th>\n",
       "      <td>Phil the Alien is one of those quirky films wh...</td>\n",
       "      <td>negative</td>\n",
       "      <td>phil the alien is one of those quirky films wh...</td>\n",
       "    </tr>\n",
       "    <tr>\n",
       "      <th>4</th>\n",
       "      <td>I saw this movie when I was about 12 when it c...</td>\n",
       "      <td>negative</td>\n",
       "      <td>i saw this movie when i was about when it came...</td>\n",
       "    </tr>\n",
       "  </tbody>\n",
       "</table>\n",
       "</div>"
      ],
      "text/plain": [
       "                                              review sentiment  \\\n",
       "0  Basically there's a family where a little boy ...  negative   \n",
       "1  This show was an amazing, fresh & innovative i...  negative   \n",
       "2  Encouraged by the positive comments about this...  negative   \n",
       "3  Phil the Alien is one of those quirky films wh...  negative   \n",
       "4  I saw this movie when I was about 12 when it c...  negative   \n",
       "\n",
       "                                        review_clean  \n",
       "0  basically there s a family where a little boy ...  \n",
       "1  this show was an amazing fresh innovative idea...  \n",
       "2  encouraged by the positive comments about this...  \n",
       "3  phil the alien is one of those quirky films wh...  \n",
       "4  i saw this movie when i was about when it came...  "
      ]
     },
     "execution_count": 35,
     "metadata": {},
     "output_type": "execute_result"
    }
   ],
   "source": [
    "neg_rev['review_clean'] = neg_rev.review.apply(clean_review)\n",
    "neg_rev.head()"
   ]
  },
  {
   "cell_type": "markdown",
   "metadata": {
    "id": "RYVDoiXchycJ"
   },
   "source": [
    "<font size=3> Procedemos a 'tokenizar' los textos."
   ]
  },
  {
   "cell_type": "code",
   "execution_count": 36,
   "metadata": {
    "id": "xfUN2P_KFWim"
   },
   "outputs": [],
   "source": [
    "pos_rev['review_clean'] = pos_rev.review_clean.apply(nltk.word_tokenize)\n",
    "neg_rev['review_clean'] = neg_rev.review_clean.apply(nltk.word_tokenize)"
   ]
  },
  {
   "cell_type": "markdown",
   "metadata": {
    "id": "JoY4I0AMh9_l"
   },
   "source": [
    "<font size=3> Luego, 'estematizamos' las palabras, es decir, reducimos a su raíz las palabras que tienen un origen común. "
   ]
  },
  {
   "cell_type": "code",
   "execution_count": 37,
   "metadata": {
    "id": "Jom5ZrTVFWNV"
   },
   "outputs": [],
   "source": [
    "stemmer = nltk.PorterStemmer()\n",
    "def more_cleaning(review):\n",
    "    stemmer = nltk.PorterStemmer()\n",
    "    words = [stemmer.stem(word) for word in review if word not in stopwords]\n",
    "    return words\n"
   ]
  },
  {
   "cell_type": "code",
   "execution_count": 38,
   "metadata": {
    "id": "JrtK1kePNH_H"
   },
   "outputs": [],
   "source": [
    "pos_rev['review_clean'] = pos_rev.review_clean.apply(more_cleaning)\n",
    "neg_rev['review_clean'] = neg_rev.review_clean.apply(more_cleaning)\n",
    "\n"
   ]
  },
  {
   "cell_type": "markdown",
   "metadata": {
    "id": "150N-_KRij62"
   },
   "source": [
    "<font size=3> Ahora, nos enfocamos en codificar numéricamente los sentimientos, asignamos el valor de 0 para los negativos y de 1 a los positivos."
   ]
  },
  {
   "cell_type": "code",
   "execution_count": 39,
   "metadata": {
    "id": "efgHIf11ifky"
   },
   "outputs": [],
   "source": [
    "neg_rev['sentiment_encoded'] = [0 for _ in range(25000)]\n",
    "pos_rev['sentiment_encoded'] = [1 for _ in range(25000)]"
   ]
  },
  {
   "cell_type": "code",
   "execution_count": 40,
   "metadata": {
    "colab": {
     "base_uri": "https://localhost:8080/",
     "height": 206
    },
    "id": "2_4MAzdZFWH2",
    "outputId": "30a64425-feea-4c9c-ef6f-5e5dab068bb4"
   },
   "outputs": [
    {
     "data": {
      "text/html": [
       "<div>\n",
       "<style scoped>\n",
       "    .dataframe tbody tr th:only-of-type {\n",
       "        vertical-align: middle;\n",
       "    }\n",
       "\n",
       "    .dataframe tbody tr th {\n",
       "        vertical-align: top;\n",
       "    }\n",
       "\n",
       "    .dataframe thead th {\n",
       "        text-align: right;\n",
       "    }\n",
       "</style>\n",
       "<table border=\"1\" class=\"dataframe\">\n",
       "  <thead>\n",
       "    <tr style=\"text-align: right;\">\n",
       "      <th></th>\n",
       "      <th>review</th>\n",
       "      <th>sentiment</th>\n",
       "      <th>review_clean</th>\n",
       "      <th>sentiment_encoded</th>\n",
       "    </tr>\n",
       "  </thead>\n",
       "  <tbody>\n",
       "    <tr>\n",
       "      <th>0</th>\n",
       "      <td>Basically there's a family where a little boy ...</td>\n",
       "      <td>negative</td>\n",
       "      <td>[basic, famili, littl, boy, jake, think, zombi...</td>\n",
       "      <td>0</td>\n",
       "    </tr>\n",
       "    <tr>\n",
       "      <th>1</th>\n",
       "      <td>This show was an amazing, fresh &amp; innovative i...</td>\n",
       "      <td>negative</td>\n",
       "      <td>[show, amaz, fresh, innov, idea, first, air, f...</td>\n",
       "      <td>0</td>\n",
       "    </tr>\n",
       "    <tr>\n",
       "      <th>2</th>\n",
       "      <td>Encouraged by the positive comments about this...</td>\n",
       "      <td>negative</td>\n",
       "      <td>[encourag, posit, comment, film, look, forward...</td>\n",
       "      <td>0</td>\n",
       "    </tr>\n",
       "    <tr>\n",
       "      <th>3</th>\n",
       "      <td>Phil the Alien is one of those quirky films wh...</td>\n",
       "      <td>negative</td>\n",
       "      <td>[phil, alien, one, quirki, film, humour, base,...</td>\n",
       "      <td>0</td>\n",
       "    </tr>\n",
       "    <tr>\n",
       "      <th>4</th>\n",
       "      <td>I saw this movie when I was about 12 when it c...</td>\n",
       "      <td>negative</td>\n",
       "      <td>[saw, movi, came, recal, scariest, scene, big,...</td>\n",
       "      <td>0</td>\n",
       "    </tr>\n",
       "  </tbody>\n",
       "</table>\n",
       "</div>"
      ],
      "text/plain": [
       "                                              review sentiment  \\\n",
       "0  Basically there's a family where a little boy ...  negative   \n",
       "1  This show was an amazing, fresh & innovative i...  negative   \n",
       "2  Encouraged by the positive comments about this...  negative   \n",
       "3  Phil the Alien is one of those quirky films wh...  negative   \n",
       "4  I saw this movie when I was about 12 when it c...  negative   \n",
       "\n",
       "                                        review_clean  sentiment_encoded  \n",
       "0  [basic, famili, littl, boy, jake, think, zombi...                  0  \n",
       "1  [show, amaz, fresh, innov, idea, first, air, f...                  0  \n",
       "2  [encourag, posit, comment, film, look, forward...                  0  \n",
       "3  [phil, alien, one, quirki, film, humour, base,...                  0  \n",
       "4  [saw, movi, came, recal, scariest, scene, big,...                  0  "
      ]
     },
     "execution_count": 40,
     "metadata": {},
     "output_type": "execute_result"
    }
   ],
   "source": [
    "neg_rev.head()"
   ]
  },
  {
   "cell_type": "code",
   "execution_count": 41,
   "metadata": {
    "colab": {
     "base_uri": "https://localhost:8080/",
     "height": 206
    },
    "id": "ZyZPvlO8P4rw",
    "outputId": "e6e801c1-8e3e-4b01-eda3-fe104f76b8de"
   },
   "outputs": [
    {
     "data": {
      "text/html": [
       "<div>\n",
       "<style scoped>\n",
       "    .dataframe tbody tr th:only-of-type {\n",
       "        vertical-align: middle;\n",
       "    }\n",
       "\n",
       "    .dataframe tbody tr th {\n",
       "        vertical-align: top;\n",
       "    }\n",
       "\n",
       "    .dataframe thead th {\n",
       "        text-align: right;\n",
       "    }\n",
       "</style>\n",
       "<table border=\"1\" class=\"dataframe\">\n",
       "  <thead>\n",
       "    <tr style=\"text-align: right;\">\n",
       "      <th></th>\n",
       "      <th>review</th>\n",
       "      <th>sentiment</th>\n",
       "      <th>review_clean</th>\n",
       "      <th>sentiment_encoded</th>\n",
       "    </tr>\n",
       "  </thead>\n",
       "  <tbody>\n",
       "    <tr>\n",
       "      <th>0</th>\n",
       "      <td>One of the other reviewers has mentioned that ...</td>\n",
       "      <td>positive</td>\n",
       "      <td>[one, review, mention, watch, oz, episod, hook...</td>\n",
       "      <td>1</td>\n",
       "    </tr>\n",
       "    <tr>\n",
       "      <th>1</th>\n",
       "      <td>A wonderful little production. &lt;br /&gt;&lt;br /&gt;The...</td>\n",
       "      <td>positive</td>\n",
       "      <td>[wonder, littl, product, film, techniqu, unass...</td>\n",
       "      <td>1</td>\n",
       "    </tr>\n",
       "    <tr>\n",
       "      <th>2</th>\n",
       "      <td>I thought this was a wonderful way to spend ti...</td>\n",
       "      <td>positive</td>\n",
       "      <td>[thought, wonder, way, spend, time, hot, summe...</td>\n",
       "      <td>1</td>\n",
       "    </tr>\n",
       "    <tr>\n",
       "      <th>3</th>\n",
       "      <td>Petter Mattei's \"Love in the Time of Money\" is...</td>\n",
       "      <td>positive</td>\n",
       "      <td>[petter, mattei, love, time, money, visual, st...</td>\n",
       "      <td>1</td>\n",
       "    </tr>\n",
       "    <tr>\n",
       "      <th>4</th>\n",
       "      <td>Probably my all-time favorite movie, a story o...</td>\n",
       "      <td>positive</td>\n",
       "      <td>[probabl, time, favorit, movi, stori, selfless...</td>\n",
       "      <td>1</td>\n",
       "    </tr>\n",
       "  </tbody>\n",
       "</table>\n",
       "</div>"
      ],
      "text/plain": [
       "                                              review sentiment  \\\n",
       "0  One of the other reviewers has mentioned that ...  positive   \n",
       "1  A wonderful little production. <br /><br />The...  positive   \n",
       "2  I thought this was a wonderful way to spend ti...  positive   \n",
       "3  Petter Mattei's \"Love in the Time of Money\" is...  positive   \n",
       "4  Probably my all-time favorite movie, a story o...  positive   \n",
       "\n",
       "                                        review_clean  sentiment_encoded  \n",
       "0  [one, review, mention, watch, oz, episod, hook...                  1  \n",
       "1  [wonder, littl, product, film, techniqu, unass...                  1  \n",
       "2  [thought, wonder, way, spend, time, hot, summe...                  1  \n",
       "3  [petter, mattei, love, time, money, visual, st...                  1  \n",
       "4  [probabl, time, favorit, movi, stori, selfless...                  1  "
      ]
     },
     "execution_count": 41,
     "metadata": {},
     "output_type": "execute_result"
    }
   ],
   "source": [
    "pos_rev.head()"
   ]
  },
  {
   "cell_type": "markdown",
   "metadata": {
    "id": "N3p12m1Yi--Y"
   },
   "source": [
    "<font size=3> Lo que sigue es dividir nuestro *data set* en conjuntos de entrenamiento y prueba. Para garantizar que haya una proporción idéntica de datos con las etiquetas 0 y 1 en ambos conjuntos, lo que hacemos es dividir por separado los *data frames* *'pos_rev'* y *'neg_rev'* en prueba y entenamiento para posteriormente unir los similares."
   ]
  },
  {
   "cell_type": "code",
   "execution_count": 42,
   "metadata": {
    "colab": {
     "base_uri": "https://localhost:8080/",
     "height": 423
    },
    "id": "BjkFbD5fS545",
    "outputId": "76a8d867-37c6-486c-f63c-1bb2c3018a1b"
   },
   "outputs": [
    {
     "data": {
      "text/html": [
       "<div>\n",
       "<style scoped>\n",
       "    .dataframe tbody tr th:only-of-type {\n",
       "        vertical-align: middle;\n",
       "    }\n",
       "\n",
       "    .dataframe tbody tr th {\n",
       "        vertical-align: top;\n",
       "    }\n",
       "\n",
       "    .dataframe thead th {\n",
       "        text-align: right;\n",
       "    }\n",
       "</style>\n",
       "<table border=\"1\" class=\"dataframe\">\n",
       "  <thead>\n",
       "    <tr style=\"text-align: right;\">\n",
       "      <th></th>\n",
       "      <th>review</th>\n",
       "      <th>sentiment</th>\n",
       "      <th>review_clean</th>\n",
       "      <th>sentiment_encoded</th>\n",
       "    </tr>\n",
       "  </thead>\n",
       "  <tbody>\n",
       "    <tr>\n",
       "      <th>21752</th>\n",
       "      <td>Another detailed work on the subject by Dr Dwi...</td>\n",
       "      <td>positive</td>\n",
       "      <td>[anoth, detail, work, subject, dr, dwivedi, ta...</td>\n",
       "      <td>1</td>\n",
       "    </tr>\n",
       "    <tr>\n",
       "      <th>7208</th>\n",
       "      <td>Although the plot was a bit sappy at times, an...</td>\n",
       "      <td>positive</td>\n",
       "      <td>[although, plot, bit, sappi, time, rush, end, ...</td>\n",
       "      <td>1</td>\n",
       "    </tr>\n",
       "    <tr>\n",
       "      <th>17058</th>\n",
       "      <td>Noni Hazlehurst, Colin Friels, Alice Garner, C...</td>\n",
       "      <td>positive</td>\n",
       "      <td>[noni, hazlehurst, colin, friel, alic, garner,...</td>\n",
       "      <td>1</td>\n",
       "    </tr>\n",
       "    <tr>\n",
       "      <th>20754</th>\n",
       "      <td>so. i was completely in love with this movie. ...</td>\n",
       "      <td>positive</td>\n",
       "      <td>[complet, love, movi, gaga, even, plot, twist,...</td>\n",
       "      <td>1</td>\n",
       "    </tr>\n",
       "    <tr>\n",
       "      <th>22505</th>\n",
       "      <td>Being someone who lists Night of the Living De...</td>\n",
       "      <td>positive</td>\n",
       "      <td>[someon, list, night, live, dead, number, thre...</td>\n",
       "      <td>1</td>\n",
       "    </tr>\n",
       "    <tr>\n",
       "      <th>...</th>\n",
       "      <td>...</td>\n",
       "      <td>...</td>\n",
       "      <td>...</td>\n",
       "      <td>...</td>\n",
       "    </tr>\n",
       "    <tr>\n",
       "      <th>18965</th>\n",
       "      <td>Yeah I watched this mini series with My Mom an...</td>\n",
       "      <td>positive</td>\n",
       "      <td>[yeah, watch, mini, seri, mom, dad, kid, one, ...</td>\n",
       "      <td>1</td>\n",
       "    </tr>\n",
       "    <tr>\n",
       "      <th>22154</th>\n",
       "      <td>I love the premise, but it's replay value is o...</td>\n",
       "      <td>positive</td>\n",
       "      <td>[love, premis, replay, valu, certain, part, op...</td>\n",
       "      <td>1</td>\n",
       "    </tr>\n",
       "    <tr>\n",
       "      <th>1253</th>\n",
       "      <td>Jeff Lieberman's \"Just Before Dawn\" is definit...</td>\n",
       "      <td>positive</td>\n",
       "      <td>[jeff, lieberman, dawn, definit, one, underr, ...</td>\n",
       "      <td>1</td>\n",
       "    </tr>\n",
       "    <tr>\n",
       "      <th>10039</th>\n",
       "      <td>I have to agree with most of the other posts. ...</td>\n",
       "      <td>positive</td>\n",
       "      <td>[agre, post, comedi, drama, lean, littl, much,...</td>\n",
       "      <td>1</td>\n",
       "    </tr>\n",
       "    <tr>\n",
       "      <th>4336</th>\n",
       "      <td>This movie is just so good! Despite Carmen Ele...</td>\n",
       "      <td>positive</td>\n",
       "      <td>[movi, good, despit, carmen, electra, one, bet...</td>\n",
       "      <td>1</td>\n",
       "    </tr>\n",
       "  </tbody>\n",
       "</table>\n",
       "<p>20000 rows × 4 columns</p>\n",
       "</div>"
      ],
      "text/plain": [
       "                                                  review sentiment  \\\n",
       "21752  Another detailed work on the subject by Dr Dwi...  positive   \n",
       "7208   Although the plot was a bit sappy at times, an...  positive   \n",
       "17058  Noni Hazlehurst, Colin Friels, Alice Garner, C...  positive   \n",
       "20754  so. i was completely in love with this movie. ...  positive   \n",
       "22505  Being someone who lists Night of the Living De...  positive   \n",
       "...                                                  ...       ...   \n",
       "18965  Yeah I watched this mini series with My Mom an...  positive   \n",
       "22154  I love the premise, but it's replay value is o...  positive   \n",
       "1253   Jeff Lieberman's \"Just Before Dawn\" is definit...  positive   \n",
       "10039  I have to agree with most of the other posts. ...  positive   \n",
       "4336   This movie is just so good! Despite Carmen Ele...  positive   \n",
       "\n",
       "                                            review_clean  sentiment_encoded  \n",
       "21752  [anoth, detail, work, subject, dr, dwivedi, ta...                  1  \n",
       "7208   [although, plot, bit, sappi, time, rush, end, ...                  1  \n",
       "17058  [noni, hazlehurst, colin, friel, alic, garner,...                  1  \n",
       "20754  [complet, love, movi, gaga, even, plot, twist,...                  1  \n",
       "22505  [someon, list, night, live, dead, number, thre...                  1  \n",
       "...                                                  ...                ...  \n",
       "18965  [yeah, watch, mini, seri, mom, dad, kid, one, ...                  1  \n",
       "22154  [love, premis, replay, valu, certain, part, op...                  1  \n",
       "1253   [jeff, lieberman, dawn, definit, one, underr, ...                  1  \n",
       "10039  [agre, post, comedi, drama, lean, littl, much,...                  1  \n",
       "4336   [movi, good, despit, carmen, electra, one, bet...                  1  \n",
       "\n",
       "[20000 rows x 4 columns]"
      ]
     },
     "execution_count": 42,
     "metadata": {},
     "output_type": "execute_result"
    }
   ],
   "source": [
    "# Creamos el conjunto de entrenamiento para las reseñas postivas\n",
    "train_pos = pos_rev.sample(frac=0.8, random_state=7)\n",
    "train_pos"
   ]
  },
  {
   "cell_type": "markdown",
   "metadata": {
    "id": "9NnYUJu3kE5T"
   },
   "source": [
    "<font size=3> Creamos una máscara con los índices de *'train_pos'* y aplicamos a los demás conjuntos, esto para simplificar la separación y grantizar las misma proporción de reseñas con las dos etiquetas en ambos conjuntos."
   ]
  },
  {
   "cell_type": "code",
   "execution_count": 43,
   "metadata": {
    "colab": {
     "base_uri": "https://localhost:8080/",
     "height": 423
    },
    "id": "y15_o8ibS51w",
    "outputId": "9d0bd8d7-7220-420f-e90b-ea5a977b1202"
   },
   "outputs": [
    {
     "data": {
      "text/html": [
       "<div>\n",
       "<style scoped>\n",
       "    .dataframe tbody tr th:only-of-type {\n",
       "        vertical-align: middle;\n",
       "    }\n",
       "\n",
       "    .dataframe tbody tr th {\n",
       "        vertical-align: top;\n",
       "    }\n",
       "\n",
       "    .dataframe thead th {\n",
       "        text-align: right;\n",
       "    }\n",
       "</style>\n",
       "<table border=\"1\" class=\"dataframe\">\n",
       "  <thead>\n",
       "    <tr style=\"text-align: right;\">\n",
       "      <th></th>\n",
       "      <th>review</th>\n",
       "      <th>sentiment</th>\n",
       "      <th>review_clean</th>\n",
       "      <th>sentiment_encoded</th>\n",
       "    </tr>\n",
       "  </thead>\n",
       "  <tbody>\n",
       "    <tr>\n",
       "      <th>6</th>\n",
       "      <td>If you like original gut wrenching laughter yo...</td>\n",
       "      <td>positive</td>\n",
       "      <td>[like, origin, gut, wrench, laughter, like, mo...</td>\n",
       "      <td>1</td>\n",
       "    </tr>\n",
       "    <tr>\n",
       "      <th>7</th>\n",
       "      <td>This a fantastic movie of three prisoners who ...</td>\n",
       "      <td>positive</td>\n",
       "      <td>[fantast, movi, three, prison, becom, famou, o...</td>\n",
       "      <td>1</td>\n",
       "    </tr>\n",
       "    <tr>\n",
       "      <th>10</th>\n",
       "      <td>After the success of Die Hard and it's sequels...</td>\n",
       "      <td>positive</td>\n",
       "      <td>[success, die, hard, sequel, surpris, realli, ...</td>\n",
       "      <td>1</td>\n",
       "    </tr>\n",
       "    <tr>\n",
       "      <th>14</th>\n",
       "      <td>'War movie' is a Hollywood genre that has been...</td>\n",
       "      <td>positive</td>\n",
       "      <td>[war, movi, hollywood, genr, done, redon, mani...</td>\n",
       "      <td>1</td>\n",
       "    </tr>\n",
       "    <tr>\n",
       "      <th>22</th>\n",
       "      <td>Preston Sturgis' THE POWER AND THE GLORY was u...</td>\n",
       "      <td>positive</td>\n",
       "      <td>[preston, sturgi, power, glori, unseen, public...</td>\n",
       "      <td>1</td>\n",
       "    </tr>\n",
       "    <tr>\n",
       "      <th>...</th>\n",
       "      <td>...</td>\n",
       "      <td>...</td>\n",
       "      <td>...</td>\n",
       "      <td>...</td>\n",
       "    </tr>\n",
       "    <tr>\n",
       "      <th>24967</th>\n",
       "      <td>I first saw this movie in the night program of...</td>\n",
       "      <td>positive</td>\n",
       "      <td>[first, saw, movi, night, program, one, favour...</td>\n",
       "      <td>1</td>\n",
       "    </tr>\n",
       "    <tr>\n",
       "      <th>24973</th>\n",
       "      <td>Having read all of the comments on this film I...</td>\n",
       "      <td>positive</td>\n",
       "      <td>[read, comment, film, still, amaz, fox, reluct...</td>\n",
       "      <td>1</td>\n",
       "    </tr>\n",
       "    <tr>\n",
       "      <th>24992</th>\n",
       "      <td>Dog Bite Dog isn't going to be for everyone, b...</td>\n",
       "      <td>positive</td>\n",
       "      <td>[dog, bite, dog, go, everyon, realli, enjoy, f...</td>\n",
       "      <td>1</td>\n",
       "    </tr>\n",
       "    <tr>\n",
       "      <th>24997</th>\n",
       "      <td>I got this one a few weeks ago and love it! It...</td>\n",
       "      <td>positive</td>\n",
       "      <td>[got, one, week, ago, love, modern, light, fil...</td>\n",
       "      <td>1</td>\n",
       "    </tr>\n",
       "    <tr>\n",
       "      <th>24999</th>\n",
       "      <td>I thought this movie did a down right good job...</td>\n",
       "      <td>positive</td>\n",
       "      <td>[thought, movi, right, good, job, creativ, ori...</td>\n",
       "      <td>1</td>\n",
       "    </tr>\n",
       "  </tbody>\n",
       "</table>\n",
       "<p>5000 rows × 4 columns</p>\n",
       "</div>"
      ],
      "text/plain": [
       "                                                  review sentiment  \\\n",
       "6      If you like original gut wrenching laughter yo...  positive   \n",
       "7      This a fantastic movie of three prisoners who ...  positive   \n",
       "10     After the success of Die Hard and it's sequels...  positive   \n",
       "14     'War movie' is a Hollywood genre that has been...  positive   \n",
       "22     Preston Sturgis' THE POWER AND THE GLORY was u...  positive   \n",
       "...                                                  ...       ...   \n",
       "24967  I first saw this movie in the night program of...  positive   \n",
       "24973  Having read all of the comments on this film I...  positive   \n",
       "24992  Dog Bite Dog isn't going to be for everyone, b...  positive   \n",
       "24997  I got this one a few weeks ago and love it! It...  positive   \n",
       "24999  I thought this movie did a down right good job...  positive   \n",
       "\n",
       "                                            review_clean  sentiment_encoded  \n",
       "6      [like, origin, gut, wrench, laughter, like, mo...                  1  \n",
       "7      [fantast, movi, three, prison, becom, famou, o...                  1  \n",
       "10     [success, die, hard, sequel, surpris, realli, ...                  1  \n",
       "14     [war, movi, hollywood, genr, done, redon, mani...                  1  \n",
       "22     [preston, sturgi, power, glori, unseen, public...                  1  \n",
       "...                                                  ...                ...  \n",
       "24967  [first, saw, movi, night, program, one, favour...                  1  \n",
       "24973  [read, comment, film, still, amaz, fox, reluct...                  1  \n",
       "24992  [dog, bite, dog, go, everyon, realli, enjoy, f...                  1  \n",
       "24997  [got, one, week, ago, love, modern, light, fil...                  1  \n",
       "24999  [thought, movi, right, good, job, creativ, ori...                  1  \n",
       "\n",
       "[5000 rows x 4 columns]"
      ]
     },
     "execution_count": 43,
     "metadata": {},
     "output_type": "execute_result"
    }
   ],
   "source": [
    "# Ordenamos los índices para optimizar el cómputo\n",
    "idx = train_pos.sort_index().index.to_list()\n",
    "# Creamos la máscara\n",
    "mask = np.array([True if x not in idx else False for x in range(25000)])\n",
    "# Aplicamos la máscara a 'pos_rev'\n",
    "test_pos = pos_rev[mask]\n",
    "test_pos"
   ]
  },
  {
   "cell_type": "code",
   "execution_count": 44,
   "metadata": {
    "colab": {
     "base_uri": "https://localhost:8080/",
     "height": 423
    },
    "id": "_fj_LmFxS5yb",
    "outputId": "fc5edd9e-2cff-4d66-ad90-61254be1633b"
   },
   "outputs": [
    {
     "data": {
      "text/html": [
       "<div>\n",
       "<style scoped>\n",
       "    .dataframe tbody tr th:only-of-type {\n",
       "        vertical-align: middle;\n",
       "    }\n",
       "\n",
       "    .dataframe tbody tr th {\n",
       "        vertical-align: top;\n",
       "    }\n",
       "\n",
       "    .dataframe thead th {\n",
       "        text-align: right;\n",
       "    }\n",
       "</style>\n",
       "<table border=\"1\" class=\"dataframe\">\n",
       "  <thead>\n",
       "    <tr style=\"text-align: right;\">\n",
       "      <th></th>\n",
       "      <th>review</th>\n",
       "      <th>sentiment</th>\n",
       "      <th>review_clean</th>\n",
       "      <th>sentiment_encoded</th>\n",
       "    </tr>\n",
       "  </thead>\n",
       "  <tbody>\n",
       "    <tr>\n",
       "      <th>0</th>\n",
       "      <td>Basically there's a family where a little boy ...</td>\n",
       "      <td>negative</td>\n",
       "      <td>[basic, famili, littl, boy, jake, think, zombi...</td>\n",
       "      <td>0</td>\n",
       "    </tr>\n",
       "    <tr>\n",
       "      <th>1</th>\n",
       "      <td>This show was an amazing, fresh &amp; innovative i...</td>\n",
       "      <td>negative</td>\n",
       "      <td>[show, amaz, fresh, innov, idea, first, air, f...</td>\n",
       "      <td>0</td>\n",
       "    </tr>\n",
       "    <tr>\n",
       "      <th>2</th>\n",
       "      <td>Encouraged by the positive comments about this...</td>\n",
       "      <td>negative</td>\n",
       "      <td>[encourag, posit, comment, film, look, forward...</td>\n",
       "      <td>0</td>\n",
       "    </tr>\n",
       "    <tr>\n",
       "      <th>3</th>\n",
       "      <td>Phil the Alien is one of those quirky films wh...</td>\n",
       "      <td>negative</td>\n",
       "      <td>[phil, alien, one, quirki, film, humour, base,...</td>\n",
       "      <td>0</td>\n",
       "    </tr>\n",
       "    <tr>\n",
       "      <th>4</th>\n",
       "      <td>I saw this movie when I was about 12 when it c...</td>\n",
       "      <td>negative</td>\n",
       "      <td>[saw, movi, came, recal, scariest, scene, big,...</td>\n",
       "      <td>0</td>\n",
       "    </tr>\n",
       "    <tr>\n",
       "      <th>...</th>\n",
       "      <td>...</td>\n",
       "      <td>...</td>\n",
       "      <td>...</td>\n",
       "      <td>...</td>\n",
       "    </tr>\n",
       "    <tr>\n",
       "      <th>24993</th>\n",
       "      <td>Les Visiteurs, the first movie about the medie...</td>\n",
       "      <td>negative</td>\n",
       "      <td>[le, visiteur, first, movi, mediev, time, trav...</td>\n",
       "      <td>0</td>\n",
       "    </tr>\n",
       "    <tr>\n",
       "      <th>24994</th>\n",
       "      <td>Robert Colomb has two full-time jobs. He's kno...</td>\n",
       "      <td>negative</td>\n",
       "      <td>[robert, colomb, two, full, time, job, known, ...</td>\n",
       "      <td>0</td>\n",
       "    </tr>\n",
       "    <tr>\n",
       "      <th>24995</th>\n",
       "      <td>This is your typical junk comedy.&lt;br /&gt;&lt;br /&gt;T...</td>\n",
       "      <td>negative</td>\n",
       "      <td>[typic, junk, comedi, almost, laugh, genuin, m...</td>\n",
       "      <td>0</td>\n",
       "    </tr>\n",
       "    <tr>\n",
       "      <th>24996</th>\n",
       "      <td>Bad plot, bad dialogue, bad acting, idiotic di...</td>\n",
       "      <td>negative</td>\n",
       "      <td>[bad, plot, bad, dialogu, bad, act, idiot, dir...</td>\n",
       "      <td>0</td>\n",
       "    </tr>\n",
       "    <tr>\n",
       "      <th>24998</th>\n",
       "      <td>I'm going to have to disagree with the previou...</td>\n",
       "      <td>negative</td>\n",
       "      <td>[go, disagre, previou, comment, side, maltin, ...</td>\n",
       "      <td>0</td>\n",
       "    </tr>\n",
       "  </tbody>\n",
       "</table>\n",
       "<p>20000 rows × 4 columns</p>\n",
       "</div>"
      ],
      "text/plain": [
       "                                                  review sentiment  \\\n",
       "0      Basically there's a family where a little boy ...  negative   \n",
       "1      This show was an amazing, fresh & innovative i...  negative   \n",
       "2      Encouraged by the positive comments about this...  negative   \n",
       "3      Phil the Alien is one of those quirky films wh...  negative   \n",
       "4      I saw this movie when I was about 12 when it c...  negative   \n",
       "...                                                  ...       ...   \n",
       "24993  Les Visiteurs, the first movie about the medie...  negative   \n",
       "24994  Robert Colomb has two full-time jobs. He's kno...  negative   \n",
       "24995  This is your typical junk comedy.<br /><br />T...  negative   \n",
       "24996  Bad plot, bad dialogue, bad acting, idiotic di...  negative   \n",
       "24998  I'm going to have to disagree with the previou...  negative   \n",
       "\n",
       "                                            review_clean  sentiment_encoded  \n",
       "0      [basic, famili, littl, boy, jake, think, zombi...                  0  \n",
       "1      [show, amaz, fresh, innov, idea, first, air, f...                  0  \n",
       "2      [encourag, posit, comment, film, look, forward...                  0  \n",
       "3      [phil, alien, one, quirki, film, humour, base,...                  0  \n",
       "4      [saw, movi, came, recal, scariest, scene, big,...                  0  \n",
       "...                                                  ...                ...  \n",
       "24993  [le, visiteur, first, movi, mediev, time, trav...                  0  \n",
       "24994  [robert, colomb, two, full, time, job, known, ...                  0  \n",
       "24995  [typic, junk, comedi, almost, laugh, genuin, m...                  0  \n",
       "24996  [bad, plot, bad, dialogu, bad, act, idiot, dir...                  0  \n",
       "24998  [go, disagre, previou, comment, side, maltin, ...                  0  \n",
       "\n",
       "[20000 rows x 4 columns]"
      ]
     },
     "execution_count": 44,
     "metadata": {},
     "output_type": "execute_result"
    }
   ],
   "source": [
    "# Aplicamos el complemento de la máscara  a 'neg_rev'\n",
    "train_neg = neg_rev[~mask]\n",
    "train_neg"
   ]
  },
  {
   "cell_type": "code",
   "execution_count": 45,
   "metadata": {
    "colab": {
     "base_uri": "https://localhost:8080/",
     "height": 423
    },
    "id": "TnQhplkSS5ah",
    "outputId": "3171503a-6c63-4257-947b-c67d97587880"
   },
   "outputs": [
    {
     "data": {
      "text/html": [
       "<div>\n",
       "<style scoped>\n",
       "    .dataframe tbody tr th:only-of-type {\n",
       "        vertical-align: middle;\n",
       "    }\n",
       "\n",
       "    .dataframe tbody tr th {\n",
       "        vertical-align: top;\n",
       "    }\n",
       "\n",
       "    .dataframe thead th {\n",
       "        text-align: right;\n",
       "    }\n",
       "</style>\n",
       "<table border=\"1\" class=\"dataframe\">\n",
       "  <thead>\n",
       "    <tr style=\"text-align: right;\">\n",
       "      <th></th>\n",
       "      <th>review</th>\n",
       "      <th>sentiment</th>\n",
       "      <th>review_clean</th>\n",
       "      <th>sentiment_encoded</th>\n",
       "    </tr>\n",
       "  </thead>\n",
       "  <tbody>\n",
       "    <tr>\n",
       "      <th>6</th>\n",
       "      <td>The cast played Shakespeare.&lt;br /&gt;&lt;br /&gt;Shakes...</td>\n",
       "      <td>negative</td>\n",
       "      <td>[cast, play, shakespear, shakespear, lost, app...</td>\n",
       "      <td>0</td>\n",
       "    </tr>\n",
       "    <tr>\n",
       "      <th>7</th>\n",
       "      <td>Kind of drawn in by the erotic scenes, only to...</td>\n",
       "      <td>negative</td>\n",
       "      <td>[kind, drawn, erot, scene, realiz, one, amateu...</td>\n",
       "      <td>0</td>\n",
       "    </tr>\n",
       "    <tr>\n",
       "      <th>10</th>\n",
       "      <td>I had the terrible misfortune of having to vie...</td>\n",
       "      <td>negative</td>\n",
       "      <td>[terribl, misfortun, view, b, movi, entireti, ...</td>\n",
       "      <td>0</td>\n",
       "    </tr>\n",
       "    <tr>\n",
       "      <th>14</th>\n",
       "      <td>This movie was so frustrating. Everything seem...</td>\n",
       "      <td>negative</td>\n",
       "      <td>[movi, frustrat, everyth, seem, energet, total...</td>\n",
       "      <td>0</td>\n",
       "    </tr>\n",
       "    <tr>\n",
       "      <th>22</th>\n",
       "      <td>Of all the films I have seen, this one, The Ra...</td>\n",
       "      <td>negative</td>\n",
       "      <td>[film, seen, one, rage, got, one, worst, yet, ...</td>\n",
       "      <td>0</td>\n",
       "    </tr>\n",
       "    <tr>\n",
       "      <th>...</th>\n",
       "      <td>...</td>\n",
       "      <td>...</td>\n",
       "      <td>...</td>\n",
       "      <td>...</td>\n",
       "    </tr>\n",
       "    <tr>\n",
       "      <th>24967</th>\n",
       "      <td>This was a very brief episode that appeared in...</td>\n",
       "      <td>negative</td>\n",
       "      <td>[brief, episod, appear, one, night, galleri, s...</td>\n",
       "      <td>0</td>\n",
       "    </tr>\n",
       "    <tr>\n",
       "      <th>24973</th>\n",
       "      <td>My thoughts on the movie, 9&lt;br /&gt;&lt;br /&gt;It was ...</td>\n",
       "      <td>negative</td>\n",
       "      <td>[thought, movi, good, good, visual, great, ple...</td>\n",
       "      <td>0</td>\n",
       "    </tr>\n",
       "    <tr>\n",
       "      <th>24992</th>\n",
       "      <td>Lame, lame, lame!!! A 90-minute cringe-fest th...</td>\n",
       "      <td>negative</td>\n",
       "      <td>[lame, lame, lame, minut, cring, fest, minut, ...</td>\n",
       "      <td>0</td>\n",
       "    </tr>\n",
       "    <tr>\n",
       "      <th>24997</th>\n",
       "      <td>I am a Catholic taught in parochial elementary...</td>\n",
       "      <td>negative</td>\n",
       "      <td>[cathol, taught, parochi, elementari, school, ...</td>\n",
       "      <td>0</td>\n",
       "    </tr>\n",
       "    <tr>\n",
       "      <th>24999</th>\n",
       "      <td>No one expects the Star Trek movies to be high...</td>\n",
       "      <td>negative</td>\n",
       "      <td>[one, expect, star, trek, movi, high, art, fan...</td>\n",
       "      <td>0</td>\n",
       "    </tr>\n",
       "  </tbody>\n",
       "</table>\n",
       "<p>5000 rows × 4 columns</p>\n",
       "</div>"
      ],
      "text/plain": [
       "                                                  review sentiment  \\\n",
       "6      The cast played Shakespeare.<br /><br />Shakes...  negative   \n",
       "7      Kind of drawn in by the erotic scenes, only to...  negative   \n",
       "10     I had the terrible misfortune of having to vie...  negative   \n",
       "14     This movie was so frustrating. Everything seem...  negative   \n",
       "22     Of all the films I have seen, this one, The Ra...  negative   \n",
       "...                                                  ...       ...   \n",
       "24967  This was a very brief episode that appeared in...  negative   \n",
       "24973  My thoughts on the movie, 9<br /><br />It was ...  negative   \n",
       "24992  Lame, lame, lame!!! A 90-minute cringe-fest th...  negative   \n",
       "24997  I am a Catholic taught in parochial elementary...  negative   \n",
       "24999  No one expects the Star Trek movies to be high...  negative   \n",
       "\n",
       "                                            review_clean  sentiment_encoded  \n",
       "6      [cast, play, shakespear, shakespear, lost, app...                  0  \n",
       "7      [kind, drawn, erot, scene, realiz, one, amateu...                  0  \n",
       "10     [terribl, misfortun, view, b, movi, entireti, ...                  0  \n",
       "14     [movi, frustrat, everyth, seem, energet, total...                  0  \n",
       "22     [film, seen, one, rage, got, one, worst, yet, ...                  0  \n",
       "...                                                  ...                ...  \n",
       "24967  [brief, episod, appear, one, night, galleri, s...                  0  \n",
       "24973  [thought, movi, good, good, visual, great, ple...                  0  \n",
       "24992  [lame, lame, lame, minut, cring, fest, minut, ...                  0  \n",
       "24997  [cathol, taught, parochi, elementari, school, ...                  0  \n",
       "24999  [one, expect, star, trek, movi, high, art, fan...                  0  \n",
       "\n",
       "[5000 rows x 4 columns]"
      ]
     },
     "execution_count": 45,
     "metadata": {},
     "output_type": "execute_result"
    }
   ],
   "source": [
    "# Aplicamos la máscara a 'neg_rev'\n",
    "test_neg = neg_rev[mask]\n",
    "test_neg"
   ]
  },
  {
   "cell_type": "markdown",
   "metadata": {
    "id": "R2PM9LhflTnO"
   },
   "source": [
    "<font size=3> Para entrenar el modelo vamos a realizar una aproximación frecuentista, es decir, los valores con los que vamos a alimentar el algoritmo representan las veces que cada palabra se encontró en las reseñas positivas y negativas. Dicho esto, creamos nuevamente los *'corpus'* y los diccionarios de frecuencias correspondientes. "
   ]
  },
  {
   "cell_type": "code",
   "execution_count": 46,
   "metadata": {
    "id": "fJbzLyZwH34y"
   },
   "outputs": [],
   "source": [
    "# Creamos los corpus para ambas etiquetas con los datos de entrenamiento\n",
    "train_neg_corpus = [words[i] for words in train_neg.review_clean for i in range(len(words))]\n",
    "train_pos_corpus = [words[i] for words in train_pos.review_clean for i in range(len(words))] "
   ]
  },
  {
   "cell_type": "code",
   "execution_count": 47,
   "metadata": {
    "colab": {
     "base_uri": "https://localhost:8080/"
    },
    "id": "OGhu24XmIFgI",
    "outputId": "26d13688-f71f-48b1-e241-80afda04b514"
   },
   "outputs": [
    {
     "name": "stdout",
     "output_type": "stream",
     "text": [
      "Longitud del corpus positivo:\t 2397697\n",
      "\n",
      "Longitud del corpus negativo: \t 2341733\n"
     ]
    }
   ],
   "source": [
    "print('Longitud del corpus positivo:\\t', len(train_pos_corpus))\n",
    "print('\\nLongitud del corpus negativo: \\t', len(train_neg_corpus))"
   ]
  },
  {
   "cell_type": "code",
   "execution_count": 48,
   "metadata": {
    "id": "QRKEfy6AM8Ow"
   },
   "outputs": [],
   "source": [
    "# Creamos nuevamente los diccionarios de frecuencias\n",
    "neg_freq = nltk.FreqDist(train_neg_corpus)\n",
    "pos_freq = nltk.FreqDist(train_pos_corpus)"
   ]
  },
  {
   "cell_type": "code",
   "execution_count": 49,
   "metadata": {},
   "outputs": [
    {
     "data": {
      "text/plain": [
       "44488"
      ]
     },
     "execution_count": 49,
     "metadata": {},
     "output_type": "execute_result"
    }
   ],
   "source": [
    "len(neg_freq.values())"
   ]
  },
  {
   "cell_type": "markdown",
   "metadata": {
    "id": "0V1gKcMFmqLh"
   },
   "source": [
    "<font size=3> Finalmente unimos los conjuntos positivos y negativos para entrenamiento y prueba."
   ]
  },
  {
   "cell_type": "code",
   "execution_count": 50,
   "metadata": {
    "id": "-bo-xlQDTz8P"
   },
   "outputs": [],
   "source": [
    "data_train = pd.concat([train_neg,train_pos],ignore_index=True)\n",
    "data_test = pd.concat([test_neg,test_pos],ignore_index=True)"
   ]
  },
  {
   "cell_type": "markdown",
   "metadata": {
    "id": "EwxXWd7Am79g"
   },
   "source": [
    "Y para no sesgar el algoritmo, mezclamos el orden."
   ]
  },
  {
   "cell_type": "code",
   "execution_count": 51,
   "metadata": {
    "id": "4TojjAtrTz5V"
   },
   "outputs": [],
   "source": [
    "data_train = data_train.sample(frac=1)\n",
    "data_test = data_test.sample(frac=1)"
   ]
  },
  {
   "cell_type": "code",
   "execution_count": 52,
   "metadata": {
    "colab": {
     "base_uri": "https://localhost:8080/",
     "height": 206
    },
    "id": "axfgTRzenOUZ",
    "outputId": "fe1a8493-bd9d-469d-9bc7-7cd3876c866b"
   },
   "outputs": [
    {
     "data": {
      "text/html": [
       "<div>\n",
       "<style scoped>\n",
       "    .dataframe tbody tr th:only-of-type {\n",
       "        vertical-align: middle;\n",
       "    }\n",
       "\n",
       "    .dataframe tbody tr th {\n",
       "        vertical-align: top;\n",
       "    }\n",
       "\n",
       "    .dataframe thead th {\n",
       "        text-align: right;\n",
       "    }\n",
       "</style>\n",
       "<table border=\"1\" class=\"dataframe\">\n",
       "  <thead>\n",
       "    <tr style=\"text-align: right;\">\n",
       "      <th></th>\n",
       "      <th>review</th>\n",
       "      <th>sentiment</th>\n",
       "      <th>review_clean</th>\n",
       "      <th>sentiment_encoded</th>\n",
       "    </tr>\n",
       "  </thead>\n",
       "  <tbody>\n",
       "    <tr>\n",
       "      <th>24651</th>\n",
       "      <td>Bette Midler is again Divine! Raunchily humoro...</td>\n",
       "      <td>positive</td>\n",
       "      <td>[bett, midler, divin, raunchili, humor, love, ...</td>\n",
       "      <td>1</td>\n",
       "    </tr>\n",
       "    <tr>\n",
       "      <th>5136</th>\n",
       "      <td>The films of the Science Fiction Channel ( Sci...</td>\n",
       "      <td>negative</td>\n",
       "      <td>[film, scienc, fiction, channel, sci, fi, chan...</td>\n",
       "      <td>0</td>\n",
       "    </tr>\n",
       "    <tr>\n",
       "      <th>35638</th>\n",
       "      <td>Human Traffic is a view into an average weeken...</td>\n",
       "      <td>positive</td>\n",
       "      <td>[human, traffic, view, averag, weekend, group,...</td>\n",
       "      <td>1</td>\n",
       "    </tr>\n",
       "    <tr>\n",
       "      <th>16478</th>\n",
       "      <td>I've spent quite a while going through all the...</td>\n",
       "      <td>negative</td>\n",
       "      <td>[spent, quit, go, review, film, total, agreeme...</td>\n",
       "      <td>0</td>\n",
       "    </tr>\n",
       "    <tr>\n",
       "      <th>32117</th>\n",
       "      <td>A true masterpiece of the Soviet cinematograph...</td>\n",
       "      <td>positive</td>\n",
       "      <td>[true, masterpiec, soviet, cinematographi, sha...</td>\n",
       "      <td>1</td>\n",
       "    </tr>\n",
       "  </tbody>\n",
       "</table>\n",
       "</div>"
      ],
      "text/plain": [
       "                                                  review sentiment  \\\n",
       "24651  Bette Midler is again Divine! Raunchily humoro...  positive   \n",
       "5136   The films of the Science Fiction Channel ( Sci...  negative   \n",
       "35638  Human Traffic is a view into an average weeken...  positive   \n",
       "16478  I've spent quite a while going through all the...  negative   \n",
       "32117  A true masterpiece of the Soviet cinematograph...  positive   \n",
       "\n",
       "                                            review_clean  sentiment_encoded  \n",
       "24651  [bett, midler, divin, raunchili, humor, love, ...                  1  \n",
       "5136   [film, scienc, fiction, channel, sci, fi, chan...                  0  \n",
       "35638  [human, traffic, view, averag, weekend, group,...                  1  \n",
       "16478  [spent, quit, go, review, film, total, agreeme...                  0  \n",
       "32117  [true, masterpiec, soviet, cinematographi, sha...                  1  "
      ]
     },
     "execution_count": 52,
     "metadata": {},
     "output_type": "execute_result"
    }
   ],
   "source": [
    "data_train.head()"
   ]
  },
  {
   "cell_type": "code",
   "execution_count": 53,
   "metadata": {
    "colab": {
     "base_uri": "https://localhost:8080/",
     "height": 206
    },
    "id": "UPcn7ZKunO6r",
    "outputId": "7699c4b8-79c6-48c6-ac01-60af11c0cfd2"
   },
   "outputs": [
    {
     "data": {
      "text/html": [
       "<div>\n",
       "<style scoped>\n",
       "    .dataframe tbody tr th:only-of-type {\n",
       "        vertical-align: middle;\n",
       "    }\n",
       "\n",
       "    .dataframe tbody tr th {\n",
       "        vertical-align: top;\n",
       "    }\n",
       "\n",
       "    .dataframe thead th {\n",
       "        text-align: right;\n",
       "    }\n",
       "</style>\n",
       "<table border=\"1\" class=\"dataframe\">\n",
       "  <thead>\n",
       "    <tr style=\"text-align: right;\">\n",
       "      <th></th>\n",
       "      <th>review</th>\n",
       "      <th>sentiment</th>\n",
       "      <th>review_clean</th>\n",
       "      <th>sentiment_encoded</th>\n",
       "    </tr>\n",
       "  </thead>\n",
       "  <tbody>\n",
       "    <tr>\n",
       "      <th>9478</th>\n",
       "      <td>Elia Kazan, one of the best theater directors ...</td>\n",
       "      <td>positive</td>\n",
       "      <td>[elia, kazan, one, best, theater, director, co...</td>\n",
       "      <td>1</td>\n",
       "    </tr>\n",
       "    <tr>\n",
       "      <th>441</th>\n",
       "      <td>I'll admit I've only watched a handful of epis...</td>\n",
       "      <td>negative</td>\n",
       "      <td>[admit, watch, hand, episod, one, seem, comple...</td>\n",
       "      <td>0</td>\n",
       "    </tr>\n",
       "    <tr>\n",
       "      <th>8996</th>\n",
       "      <td>It's not surprising that the majority of highe...</td>\n",
       "      <td>positive</td>\n",
       "      <td>[surpris, major, higher, rate, vote, submit, f...</td>\n",
       "      <td>1</td>\n",
       "    </tr>\n",
       "    <tr>\n",
       "      <th>8215</th>\n",
       "      <td>I watched this movie probably more than 20 tim...</td>\n",
       "      <td>positive</td>\n",
       "      <td>[watch, movi, probabl, time, joke, year, old, ...</td>\n",
       "      <td>1</td>\n",
       "    </tr>\n",
       "    <tr>\n",
       "      <th>2493</th>\n",
       "      <td>ultra cheezy soundtrack. vinnie tries really h...</td>\n",
       "      <td>negative</td>\n",
       "      <td>[ultra, cheezi, soundtrack, vinni, tri, realli...</td>\n",
       "      <td>0</td>\n",
       "    </tr>\n",
       "  </tbody>\n",
       "</table>\n",
       "</div>"
      ],
      "text/plain": [
       "                                                 review sentiment  \\\n",
       "9478  Elia Kazan, one of the best theater directors ...  positive   \n",
       "441   I'll admit I've only watched a handful of epis...  negative   \n",
       "8996  It's not surprising that the majority of highe...  positive   \n",
       "8215  I watched this movie probably more than 20 tim...  positive   \n",
       "2493  ultra cheezy soundtrack. vinnie tries really h...  negative   \n",
       "\n",
       "                                           review_clean  sentiment_encoded  \n",
       "9478  [elia, kazan, one, best, theater, director, co...                  1  \n",
       "441   [admit, watch, hand, episod, one, seem, comple...                  0  \n",
       "8996  [surpris, major, higher, rate, vote, submit, f...                  1  \n",
       "8215  [watch, movi, probabl, time, joke, year, old, ...                  1  \n",
       "2493  [ultra, cheezi, soundtrack, vinni, tri, realli...                  0  "
      ]
     },
     "execution_count": 53,
     "metadata": {},
     "output_type": "execute_result"
    }
   ],
   "source": [
    "data_test.head()"
   ]
  },
  {
   "cell_type": "markdown",
   "metadata": {
    "id": "Aw2-9jrBnW7A"
   },
   "source": [
    "<font size=3> Lo que sigue es traducir el texto a números de forma que el algoritmo pueda leerlo, así que creamos la función *'vectorize_review'*, la cual a cada palabra la convierte en un vector con entradas iguales a la frecuencia con que se encuentran en cada *corpus* y la suma de esos vectores representan el vector asociado a cada reseña."
   ]
  },
  {
   "cell_type": "code",
   "execution_count": 54,
   "metadata": {
    "id": "DLg8Y7h4NLeE"
   },
   "outputs": [],
   "source": [
    "def vectorize_review(review):\n",
    "  #Creamos un vector de 3 entradas\n",
    "  x = np.zeros((1,3))\n",
    "  # primera entrada igual a 1\n",
    "  x[0,0] = 1 \n",
    "  for word in review:\n",
    "    # Segunda entrada es la suma de la frecuencias de cada palabra positiva en la reseña\n",
    "    x[0,1] += pos_freq.get(word,0)\n",
    "    # Tercera entrada es la suma de las frecuencias de cada palabra negativa en la reseña\n",
    "    x[0,2] += neg_freq.get(word,0)\n",
    "  return x"
   ]
  },
  {
   "cell_type": "code",
   "execution_count": 55,
   "metadata": {
    "colab": {
     "base_uri": "https://localhost:8080/"
    },
    "id": "f-KQLUr4TaL0",
    "outputId": "b6bdcadb-2c8b-46e8-cee7-d5b592c2adab"
   },
   "outputs": [
    {
     "data": {
      "text/html": [
       "<div>\n",
       "<style scoped>\n",
       "    .dataframe tbody tr th:only-of-type {\n",
       "        vertical-align: middle;\n",
       "    }\n",
       "\n",
       "    .dataframe tbody tr th {\n",
       "        vertical-align: top;\n",
       "    }\n",
       "\n",
       "    .dataframe thead th {\n",
       "        text-align: right;\n",
       "    }\n",
       "</style>\n",
       "<table border=\"1\" class=\"dataframe\">\n",
       "  <thead>\n",
       "    <tr style=\"text-align: right;\">\n",
       "      <th></th>\n",
       "      <th>review</th>\n",
       "      <th>sentiment</th>\n",
       "      <th>review_clean</th>\n",
       "      <th>sentiment_encoded</th>\n",
       "      <th>review_vectorized</th>\n",
       "    </tr>\n",
       "  </thead>\n",
       "  <tbody>\n",
       "    <tr>\n",
       "      <th>24651</th>\n",
       "      <td>Bette Midler is again Divine! Raunchily humoro...</td>\n",
       "      <td>positive</td>\n",
       "      <td>[bett, midler, divin, raunchili, humor, love, ...</td>\n",
       "      <td>1</td>\n",
       "      <td>[[1.0, 138081.0, 122881.0]]</td>\n",
       "    </tr>\n",
       "    <tr>\n",
       "      <th>5136</th>\n",
       "      <td>The films of the Science Fiction Channel ( Sci...</td>\n",
       "      <td>negative</td>\n",
       "      <td>[film, scienc, fiction, channel, sci, fi, chan...</td>\n",
       "      <td>0</td>\n",
       "      <td>[[1.0, 466536.0, 496520.0]]</td>\n",
       "    </tr>\n",
       "    <tr>\n",
       "      <th>35638</th>\n",
       "      <td>Human Traffic is a view into an average weeken...</td>\n",
       "      <td>positive</td>\n",
       "      <td>[human, traffic, view, averag, weekend, group,...</td>\n",
       "      <td>1</td>\n",
       "      <td>[[1.0, 604599.0, 589978.0]]</td>\n",
       "    </tr>\n",
       "    <tr>\n",
       "      <th>16478</th>\n",
       "      <td>I've spent quite a while going through all the...</td>\n",
       "      <td>negative</td>\n",
       "      <td>[spent, quit, go, review, film, total, agreeme...</td>\n",
       "      <td>0</td>\n",
       "      <td>[[1.0, 370117.0, 398596.0]]</td>\n",
       "    </tr>\n",
       "    <tr>\n",
       "      <th>32117</th>\n",
       "      <td>A true masterpiece of the Soviet cinematograph...</td>\n",
       "      <td>positive</td>\n",
       "      <td>[true, masterpiec, soviet, cinematographi, sha...</td>\n",
       "      <td>1</td>\n",
       "      <td>[[1.0, 277222.0, 288971.0]]</td>\n",
       "    </tr>\n",
       "  </tbody>\n",
       "</table>\n",
       "</div>"
      ],
      "text/plain": [
       "                                                  review sentiment  \\\n",
       "24651  Bette Midler is again Divine! Raunchily humoro...  positive   \n",
       "5136   The films of the Science Fiction Channel ( Sci...  negative   \n",
       "35638  Human Traffic is a view into an average weeken...  positive   \n",
       "16478  I've spent quite a while going through all the...  negative   \n",
       "32117  A true masterpiece of the Soviet cinematograph...  positive   \n",
       "\n",
       "                                            review_clean  sentiment_encoded  \\\n",
       "24651  [bett, midler, divin, raunchili, humor, love, ...                  1   \n",
       "5136   [film, scienc, fiction, channel, sci, fi, chan...                  0   \n",
       "35638  [human, traffic, view, averag, weekend, group,...                  1   \n",
       "16478  [spent, quit, go, review, film, total, agreeme...                  0   \n",
       "32117  [true, masterpiec, soviet, cinematographi, sha...                  1   \n",
       "\n",
       "                 review_vectorized  \n",
       "24651  [[1.0, 138081.0, 122881.0]]  \n",
       "5136   [[1.0, 466536.0, 496520.0]]  \n",
       "35638  [[1.0, 604599.0, 589978.0]]  \n",
       "16478  [[1.0, 370117.0, 398596.0]]  \n",
       "32117  [[1.0, 277222.0, 288971.0]]  "
      ]
     },
     "execution_count": 55,
     "metadata": {},
     "output_type": "execute_result"
    }
   ],
   "source": [
    "# Aplicamos la función a 'data_train'\n",
    "data_train['review_vectorized'] = data_train.review_clean.apply(vectorize_review)\n",
    "data_train.head() "
   ]
  },
  {
   "cell_type": "code",
   "execution_count": 56,
   "metadata": {
    "colab": {
     "base_uri": "https://localhost:8080/"
    },
    "id": "Z2lZdcb4Tzgi",
    "outputId": "11b8bdaf-c3cb-4ff1-ba6d-6ddb60157948"
   },
   "outputs": [
    {
     "data": {
      "text/html": [
       "<div>\n",
       "<style scoped>\n",
       "    .dataframe tbody tr th:only-of-type {\n",
       "        vertical-align: middle;\n",
       "    }\n",
       "\n",
       "    .dataframe tbody tr th {\n",
       "        vertical-align: top;\n",
       "    }\n",
       "\n",
       "    .dataframe thead th {\n",
       "        text-align: right;\n",
       "    }\n",
       "</style>\n",
       "<table border=\"1\" class=\"dataframe\">\n",
       "  <thead>\n",
       "    <tr style=\"text-align: right;\">\n",
       "      <th></th>\n",
       "      <th>review</th>\n",
       "      <th>sentiment</th>\n",
       "      <th>review_clean</th>\n",
       "      <th>sentiment_encoded</th>\n",
       "      <th>review_vectorized</th>\n",
       "    </tr>\n",
       "  </thead>\n",
       "  <tbody>\n",
       "    <tr>\n",
       "      <th>9478</th>\n",
       "      <td>Elia Kazan, one of the best theater directors ...</td>\n",
       "      <td>positive</td>\n",
       "      <td>[elia, kazan, one, best, theater, director, co...</td>\n",
       "      <td>1</td>\n",
       "      <td>[[1.0, 1057411.0, 1019314.0]]</td>\n",
       "    </tr>\n",
       "    <tr>\n",
       "      <th>441</th>\n",
       "      <td>I'll admit I've only watched a handful of epis...</td>\n",
       "      <td>negative</td>\n",
       "      <td>[admit, watch, hand, episod, one, seem, comple...</td>\n",
       "      <td>0</td>\n",
       "      <td>[[1.0, 344539.0, 346473.0]]</td>\n",
       "    </tr>\n",
       "    <tr>\n",
       "      <th>8996</th>\n",
       "      <td>It's not surprising that the majority of highe...</td>\n",
       "      <td>positive</td>\n",
       "      <td>[surpris, major, higher, rate, vote, submit, f...</td>\n",
       "      <td>1</td>\n",
       "      <td>[[1.0, 122224.0, 109537.0]]</td>\n",
       "    </tr>\n",
       "    <tr>\n",
       "      <th>8215</th>\n",
       "      <td>I watched this movie probably more than 20 tim...</td>\n",
       "      <td>positive</td>\n",
       "      <td>[watch, movi, probabl, time, joke, year, old, ...</td>\n",
       "      <td>1</td>\n",
       "      <td>[[1.0, 385343.0, 446648.0]]</td>\n",
       "    </tr>\n",
       "    <tr>\n",
       "      <th>2493</th>\n",
       "      <td>ultra cheezy soundtrack. vinnie tries really h...</td>\n",
       "      <td>negative</td>\n",
       "      <td>[ultra, cheezi, soundtrack, vinni, tri, realli...</td>\n",
       "      <td>0</td>\n",
       "      <td>[[1.0, 98408.0, 124312.0]]</td>\n",
       "    </tr>\n",
       "  </tbody>\n",
       "</table>\n",
       "</div>"
      ],
      "text/plain": [
       "                                                 review sentiment  \\\n",
       "9478  Elia Kazan, one of the best theater directors ...  positive   \n",
       "441   I'll admit I've only watched a handful of epis...  negative   \n",
       "8996  It's not surprising that the majority of highe...  positive   \n",
       "8215  I watched this movie probably more than 20 tim...  positive   \n",
       "2493  ultra cheezy soundtrack. vinnie tries really h...  negative   \n",
       "\n",
       "                                           review_clean  sentiment_encoded  \\\n",
       "9478  [elia, kazan, one, best, theater, director, co...                  1   \n",
       "441   [admit, watch, hand, episod, one, seem, comple...                  0   \n",
       "8996  [surpris, major, higher, rate, vote, submit, f...                  1   \n",
       "8215  [watch, movi, probabl, time, joke, year, old, ...                  1   \n",
       "2493  [ultra, cheezi, soundtrack, vinni, tri, realli...                  0   \n",
       "\n",
       "                  review_vectorized  \n",
       "9478  [[1.0, 1057411.0, 1019314.0]]  \n",
       "441     [[1.0, 344539.0, 346473.0]]  \n",
       "8996    [[1.0, 122224.0, 109537.0]]  \n",
       "8215    [[1.0, 385343.0, 446648.0]]  \n",
       "2493     [[1.0, 98408.0, 124312.0]]  "
      ]
     },
     "execution_count": 56,
     "metadata": {},
     "output_type": "execute_result"
    }
   ],
   "source": [
    "# Aplicamos la función a 'data_test'\n",
    "data_test['review_vectorized'] = data_test.review_clean.apply(vectorize_review)\n",
    "data_test.head() "
   ]
  },
  {
   "cell_type": "markdown",
   "metadata": {
    "id": "_Xwg8McOpqUs"
   },
   "source": [
    "<font size=3> Definimos el *'target'* como el sentimiento codificado y los *'features'* como la reseña vectorizada."
   ]
  },
  {
   "cell_type": "code",
   "execution_count": 57,
   "metadata": {
    "id": "CMFkLrqfTzcP"
   },
   "outputs": [],
   "source": [
    "y_train = data_train.sentiment_encoded\n",
    "y_test = data_test.sentiment_encoded"
   ]
  },
  {
   "cell_type": "markdown",
   "metadata": {
    "id": "HFZR2jQFq5Vh"
   },
   "source": [
    "<font size=3> Separamos la reseña vectorizada en cada una de sus entradas en los conjuntos de entrenamiento y prueba, y validamos."
   ]
  },
  {
   "cell_type": "code",
   "execution_count": 58,
   "metadata": {
    "id": "H-y_xA_EUzOf"
   },
   "outputs": [],
   "source": [
    "x_train = np.array([*data_train.review_vectorized])\n",
    "x_test = np.array([*data_test.review_vectorized])"
   ]
  },
  {
   "cell_type": "code",
   "execution_count": 59,
   "metadata": {},
   "outputs": [],
   "source": [
    "x_train = np.squeeze(x_train)\n",
    "x_test = np.squeeze(x_test)"
   ]
  },
  {
   "cell_type": "code",
   "execution_count": 60,
   "metadata": {
    "colab": {
     "base_uri": "https://localhost:8080/"
    },
    "id": "aHv6g9AhUy6q",
    "outputId": "4dd2da70-1583-4d0f-e971-6b9c3d32f708"
   },
   "outputs": [
    {
     "data": {
      "text/plain": [
       "array([[1.00000e+00, 1.38081e+05, 1.22881e+05],\n",
       "       [1.00000e+00, 4.66536e+05, 4.96520e+05],\n",
       "       [1.00000e+00, 6.04599e+05, 5.89978e+05],\n",
       "       [1.00000e+00, 3.70117e+05, 3.98596e+05],\n",
       "       [1.00000e+00, 2.77222e+05, 2.88971e+05]])"
      ]
     },
     "execution_count": 60,
     "metadata": {},
     "output_type": "execute_result"
    }
   ],
   "source": [
    "x_train[:5]"
   ]
  },
  {
   "cell_type": "code",
   "execution_count": 61,
   "metadata": {
    "id": "IkoeQl0yUy32"
   },
   "outputs": [
    {
     "data": {
      "text/plain": [
       "array([[1.000000e+00, 1.057411e+06, 1.019314e+06],\n",
       "       [1.000000e+00, 3.445390e+05, 3.464730e+05],\n",
       "       [1.000000e+00, 1.222240e+05, 1.095370e+05],\n",
       "       [1.000000e+00, 3.853430e+05, 4.466480e+05],\n",
       "       [1.000000e+00, 9.840800e+04, 1.243120e+05]])"
      ]
     },
     "execution_count": 61,
     "metadata": {},
     "output_type": "execute_result"
    }
   ],
   "source": [
    "x_test[:5]"
   ]
  },
  {
   "cell_type": "markdown",
   "metadata": {},
   "source": [
    "Escalamos los vectores para que tengan media cero y deviación estándard 1:"
   ]
  },
  {
   "cell_type": "code",
   "execution_count": 63,
   "metadata": {},
   "outputs": [
    {
     "data": {
      "text/plain": [
       "array([[1.00000e+00, 1.38081e+05, 1.22881e+05],\n",
       "       [1.00000e+00, 4.66536e+05, 4.96520e+05],\n",
       "       [1.00000e+00, 6.04599e+05, 5.89978e+05],\n",
       "       [1.00000e+00, 3.70117e+05, 3.98596e+05],\n",
       "       [1.00000e+00, 2.77222e+05, 2.88971e+05]])"
      ]
     },
     "execution_count": 63,
     "metadata": {},
     "output_type": "execute_result"
    }
   ],
   "source": [
    "x_train[:5]"
   ]
  },
  {
   "cell_type": "code",
   "execution_count": 64,
   "metadata": {},
   "outputs": [
    {
     "data": {
      "text/plain": [
       "array([[1.000000e+00, 1.057411e+06, 1.019314e+06],\n",
       "       [1.000000e+00, 3.445390e+05, 3.464730e+05],\n",
       "       [1.000000e+00, 1.222240e+05, 1.095370e+05],\n",
       "       [1.000000e+00, 3.853430e+05, 4.466480e+05],\n",
       "       [1.000000e+00, 9.840800e+04, 1.243120e+05]])"
      ]
     },
     "execution_count": 64,
     "metadata": {},
     "output_type": "execute_result"
    }
   ],
   "source": [
    "x_test[:5] "
   ]
  },
  {
   "cell_type": "code",
   "execution_count": 65,
   "metadata": {
    "colab": {
     "base_uri": "https://localhost:8080/"
    },
    "id": "IEbDOKv60cDD",
    "outputId": "429a0888-32ba-4c3d-e993-72280970d523"
   },
   "outputs": [
    {
     "name": "stdout",
     "output_type": "stream",
     "text": [
      " X_train : \n",
      "\n",
      " [[1.00000e+00 1.38081e+05 1.22881e+05]\n",
      " [1.00000e+00 4.66536e+05 4.96520e+05]\n",
      " [1.00000e+00 6.04599e+05 5.89978e+05]\n",
      " [1.00000e+00 3.70117e+05 3.98596e+05]\n",
      " [1.00000e+00 2.77222e+05 2.88971e+05]\n",
      " [1.00000e+00 7.93665e+05 7.32693e+05]\n",
      " [1.00000e+00 4.40580e+05 4.42103e+05]\n",
      " [1.00000e+00 3.29965e+05 3.77521e+05]\n",
      " [1.00000e+00 4.31548e+05 4.33984e+05]\n",
      " [1.00000e+00 9.21718e+05 9.05006e+05]]\n",
      "\n",
      "Y_train: \n",
      "\n",
      " 24651    1\n",
      "5136     0\n",
      "35638    1\n",
      "16478    0\n",
      "32117    1\n",
      "36081    1\n",
      "28211    1\n",
      "511      0\n",
      "23989    1\n",
      "33917    1\n",
      "Name: sentiment_encoded, dtype: int64\n"
     ]
    }
   ],
   "source": [
    "print(' X_train : \\n\\n', x_train[:10])\n",
    "print('\\nY_train: \\n\\n', y_train[:10])"
   ]
  },
  {
   "cell_type": "markdown",
   "metadata": {
    "id": "I1kn2mbl1BEi"
   },
   "source": [
    "\n",
    "\n",
    "> Los pasos realizados, fuerón para preparar la información y que esta sea fácil de procesar al momento de entrenar\n",
    "\n"
   ]
  },
  {
   "cell_type": "markdown",
   "metadata": {
    "id": "-zmxit4i2JIK"
   },
   "source": [
    "# <font size=6> Entrenamiento del Modelo\n",
    "\n",
    "<font size=3> Una vez finalizado el preprocesamiento, nos proponemos a crear el modelo. Dado que nuestro objetivo es predecir una clasificación binaria, ocuparemos el algoritmo de Regresión Logística."
   ]
  },
  {
   "cell_type": "code",
   "execution_count": 97,
   "metadata": {
    "id": "QbpQQhf6TzZC"
   },
   "outputs": [],
   "source": [
    "# Importamos la regresión logística\n",
    "from sklearn.linear_model import LogisticRegression, SGDClassifier\n",
    "from sklearn.naive_bayes import ComplementNB\n",
    "from sklearn.ensemble import GradientBoostingClassifier, RandomForestClassifier,\\\n",
    "AdaBoostClassifier, HistGradientBoostingClassifier\n",
    "from sklearn.svm import SVC"
   ]
  },
  {
   "cell_type": "code",
   "execution_count": 98,
   "metadata": {},
   "outputs": [],
   "source": [
    "# Definimos los modelos y sus hiperparámetros\n",
    "SGD = SGDClassifier(loss='modified_huber')\n",
    "ABC = AdaBoostClassifier()\n",
    "HGBC = HistGradientBoostingClassifier(loss='binary_crossentropy', l2_regularization= 0.1)\n",
    "SVM = SVC(C=0.8)\n",
    "#NB = ComplementNB(alpha=0.1)\n",
    "#GBC = GradientBoostingClassifier()\n",
    "#RFC = RandomForestClassifier()\n",
    "#LR = LogisticRegression(C=0.1, solver='saga')"
   ]
  },
  {
   "cell_type": "code",
   "execution_count": 99,
   "metadata": {},
   "outputs": [
    {
     "data": {
      "text/plain": [
       "SVC(C=0.8)"
      ]
     },
     "execution_count": 99,
     "metadata": {},
     "output_type": "execute_result"
    }
   ],
   "source": [
    "# Entrenamos los modelos\n",
    "#NB.fit(x_train, y_train)\n",
    "#GBC.fit(x_train,y_train)\n",
    "#RFC.fit(x_train, y_train)\n",
    "#LR.fit(x_train,y_train)\n",
    "SGD.fit(x_train,y_train)\n",
    "ABC.fit(x_train,y_train)\n",
    "HGBC.fit(x_train,y_train)\n",
    "SVM.fit(x_train,y_train)"
   ]
  },
  {
   "cell_type": "markdown",
   "metadata": {
    "id": "J5cyZFCHshpH"
   },
   "source": [
    "# <font size=6> Evaluación del modelo\n",
    "\n",
    "<font size=3> Con el modelo entrenado, nos proponemos a realizar las predicciones y evaluar la eficacia del modelo."
   ]
  },
  {
   "cell_type": "code",
   "execution_count": 74,
   "metadata": {
    "id": "uUkxQjOWs_sZ"
   },
   "outputs": [],
   "source": [
    "# Importamos las métricas a usar\n",
    "from sklearn.metrics import confusion_matrix, classification_report, accuracy_score"
   ]
  },
  {
   "cell_type": "code",
   "execution_count": 100,
   "metadata": {
    "id": "CMEWuNAyS4PO"
   },
   "outputs": [],
   "source": [
    "# Creamos las predicciones\n",
    "#y_hat_nb = NB.predict(x_test)\n",
    "#y_hat_lr = LR.predict(x_test)\n",
    "#y_hat_GBC = GBC.predict(x_test)\n",
    "#y_hat_RFC = RFC.predict(x_test)\n",
    "y_hat_SGD = SGD.predict(x_test)\n",
    "y_hat_ABC = ABC.predict(x_test)\n",
    "y_hat_HGBC = HGBC.predict(x_test)\n",
    "y_hat_SVM = SVM.predict(x_test)"
   ]
  },
  {
   "cell_type": "markdown",
   "metadata": {
    "id": "0eYIsljwtH-W"
   },
   "source": [
    "<font size=3> Empezamos midiendo la precisión del modelo para darnos una idea de su desempeño."
   ]
  },
  {
   "cell_type": "code",
   "execution_count": 78,
   "metadata": {},
   "outputs": [
    {
     "name": "stdout",
     "output_type": "stream",
     "text": [
      "Precisión del modelo GBC:\t  0.6937\n",
      "Precisión del modelo RFC:\t  0.6593\n"
     ]
    }
   ],
   "source": [
    "print('Precisión del modelo GBC:\\t ',(accuracy_score(y_test, y_hat_GBC)))"
   ]
  },
  {
   "cell_type": "code",
   "execution_count": 101,
   "metadata": {},
   "outputs": [
    {
     "name": "stdout",
     "output_type": "stream",
     "text": [
      "Precisión del modelo SGD:\t  0.6959\n"
     ]
    }
   ],
   "source": [
    "print('Precisión del modelo SGD:\\t ',(accuracy_score(y_test, y_hat_SGD)))"
   ]
  },
  {
   "cell_type": "code",
   "execution_count": 102,
   "metadata": {},
   "outputs": [
    {
     "name": "stdout",
     "output_type": "stream",
     "text": [
      "Precisión del modelo ABC:\t  0.651\n"
     ]
    }
   ],
   "source": [
    "print('Precisión del modelo ABC:\\t ',(accuracy_score(y_test, y_hat_ABC)))"
   ]
  },
  {
   "cell_type": "code",
   "execution_count": 103,
   "metadata": {},
   "outputs": [
    {
     "name": "stdout",
     "output_type": "stream",
     "text": [
      "Precisión del modelo HGBC:\t  0.6942\n"
     ]
    }
   ],
   "source": [
    "print('Precisión del modelo HGBC:\\t ',(accuracy_score(y_test, y_hat_HGBC)))"
   ]
  },
  {
   "cell_type": "code",
   "execution_count": 104,
   "metadata": {},
   "outputs": [
    {
     "name": "stdout",
     "output_type": "stream",
     "text": [
      "Precisión del modelo SVM:\t  0.6939\n"
     ]
    }
   ],
   "source": [
    "print('Precisión del modelo SVM:\\t ',(accuracy_score(y_test, y_hat_SVM)))"
   ]
  },
  {
   "cell_type": "code",
   "execution_count": 105,
   "metadata": {},
   "outputs": [
    {
     "name": "stdout",
     "output_type": "stream",
     "text": [
      "Precisión del modelo RFC:\t  0.6593\n"
     ]
    }
   ],
   "source": [
    "print('Precisión del modelo RFC:\\t ',(accuracy_score(y_test, y_hat_RFC)))"
   ]
  },
  {
   "cell_type": "code",
   "execution_count": 76,
   "metadata": {
    "colab": {
     "base_uri": "https://localhost:8080/"
    },
    "id": "Q0lnblhCSGXv",
    "outputId": "5fd0205c-bf9a-44c7-d323-6a6f83150094"
   },
   "outputs": [
    {
     "name": "stdout",
     "output_type": "stream",
     "text": [
      "Precisión del modelo Naive Bayes:\t  0.6958\n"
     ]
    }
   ],
   "source": [
    "print('Precisión del modelo Naive Bayes:\\t ',(accuracy_score(y_test, y_hat_nb)))"
   ]
  },
  {
   "cell_type": "code",
   "execution_count": 77,
   "metadata": {},
   "outputs": [
    {
     "name": "stdout",
     "output_type": "stream",
     "text": [
      "Precisión del modelo Naive Bayes:\t  0.696\n"
     ]
    }
   ],
   "source": [
    "print('Precisión del modelo Naive Bayes:\\t ',(accuracy_score(y_test, y_hat_lr)))"
   ]
  },
  {
   "cell_type": "markdown",
   "metadata": {
    "id": "K-afBY0tfFHy"
   },
   "source": [
    "<font size=3> Vemos que aproximadamente 70% de las reseñas las clasificó correctamente, lo cual consideramos como un desempeño regular.\n",
    "\n",
    "Creamos una matriz de confusión para visualizar las clasificaciones hechas y la cantidad de falsos positivos y falsos negativos."
   ]
  },
  {
   "cell_type": "code",
   "execution_count": null,
   "metadata": {
    "colab": {
     "base_uri": "https://localhost:8080/",
     "height": 541
    },
    "id": "xX0i_TZSSa36",
    "outputId": "8ee8593d-4856-4b12-f960-af7f7d7857ae"
   },
   "outputs": [],
   "source": [
    "cm = confusion_matrix(y_test, y_hat_lr)\n",
    "fig = plt.figure(figsize=(12,8))\n",
    "sns.heatmap(cm, annot=True, cmap= plt.cm.Blues, cbar=False, fmt='g')\n",
    "plt.yticks([0.5,1.5], labels=list(data.sentiment.unique()), size=16)\n",
    "plt.xticks([0.5,1.5], labels=list(data.sentiment.unique()), size=16)\n",
    "plt.xlabel('Predicted', size=32)\n",
    "plt.ylabel('True', size=32)"
   ]
  },
  {
   "cell_type": "markdown",
   "metadata": {
    "id": "CfVtv8jqfpXj"
   },
   "source": [
    "<font size=3> Por último, creamos el reporte con las diferentes métricas que nos enriquecen la información previamente visualizada."
   ]
  },
  {
   "cell_type": "code",
   "execution_count": null,
   "metadata": {
    "colab": {
     "base_uri": "https://localhost:8080/",
     "height": 174
    },
    "id": "AOHojXod0Hdk",
    "outputId": "8cd91207-c733-49c2-8170-8b381b64d823"
   },
   "outputs": [],
   "source": [
    "report = pd.DataFrame(classification_report(y_hat_lr, y_test, target_names= list(data.sentiment.unique()), output_dict=True))\n",
    "report"
   ]
  },
  {
   "cell_type": "code",
   "execution_count": null,
   "metadata": {},
   "outputs": [],
   "source": [
    "cm = confusion_matrix(y_test, y_hat_nb)\n",
    "fig = plt.figure(figsize=(12,8))\n",
    "sns.heatmap(cm, annot=True, cmap= plt.cm.Blues, cbar=False, fmt='g')\n",
    "plt.yticks([0.5,1.5], labels=list(data.sentiment.unique()), size=16)\n",
    "plt.xticks([0.5,1.5], labels=list(data.sentiment.unique()), size=16)\n",
    "plt.xlabel('Predicted', size=32)\n",
    "plt.ylabel('True', size=32)"
   ]
  },
  {
   "cell_type": "code",
   "execution_count": null,
   "metadata": {},
   "outputs": [],
   "source": [
    "report = pd.DataFrame(classification_report(y_hat_nb, y_test, target_names= list(data.sentiment.unique()), output_dict=True))\n",
    "report"
   ]
  },
  {
   "cell_type": "markdown",
   "metadata": {
    "id": "kagy-3-q4rUZ"
   },
   "source": [
    "\n",
    "\n",
    "> Realizamos un entrenamiento supervisado el cúal nos dió una confianza al momento de realizar el análisis de los resultados cercano al 70 %\n",
    "\n"
   ]
  },
  {
   "cell_type": "code",
   "execution_count": null,
   "metadata": {},
   "outputs": [],
   "source": [
    "plt.figure(figsize=(12,10))\n",
    "colors = ['red','green']\n",
    "sns.scatterplot(x=x_train[:,1], y=x_train[:,2],\\\n",
    "                hue= data_train.sentiment_encoded,\\\n",
    "                style= data_train.sentiment_encoded,\\\n",
    "                palette=colors)"
   ]
  },
  {
   "cell_type": "code",
   "execution_count": null,
   "metadata": {},
   "outputs": [],
   "source": [
    "plt.figure(figsize=(12,10))\n",
    "colors = ['red','green']\n",
    "sns.scatterplot(x=x_test[:,1], y=x_test[:,2],\\\n",
    "                hue= data_test.sentiment_encoded,\\\n",
    "                style= data_test.sentiment_encoded,\\\n",
    "                palette=colors)"
   ]
  },
  {
   "cell_type": "markdown",
   "metadata": {},
   "source": [
    "## Ahora, vamos a utilizar otro enfoque para resolver el problema. En este caso utilizaremos la vectorización por 'word embeddings'"
   ]
  },
  {
   "cell_type": "code",
   "execution_count": 79,
   "metadata": {},
   "outputs": [],
   "source": [
    "from gensim.models import Word2Vec\n",
    "sentences = pd.concat([data_train.review_clean, data_test.review_clean])\n",
    "model = Word2Vec(sentences, min_count=5, vector_size=128)\n",
    "#len(sentences)\n",
    "#Word2Vec()"
   ]
  },
  {
   "cell_type": "code",
   "execution_count": 80,
   "metadata": {},
   "outputs": [
    {
     "data": {
      "text/html": [
       "<div>\n",
       "<style scoped>\n",
       "    .dataframe tbody tr th:only-of-type {\n",
       "        vertical-align: middle;\n",
       "    }\n",
       "\n",
       "    .dataframe tbody tr th {\n",
       "        vertical-align: top;\n",
       "    }\n",
       "\n",
       "    .dataframe thead th {\n",
       "        text-align: right;\n",
       "    }\n",
       "</style>\n",
       "<table border=\"1\" class=\"dataframe\">\n",
       "  <thead>\n",
       "    <tr style=\"text-align: right;\">\n",
       "      <th></th>\n",
       "      <th>0</th>\n",
       "      <th>1</th>\n",
       "      <th>2</th>\n",
       "      <th>3</th>\n",
       "      <th>4</th>\n",
       "      <th>5</th>\n",
       "      <th>6</th>\n",
       "      <th>7</th>\n",
       "      <th>8</th>\n",
       "      <th>9</th>\n",
       "      <th>...</th>\n",
       "      <th>118</th>\n",
       "      <th>119</th>\n",
       "      <th>120</th>\n",
       "      <th>121</th>\n",
       "      <th>122</th>\n",
       "      <th>123</th>\n",
       "      <th>124</th>\n",
       "      <th>125</th>\n",
       "      <th>126</th>\n",
       "      <th>127</th>\n",
       "    </tr>\n",
       "  </thead>\n",
       "  <tbody>\n",
       "    <tr>\n",
       "      <th>movi</th>\n",
       "      <td>0.354721</td>\n",
       "      <td>-0.249561</td>\n",
       "      <td>0.486983</td>\n",
       "      <td>0.471796</td>\n",
       "      <td>-2.279540</td>\n",
       "      <td>0.585054</td>\n",
       "      <td>0.707333</td>\n",
       "      <td>-0.324866</td>\n",
       "      <td>-0.353649</td>\n",
       "      <td>-0.536221</td>\n",
       "      <td>...</td>\n",
       "      <td>-0.249147</td>\n",
       "      <td>0.101021</td>\n",
       "      <td>0.389429</td>\n",
       "      <td>1.078047</td>\n",
       "      <td>1.159965</td>\n",
       "      <td>-0.572047</td>\n",
       "      <td>0.668815</td>\n",
       "      <td>-0.046061</td>\n",
       "      <td>-1.846937</td>\n",
       "      <td>1.132186</td>\n",
       "    </tr>\n",
       "    <tr>\n",
       "      <th>film</th>\n",
       "      <td>0.023072</td>\n",
       "      <td>-1.224828</td>\n",
       "      <td>0.625133</td>\n",
       "      <td>-0.678405</td>\n",
       "      <td>-0.927145</td>\n",
       "      <td>1.028179</td>\n",
       "      <td>0.572464</td>\n",
       "      <td>0.179743</td>\n",
       "      <td>-0.109915</td>\n",
       "      <td>-0.143877</td>\n",
       "      <td>...</td>\n",
       "      <td>-1.246238</td>\n",
       "      <td>-0.105198</td>\n",
       "      <td>-0.140855</td>\n",
       "      <td>0.769206</td>\n",
       "      <td>1.420056</td>\n",
       "      <td>-0.062888</td>\n",
       "      <td>-0.309798</td>\n",
       "      <td>0.107445</td>\n",
       "      <td>-2.077399</td>\n",
       "      <td>0.402558</td>\n",
       "    </tr>\n",
       "    <tr>\n",
       "      <th>one</th>\n",
       "      <td>-1.627087</td>\n",
       "      <td>-1.068172</td>\n",
       "      <td>-1.273139</td>\n",
       "      <td>-0.525639</td>\n",
       "      <td>0.590725</td>\n",
       "      <td>0.840220</td>\n",
       "      <td>-0.028926</td>\n",
       "      <td>-0.680146</td>\n",
       "      <td>-0.803555</td>\n",
       "      <td>1.022725</td>\n",
       "      <td>...</td>\n",
       "      <td>-1.083690</td>\n",
       "      <td>-0.104111</td>\n",
       "      <td>-0.036143</td>\n",
       "      <td>0.361559</td>\n",
       "      <td>0.061326</td>\n",
       "      <td>0.554313</td>\n",
       "      <td>-0.323801</td>\n",
       "      <td>0.499225</td>\n",
       "      <td>-0.920313</td>\n",
       "      <td>-0.517689</td>\n",
       "    </tr>\n",
       "    <tr>\n",
       "      <th>like</th>\n",
       "      <td>-0.503501</td>\n",
       "      <td>-0.125396</td>\n",
       "      <td>-0.284483</td>\n",
       "      <td>0.926340</td>\n",
       "      <td>-1.512377</td>\n",
       "      <td>0.252518</td>\n",
       "      <td>-0.796640</td>\n",
       "      <td>-0.790177</td>\n",
       "      <td>-0.120811</td>\n",
       "      <td>-0.880715</td>\n",
       "      <td>...</td>\n",
       "      <td>-0.318099</td>\n",
       "      <td>-1.172440</td>\n",
       "      <td>0.352978</td>\n",
       "      <td>2.366511</td>\n",
       "      <td>0.211033</td>\n",
       "      <td>0.563482</td>\n",
       "      <td>0.063972</td>\n",
       "      <td>-1.037848</td>\n",
       "      <td>0.594802</td>\n",
       "      <td>1.244394</td>\n",
       "    </tr>\n",
       "    <tr>\n",
       "      <th>time</th>\n",
       "      <td>-1.451266</td>\n",
       "      <td>-1.279164</td>\n",
       "      <td>-0.963577</td>\n",
       "      <td>-0.534176</td>\n",
       "      <td>-0.454549</td>\n",
       "      <td>0.262578</td>\n",
       "      <td>-0.648384</td>\n",
       "      <td>-0.991172</td>\n",
       "      <td>-0.722022</td>\n",
       "      <td>0.083680</td>\n",
       "      <td>...</td>\n",
       "      <td>-0.005446</td>\n",
       "      <td>-0.198346</td>\n",
       "      <td>-1.144625</td>\n",
       "      <td>1.080984</td>\n",
       "      <td>0.988811</td>\n",
       "      <td>0.610715</td>\n",
       "      <td>-1.838698</td>\n",
       "      <td>-1.659982</td>\n",
       "      <td>-2.495044</td>\n",
       "      <td>-0.336746</td>\n",
       "    </tr>\n",
       "  </tbody>\n",
       "</table>\n",
       "<p>5 rows × 128 columns</p>\n",
       "</div>"
      ],
      "text/plain": [
       "           0         1         2         3         4         5         6    \\\n",
       "movi  0.354721 -0.249561  0.486983  0.471796 -2.279540  0.585054  0.707333   \n",
       "film  0.023072 -1.224828  0.625133 -0.678405 -0.927145  1.028179  0.572464   \n",
       "one  -1.627087 -1.068172 -1.273139 -0.525639  0.590725  0.840220 -0.028926   \n",
       "like -0.503501 -0.125396 -0.284483  0.926340 -1.512377  0.252518 -0.796640   \n",
       "time -1.451266 -1.279164 -0.963577 -0.534176 -0.454549  0.262578 -0.648384   \n",
       "\n",
       "           7         8         9    ...       118       119       120  \\\n",
       "movi -0.324866 -0.353649 -0.536221  ... -0.249147  0.101021  0.389429   \n",
       "film  0.179743 -0.109915 -0.143877  ... -1.246238 -0.105198 -0.140855   \n",
       "one  -0.680146 -0.803555  1.022725  ... -1.083690 -0.104111 -0.036143   \n",
       "like -0.790177 -0.120811 -0.880715  ... -0.318099 -1.172440  0.352978   \n",
       "time -0.991172 -0.722022  0.083680  ... -0.005446 -0.198346 -1.144625   \n",
       "\n",
       "           121       122       123       124       125       126       127  \n",
       "movi  1.078047  1.159965 -0.572047  0.668815 -0.046061 -1.846937  1.132186  \n",
       "film  0.769206  1.420056 -0.062888 -0.309798  0.107445 -2.077399  0.402558  \n",
       "one   0.361559  0.061326  0.554313 -0.323801  0.499225 -0.920313 -0.517689  \n",
       "like  2.366511  0.211033  0.563482  0.063972 -1.037848  0.594802  1.244394  \n",
       "time  1.080984  0.988811  0.610715 -1.838698 -1.659982 -2.495044 -0.336746  \n",
       "\n",
       "[5 rows x 128 columns]"
      ]
     },
     "execution_count": 80,
     "metadata": {},
     "output_type": "execute_result"
    }
   ],
   "source": [
    "word_vec_unpack = [(word,idx) for word,idx in model.wv.key_to_index.items()]\n",
    "tokens, idx = zip(*word_vec_unpack)\n",
    "word_vec_df = pd.DataFrame(model.wv.vectors[idx,:],index=tokens)\n",
    "word_vec_df.head()"
   ]
  },
  {
   "cell_type": "code",
   "execution_count": 81,
   "metadata": {},
   "outputs": [],
   "source": [
    "train_tokenized_array = np.array(data_train.review_clean)\n",
    "test_tokenized_array = np.array(data_test.review_clean)"
   ]
  },
  {
   "cell_type": "code",
   "execution_count": 82,
   "metadata": {},
   "outputs": [
    {
     "data": {
      "text/plain": [
       "array(['movi', 'film', 'watch', 'horror', 'one', 'time'], dtype='<U6')"
      ]
     },
     "execution_count": 82,
     "metadata": {},
     "output_type": "execute_result"
    }
   ],
   "source": [
    "def select_words(sentence):\n",
    "    words = []\n",
    "    for word in sentence:\n",
    "        if word in word_vec_df.index:\n",
    "            words.append(word)\n",
    "    return np.array(words)\n",
    "sentence = ['movi','film','watch','horror', 'jajaja', 'one', 'time']\n",
    "a = select_words(sentence)\n",
    "a"
   ]
  },
  {
   "cell_type": "code",
   "execution_count": 83,
   "metadata": {},
   "outputs": [
    {
     "data": {
      "text/plain": [
       "24651    [bett, midler, divin, humor, love, burlesqu, c...\n",
       "5136     [film, scienc, fiction, channel, sci, fi, chan...\n",
       "35638    [human, traffic, view, averag, weekend, group,...\n",
       "16478    [spent, quit, go, review, film, total, agreeme...\n",
       "32117    [true, masterpiec, soviet, cinematographi, sha...\n",
       "                               ...                        \n",
       "6958     [worst, film, seen, last, month, plot, stori, ...\n",
       "35787    [septemb, heard, bbc, go, resurrect, doctor, m...\n",
       "24233    [barbra, streisand, debut, televis, special, s...\n",
       "30191    [river, flow, north, well, told, stori, two, p...\n",
       "13780    [admittedli, tune, hope, see, beefcak, shot, j...\n",
       "Name: review_clean, Length: 40000, dtype: object"
      ]
     },
     "execution_count": 83,
     "metadata": {},
     "output_type": "execute_result"
    }
   ],
   "source": [
    "reduced_sentences_train = data_train.review_clean.apply(select_words)\n",
    "reduced_sentences_train"
   ]
  },
  {
   "cell_type": "code",
   "execution_count": 84,
   "metadata": {},
   "outputs": [
    {
     "data": {
      "text/plain": [
       "9478    [elia, kazan, one, best, theater, director, co...\n",
       "441     [admit, watch, hand, episod, one, seem, comple...\n",
       "8996    [surpris, major, higher, rate, vote, submit, f...\n",
       "8215    [watch, movi, probabl, time, joke, year, old, ...\n",
       "2493    [ultra, cheezi, soundtrack, vinni, tri, realli...\n",
       "                              ...                        \n",
       "8081    [hot, million, great, movi, everi, way, fun, o...\n",
       "8434    [film, explor, femal, sexual, way, often, use,...\n",
       "420     [high, school, track, field, laura, die, natur...\n",
       "2410    [saw, yr, old, bore, friend, hate, cours, like...\n",
       "1803    [yet, anoth, ventur, realm, teen, gross, comed...\n",
       "Name: review_clean, Length: 10000, dtype: object"
      ]
     },
     "execution_count": 84,
     "metadata": {},
     "output_type": "execute_result"
    }
   ],
   "source": [
    "reduced_sentences_test = data_test.review_clean.apply(select_words)\n",
    "reduced_sentences_test"
   ]
  },
  {
   "cell_type": "code",
   "execution_count": 85,
   "metadata": {},
   "outputs": [
    {
     "data": {
      "text/plain": [
       "array([[   9.7757988 ,  -30.55037308,    3.98263454, ...,  -14.85122871,\n",
       "          -1.2154572 ,    3.34683728],\n",
       "       [  11.86962223,  -35.05499649,   26.89247513, ...,    6.30265951,\n",
       "         -48.07790375,   54.06398392],\n",
       "       [  14.45163059,  -36.52051926,  -22.31529236, ...,  -14.31439114,\n",
       "         -38.34635925,  -10.58949089],\n",
       "       ...,\n",
       "       [  25.24888802, -215.41572571,   40.73588562, ...,   39.76268387,\n",
       "         -74.4432373 ,   52.91740799],\n",
       "       [  28.67455292,  -31.8875618 ,    4.75417948, ...,    6.03441525,\n",
       "         -35.14312744,    2.62077975],\n",
       "       [  77.5324707 ,  -68.73891449,   20.11227417, ...,   22.45157433,\n",
       "         -58.0243721 ,   -2.76793242]])"
      ]
     },
     "execution_count": 85,
     "metadata": {},
     "output_type": "execute_result"
    }
   ],
   "source": [
    "model_train_array = np.array([word_vec_df.loc[doc].sum(axis=0) for doc in reduced_sentences_train])\n",
    "model_train_array"
   ]
  },
  {
   "cell_type": "code",
   "execution_count": 86,
   "metadata": {},
   "outputs": [
    {
     "data": {
      "text/plain": [
       "(40000, 128)"
      ]
     },
     "execution_count": 86,
     "metadata": {},
     "output_type": "execute_result"
    }
   ],
   "source": [
    "model_train_array.shape"
   ]
  },
  {
   "cell_type": "code",
   "execution_count": 87,
   "metadata": {},
   "outputs": [],
   "source": [
    "model_test_array = np.array([word_vec_df.loc[doc].mean(axis=0) for doc in reduced_sentences_test])"
   ]
  },
  {
   "cell_type": "code",
   "execution_count": 88,
   "metadata": {},
   "outputs": [
    {
     "data": {
      "text/plain": [
       "(10000, 128)"
      ]
     },
     "execution_count": 88,
     "metadata": {},
     "output_type": "execute_result"
    }
   ],
   "source": [
    "model_test_array.shape"
   ]
  },
  {
   "cell_type": "code",
   "execution_count": 89,
   "metadata": {},
   "outputs": [
    {
     "data": {
      "text/html": [
       "<div>\n",
       "<style scoped>\n",
       "    .dataframe tbody tr th:only-of-type {\n",
       "        vertical-align: middle;\n",
       "    }\n",
       "\n",
       "    .dataframe tbody tr th {\n",
       "        vertical-align: top;\n",
       "    }\n",
       "\n",
       "    .dataframe thead th {\n",
       "        text-align: right;\n",
       "    }\n",
       "</style>\n",
       "<table border=\"1\" class=\"dataframe\">\n",
       "  <thead>\n",
       "    <tr style=\"text-align: right;\">\n",
       "      <th></th>\n",
       "      <th>0</th>\n",
       "      <th>1</th>\n",
       "      <th>2</th>\n",
       "      <th>3</th>\n",
       "      <th>4</th>\n",
       "      <th>5</th>\n",
       "      <th>6</th>\n",
       "      <th>7</th>\n",
       "      <th>8</th>\n",
       "      <th>9</th>\n",
       "      <th>...</th>\n",
       "      <th>118</th>\n",
       "      <th>119</th>\n",
       "      <th>120</th>\n",
       "      <th>121</th>\n",
       "      <th>122</th>\n",
       "      <th>123</th>\n",
       "      <th>124</th>\n",
       "      <th>125</th>\n",
       "      <th>126</th>\n",
       "      <th>127</th>\n",
       "    </tr>\n",
       "  </thead>\n",
       "  <tbody>\n",
       "    <tr>\n",
       "      <th>0</th>\n",
       "      <td>9.775799</td>\n",
       "      <td>-30.550373</td>\n",
       "      <td>3.982635</td>\n",
       "      <td>22.763792</td>\n",
       "      <td>17.129658</td>\n",
       "      <td>-0.683858</td>\n",
       "      <td>-14.221596</td>\n",
       "      <td>-12.184489</td>\n",
       "      <td>-13.798082</td>\n",
       "      <td>-12.393209</td>\n",
       "      <td>...</td>\n",
       "      <td>9.145948</td>\n",
       "      <td>-13.502594</td>\n",
       "      <td>-13.609505</td>\n",
       "      <td>2.676049</td>\n",
       "      <td>11.631714</td>\n",
       "      <td>-0.136664</td>\n",
       "      <td>10.688420</td>\n",
       "      <td>-14.851229</td>\n",
       "      <td>-1.215457</td>\n",
       "      <td>3.346837</td>\n",
       "    </tr>\n",
       "    <tr>\n",
       "      <th>1</th>\n",
       "      <td>11.869622</td>\n",
       "      <td>-35.054996</td>\n",
       "      <td>26.892475</td>\n",
       "      <td>-5.437594</td>\n",
       "      <td>-19.183451</td>\n",
       "      <td>-21.531401</td>\n",
       "      <td>32.189766</td>\n",
       "      <td>-70.530449</td>\n",
       "      <td>-30.666183</td>\n",
       "      <td>1.147944</td>\n",
       "      <td>...</td>\n",
       "      <td>-14.315417</td>\n",
       "      <td>-14.661918</td>\n",
       "      <td>-18.111902</td>\n",
       "      <td>21.704859</td>\n",
       "      <td>-9.110766</td>\n",
       "      <td>8.842782</td>\n",
       "      <td>-3.325017</td>\n",
       "      <td>6.302660</td>\n",
       "      <td>-48.077904</td>\n",
       "      <td>54.063984</td>\n",
       "    </tr>\n",
       "    <tr>\n",
       "      <th>2</th>\n",
       "      <td>14.451631</td>\n",
       "      <td>-36.520519</td>\n",
       "      <td>-22.315292</td>\n",
       "      <td>-5.958502</td>\n",
       "      <td>-42.109398</td>\n",
       "      <td>15.837009</td>\n",
       "      <td>-1.437560</td>\n",
       "      <td>-12.947047</td>\n",
       "      <td>-16.275799</td>\n",
       "      <td>33.923309</td>\n",
       "      <td>...</td>\n",
       "      <td>-17.749495</td>\n",
       "      <td>-3.095908</td>\n",
       "      <td>-17.063677</td>\n",
       "      <td>26.959145</td>\n",
       "      <td>26.164991</td>\n",
       "      <td>-3.844473</td>\n",
       "      <td>7.937652</td>\n",
       "      <td>-14.314391</td>\n",
       "      <td>-38.346359</td>\n",
       "      <td>-10.589491</td>\n",
       "    </tr>\n",
       "    <tr>\n",
       "      <th>3</th>\n",
       "      <td>13.060826</td>\n",
       "      <td>-33.790512</td>\n",
       "      <td>-14.666814</td>\n",
       "      <td>30.184340</td>\n",
       "      <td>-51.396790</td>\n",
       "      <td>11.218475</td>\n",
       "      <td>21.957460</td>\n",
       "      <td>-33.873444</td>\n",
       "      <td>-11.869987</td>\n",
       "      <td>-11.998257</td>\n",
       "      <td>...</td>\n",
       "      <td>-15.986361</td>\n",
       "      <td>13.526085</td>\n",
       "      <td>21.142872</td>\n",
       "      <td>22.141689</td>\n",
       "      <td>1.793230</td>\n",
       "      <td>-14.064200</td>\n",
       "      <td>1.516041</td>\n",
       "      <td>-33.056793</td>\n",
       "      <td>-18.708593</td>\n",
       "      <td>29.536264</td>\n",
       "    </tr>\n",
       "    <tr>\n",
       "      <th>4</th>\n",
       "      <td>1.934069</td>\n",
       "      <td>-45.918427</td>\n",
       "      <td>0.651937</td>\n",
       "      <td>-1.156237</td>\n",
       "      <td>13.953353</td>\n",
       "      <td>26.382322</td>\n",
       "      <td>0.129224</td>\n",
       "      <td>-13.215233</td>\n",
       "      <td>10.589190</td>\n",
       "      <td>3.955252</td>\n",
       "      <td>...</td>\n",
       "      <td>-1.502843</td>\n",
       "      <td>-13.740813</td>\n",
       "      <td>-13.864600</td>\n",
       "      <td>-0.465022</td>\n",
       "      <td>5.419607</td>\n",
       "      <td>4.182632</td>\n",
       "      <td>-20.495573</td>\n",
       "      <td>1.061408</td>\n",
       "      <td>-20.069229</td>\n",
       "      <td>-8.516707</td>\n",
       "    </tr>\n",
       "    <tr>\n",
       "      <th>...</th>\n",
       "      <td>...</td>\n",
       "      <td>...</td>\n",
       "      <td>...</td>\n",
       "      <td>...</td>\n",
       "      <td>...</td>\n",
       "      <td>...</td>\n",
       "      <td>...</td>\n",
       "      <td>...</td>\n",
       "      <td>...</td>\n",
       "      <td>...</td>\n",
       "      <td>...</td>\n",
       "      <td>...</td>\n",
       "      <td>...</td>\n",
       "      <td>...</td>\n",
       "      <td>...</td>\n",
       "      <td>...</td>\n",
       "      <td>...</td>\n",
       "      <td>...</td>\n",
       "      <td>...</td>\n",
       "      <td>...</td>\n",
       "      <td>...</td>\n",
       "    </tr>\n",
       "    <tr>\n",
       "      <th>39995</th>\n",
       "      <td>2.977166</td>\n",
       "      <td>-26.504055</td>\n",
       "      <td>10.239379</td>\n",
       "      <td>15.619514</td>\n",
       "      <td>-28.289011</td>\n",
       "      <td>13.260620</td>\n",
       "      <td>17.336302</td>\n",
       "      <td>-39.379166</td>\n",
       "      <td>-12.271243</td>\n",
       "      <td>8.325370</td>\n",
       "      <td>...</td>\n",
       "      <td>-20.604156</td>\n",
       "      <td>1.483993</td>\n",
       "      <td>-12.444884</td>\n",
       "      <td>31.684870</td>\n",
       "      <td>12.852999</td>\n",
       "      <td>-5.784328</td>\n",
       "      <td>-10.263982</td>\n",
       "      <td>10.883838</td>\n",
       "      <td>-33.081894</td>\n",
       "      <td>-11.081808</td>\n",
       "    </tr>\n",
       "    <tr>\n",
       "      <th>39996</th>\n",
       "      <td>-3.339098</td>\n",
       "      <td>-127.070076</td>\n",
       "      <td>63.187294</td>\n",
       "      <td>7.418627</td>\n",
       "      <td>-15.689973</td>\n",
       "      <td>28.572376</td>\n",
       "      <td>101.807755</td>\n",
       "      <td>-177.688629</td>\n",
       "      <td>-131.571136</td>\n",
       "      <td>109.068016</td>\n",
       "      <td>...</td>\n",
       "      <td>-99.871750</td>\n",
       "      <td>-3.023899</td>\n",
       "      <td>17.986515</td>\n",
       "      <td>10.139728</td>\n",
       "      <td>-60.217957</td>\n",
       "      <td>3.724769</td>\n",
       "      <td>-142.586533</td>\n",
       "      <td>-69.411667</td>\n",
       "      <td>-158.156464</td>\n",
       "      <td>71.934952</td>\n",
       "    </tr>\n",
       "    <tr>\n",
       "      <th>39997</th>\n",
       "      <td>25.248888</td>\n",
       "      <td>-215.415726</td>\n",
       "      <td>40.735886</td>\n",
       "      <td>-44.383751</td>\n",
       "      <td>34.112453</td>\n",
       "      <td>55.255768</td>\n",
       "      <td>-3.881882</td>\n",
       "      <td>-70.035362</td>\n",
       "      <td>-10.873333</td>\n",
       "      <td>87.997765</td>\n",
       "      <td>...</td>\n",
       "      <td>-35.136696</td>\n",
       "      <td>-89.685341</td>\n",
       "      <td>-102.918915</td>\n",
       "      <td>-8.140853</td>\n",
       "      <td>1.066846</td>\n",
       "      <td>-12.124907</td>\n",
       "      <td>-61.307587</td>\n",
       "      <td>39.762684</td>\n",
       "      <td>-74.443237</td>\n",
       "      <td>52.917408</td>\n",
       "    </tr>\n",
       "    <tr>\n",
       "      <th>39998</th>\n",
       "      <td>28.674553</td>\n",
       "      <td>-31.887562</td>\n",
       "      <td>4.754179</td>\n",
       "      <td>-7.719570</td>\n",
       "      <td>-0.192314</td>\n",
       "      <td>23.824259</td>\n",
       "      <td>14.859414</td>\n",
       "      <td>-18.498152</td>\n",
       "      <td>-12.217587</td>\n",
       "      <td>24.569252</td>\n",
       "      <td>...</td>\n",
       "      <td>-15.745621</td>\n",
       "      <td>-14.270904</td>\n",
       "      <td>-19.540623</td>\n",
       "      <td>23.305038</td>\n",
       "      <td>-10.461183</td>\n",
       "      <td>12.894911</td>\n",
       "      <td>-22.066372</td>\n",
       "      <td>6.034415</td>\n",
       "      <td>-35.143127</td>\n",
       "      <td>2.620780</td>\n",
       "    </tr>\n",
       "    <tr>\n",
       "      <th>39999</th>\n",
       "      <td>77.532471</td>\n",
       "      <td>-68.738914</td>\n",
       "      <td>20.112274</td>\n",
       "      <td>-5.023046</td>\n",
       "      <td>9.632632</td>\n",
       "      <td>0.964640</td>\n",
       "      <td>-8.848541</td>\n",
       "      <td>-79.905174</td>\n",
       "      <td>-18.997444</td>\n",
       "      <td>38.037010</td>\n",
       "      <td>...</td>\n",
       "      <td>-3.501791</td>\n",
       "      <td>1.383573</td>\n",
       "      <td>-5.409524</td>\n",
       "      <td>-10.162082</td>\n",
       "      <td>40.769180</td>\n",
       "      <td>-37.114124</td>\n",
       "      <td>-36.227512</td>\n",
       "      <td>22.451574</td>\n",
       "      <td>-58.024372</td>\n",
       "      <td>-2.767932</td>\n",
       "    </tr>\n",
       "  </tbody>\n",
       "</table>\n",
       "<p>40000 rows × 128 columns</p>\n",
       "</div>"
      ],
      "text/plain": [
       "             0           1          2          3          4          5    \\\n",
       "0       9.775799  -30.550373   3.982635  22.763792  17.129658  -0.683858   \n",
       "1      11.869622  -35.054996  26.892475  -5.437594 -19.183451 -21.531401   \n",
       "2      14.451631  -36.520519 -22.315292  -5.958502 -42.109398  15.837009   \n",
       "3      13.060826  -33.790512 -14.666814  30.184340 -51.396790  11.218475   \n",
       "4       1.934069  -45.918427   0.651937  -1.156237  13.953353  26.382322   \n",
       "...          ...         ...        ...        ...        ...        ...   \n",
       "39995   2.977166  -26.504055  10.239379  15.619514 -28.289011  13.260620   \n",
       "39996  -3.339098 -127.070076  63.187294   7.418627 -15.689973  28.572376   \n",
       "39997  25.248888 -215.415726  40.735886 -44.383751  34.112453  55.255768   \n",
       "39998  28.674553  -31.887562   4.754179  -7.719570  -0.192314  23.824259   \n",
       "39999  77.532471  -68.738914  20.112274  -5.023046   9.632632   0.964640   \n",
       "\n",
       "              6           7           8           9    ...        118  \\\n",
       "0      -14.221596  -12.184489  -13.798082  -12.393209  ...   9.145948   \n",
       "1       32.189766  -70.530449  -30.666183    1.147944  ... -14.315417   \n",
       "2       -1.437560  -12.947047  -16.275799   33.923309  ... -17.749495   \n",
       "3       21.957460  -33.873444  -11.869987  -11.998257  ... -15.986361   \n",
       "4        0.129224  -13.215233   10.589190    3.955252  ...  -1.502843   \n",
       "...           ...         ...         ...         ...  ...        ...   \n",
       "39995   17.336302  -39.379166  -12.271243    8.325370  ... -20.604156   \n",
       "39996  101.807755 -177.688629 -131.571136  109.068016  ... -99.871750   \n",
       "39997   -3.881882  -70.035362  -10.873333   87.997765  ... -35.136696   \n",
       "39998   14.859414  -18.498152  -12.217587   24.569252  ... -15.745621   \n",
       "39999   -8.848541  -79.905174  -18.997444   38.037010  ...  -3.501791   \n",
       "\n",
       "             119         120        121        122        123         124  \\\n",
       "0     -13.502594  -13.609505   2.676049  11.631714  -0.136664   10.688420   \n",
       "1     -14.661918  -18.111902  21.704859  -9.110766   8.842782   -3.325017   \n",
       "2      -3.095908  -17.063677  26.959145  26.164991  -3.844473    7.937652   \n",
       "3      13.526085   21.142872  22.141689   1.793230 -14.064200    1.516041   \n",
       "4     -13.740813  -13.864600  -0.465022   5.419607   4.182632  -20.495573   \n",
       "...          ...         ...        ...        ...        ...         ...   \n",
       "39995   1.483993  -12.444884  31.684870  12.852999  -5.784328  -10.263982   \n",
       "39996  -3.023899   17.986515  10.139728 -60.217957   3.724769 -142.586533   \n",
       "39997 -89.685341 -102.918915  -8.140853   1.066846 -12.124907  -61.307587   \n",
       "39998 -14.270904  -19.540623  23.305038 -10.461183  12.894911  -22.066372   \n",
       "39999   1.383573   -5.409524 -10.162082  40.769180 -37.114124  -36.227512   \n",
       "\n",
       "             125         126        127  \n",
       "0     -14.851229   -1.215457   3.346837  \n",
       "1       6.302660  -48.077904  54.063984  \n",
       "2     -14.314391  -38.346359 -10.589491  \n",
       "3     -33.056793  -18.708593  29.536264  \n",
       "4       1.061408  -20.069229  -8.516707  \n",
       "...          ...         ...        ...  \n",
       "39995  10.883838  -33.081894 -11.081808  \n",
       "39996 -69.411667 -158.156464  71.934952  \n",
       "39997  39.762684  -74.443237  52.917408  \n",
       "39998   6.034415  -35.143127   2.620780  \n",
       "39999  22.451574  -58.024372  -2.767932  \n",
       "\n",
       "[40000 rows x 128 columns]"
      ]
     },
     "execution_count": 89,
     "metadata": {},
     "output_type": "execute_result"
    }
   ],
   "source": [
    "model_train_df = pd.DataFrame(model_train_array)\n",
    "model_train_df"
   ]
  },
  {
   "cell_type": "code",
   "execution_count": 90,
   "metadata": {},
   "outputs": [
    {
     "data": {
      "text/html": [
       "<div>\n",
       "<style scoped>\n",
       "    .dataframe tbody tr th:only-of-type {\n",
       "        vertical-align: middle;\n",
       "    }\n",
       "\n",
       "    .dataframe tbody tr th {\n",
       "        vertical-align: top;\n",
       "    }\n",
       "\n",
       "    .dataframe thead th {\n",
       "        text-align: right;\n",
       "    }\n",
       "</style>\n",
       "<table border=\"1\" class=\"dataframe\">\n",
       "  <thead>\n",
       "    <tr style=\"text-align: right;\">\n",
       "      <th></th>\n",
       "      <th>0</th>\n",
       "      <th>1</th>\n",
       "      <th>2</th>\n",
       "      <th>3</th>\n",
       "      <th>4</th>\n",
       "      <th>5</th>\n",
       "      <th>6</th>\n",
       "      <th>7</th>\n",
       "      <th>8</th>\n",
       "      <th>9</th>\n",
       "      <th>...</th>\n",
       "      <th>118</th>\n",
       "      <th>119</th>\n",
       "      <th>120</th>\n",
       "      <th>121</th>\n",
       "      <th>122</th>\n",
       "      <th>123</th>\n",
       "      <th>124</th>\n",
       "      <th>125</th>\n",
       "      <th>126</th>\n",
       "      <th>127</th>\n",
       "    </tr>\n",
       "  </thead>\n",
       "  <tbody>\n",
       "    <tr>\n",
       "      <th>0</th>\n",
       "      <td>0.205558</td>\n",
       "      <td>-0.549858</td>\n",
       "      <td>-0.010372</td>\n",
       "      <td>-0.001015</td>\n",
       "      <td>0.106710</td>\n",
       "      <td>0.112846</td>\n",
       "      <td>0.061868</td>\n",
       "      <td>-0.273407</td>\n",
       "      <td>-0.209030</td>\n",
       "      <td>0.275132</td>\n",
       "      <td>...</td>\n",
       "      <td>-0.110709</td>\n",
       "      <td>-0.218948</td>\n",
       "      <td>-0.063908</td>\n",
       "      <td>-0.010703</td>\n",
       "      <td>0.082755</td>\n",
       "      <td>0.102317</td>\n",
       "      <td>-0.247031</td>\n",
       "      <td>-0.071898</td>\n",
       "      <td>-0.299757</td>\n",
       "      <td>0.084156</td>\n",
       "    </tr>\n",
       "    <tr>\n",
       "      <th>1</th>\n",
       "      <td>0.264342</td>\n",
       "      <td>-0.471126</td>\n",
       "      <td>0.000111</td>\n",
       "      <td>0.059682</td>\n",
       "      <td>0.046580</td>\n",
       "      <td>-0.030317</td>\n",
       "      <td>0.209417</td>\n",
       "      <td>-0.368387</td>\n",
       "      <td>-0.253560</td>\n",
       "      <td>0.047254</td>\n",
       "      <td>...</td>\n",
       "      <td>-0.242377</td>\n",
       "      <td>-0.088781</td>\n",
       "      <td>0.031660</td>\n",
       "      <td>0.138457</td>\n",
       "      <td>-0.155862</td>\n",
       "      <td>-0.239310</td>\n",
       "      <td>-0.262626</td>\n",
       "      <td>-0.201650</td>\n",
       "      <td>-0.256575</td>\n",
       "      <td>0.106410</td>\n",
       "    </tr>\n",
       "    <tr>\n",
       "      <th>2</th>\n",
       "      <td>0.485248</td>\n",
       "      <td>-0.402157</td>\n",
       "      <td>-0.081506</td>\n",
       "      <td>0.173331</td>\n",
       "      <td>-0.014992</td>\n",
       "      <td>0.121864</td>\n",
       "      <td>0.044546</td>\n",
       "      <td>-0.332607</td>\n",
       "      <td>0.116668</td>\n",
       "      <td>0.197019</td>\n",
       "      <td>...</td>\n",
       "      <td>-0.186756</td>\n",
       "      <td>0.035104</td>\n",
       "      <td>-0.232732</td>\n",
       "      <td>0.074273</td>\n",
       "      <td>0.199689</td>\n",
       "      <td>-0.385045</td>\n",
       "      <td>-0.355483</td>\n",
       "      <td>-0.020882</td>\n",
       "      <td>-0.340386</td>\n",
       "      <td>0.095688</td>\n",
       "    </tr>\n",
       "    <tr>\n",
       "      <th>3</th>\n",
       "      <td>0.185492</td>\n",
       "      <td>-0.513908</td>\n",
       "      <td>0.272651</td>\n",
       "      <td>-0.281112</td>\n",
       "      <td>-0.513187</td>\n",
       "      <td>-0.164930</td>\n",
       "      <td>-0.103625</td>\n",
       "      <td>-0.682512</td>\n",
       "      <td>-0.347612</td>\n",
       "      <td>-0.300425</td>\n",
       "      <td>...</td>\n",
       "      <td>0.082985</td>\n",
       "      <td>0.027347</td>\n",
       "      <td>-0.011163</td>\n",
       "      <td>0.413078</td>\n",
       "      <td>0.053207</td>\n",
       "      <td>0.117761</td>\n",
       "      <td>0.148984</td>\n",
       "      <td>0.150359</td>\n",
       "      <td>-0.801583</td>\n",
       "      <td>0.434573</td>\n",
       "    </tr>\n",
       "    <tr>\n",
       "      <th>4</th>\n",
       "      <td>-0.275669</td>\n",
       "      <td>-0.240927</td>\n",
       "      <td>0.326665</td>\n",
       "      <td>-0.243178</td>\n",
       "      <td>-0.486763</td>\n",
       "      <td>0.047126</td>\n",
       "      <td>0.199459</td>\n",
       "      <td>-0.696897</td>\n",
       "      <td>-0.115973</td>\n",
       "      <td>-0.082230</td>\n",
       "      <td>...</td>\n",
       "      <td>0.171470</td>\n",
       "      <td>-0.250154</td>\n",
       "      <td>0.456184</td>\n",
       "      <td>-0.082806</td>\n",
       "      <td>-0.331706</td>\n",
       "      <td>-0.486387</td>\n",
       "      <td>0.322386</td>\n",
       "      <td>-0.078420</td>\n",
       "      <td>-0.343329</td>\n",
       "      <td>0.246050</td>\n",
       "    </tr>\n",
       "    <tr>\n",
       "      <th>...</th>\n",
       "      <td>...</td>\n",
       "      <td>...</td>\n",
       "      <td>...</td>\n",
       "      <td>...</td>\n",
       "      <td>...</td>\n",
       "      <td>...</td>\n",
       "      <td>...</td>\n",
       "      <td>...</td>\n",
       "      <td>...</td>\n",
       "      <td>...</td>\n",
       "      <td>...</td>\n",
       "      <td>...</td>\n",
       "      <td>...</td>\n",
       "      <td>...</td>\n",
       "      <td>...</td>\n",
       "      <td>...</td>\n",
       "      <td>...</td>\n",
       "      <td>...</td>\n",
       "      <td>...</td>\n",
       "      <td>...</td>\n",
       "      <td>...</td>\n",
       "    </tr>\n",
       "    <tr>\n",
       "      <th>9995</th>\n",
       "      <td>0.103335</td>\n",
       "      <td>-0.408755</td>\n",
       "      <td>0.171988</td>\n",
       "      <td>-0.342412</td>\n",
       "      <td>0.005188</td>\n",
       "      <td>0.316246</td>\n",
       "      <td>-0.200033</td>\n",
       "      <td>-0.511636</td>\n",
       "      <td>-0.188914</td>\n",
       "      <td>0.290497</td>\n",
       "      <td>...</td>\n",
       "      <td>0.141682</td>\n",
       "      <td>-0.042653</td>\n",
       "      <td>-0.401405</td>\n",
       "      <td>0.291501</td>\n",
       "      <td>0.076117</td>\n",
       "      <td>0.094388</td>\n",
       "      <td>-0.445031</td>\n",
       "      <td>0.272265</td>\n",
       "      <td>-0.536612</td>\n",
       "      <td>0.343468</td>\n",
       "    </tr>\n",
       "    <tr>\n",
       "      <th>9996</th>\n",
       "      <td>-0.347946</td>\n",
       "      <td>-0.516035</td>\n",
       "      <td>0.309900</td>\n",
       "      <td>-0.164733</td>\n",
       "      <td>-0.011400</td>\n",
       "      <td>-0.010823</td>\n",
       "      <td>-0.578932</td>\n",
       "      <td>-0.335797</td>\n",
       "      <td>-0.028046</td>\n",
       "      <td>0.343457</td>\n",
       "      <td>...</td>\n",
       "      <td>0.014794</td>\n",
       "      <td>0.012678</td>\n",
       "      <td>-0.563896</td>\n",
       "      <td>0.784911</td>\n",
       "      <td>0.611087</td>\n",
       "      <td>-0.669784</td>\n",
       "      <td>0.251679</td>\n",
       "      <td>0.277002</td>\n",
       "      <td>-0.503013</td>\n",
       "      <td>0.427498</td>\n",
       "    </tr>\n",
       "    <tr>\n",
       "      <th>9997</th>\n",
       "      <td>0.025714</td>\n",
       "      <td>-0.185953</td>\n",
       "      <td>-0.095428</td>\n",
       "      <td>0.159698</td>\n",
       "      <td>0.140166</td>\n",
       "      <td>0.135561</td>\n",
       "      <td>-0.089855</td>\n",
       "      <td>-0.255621</td>\n",
       "      <td>-0.406268</td>\n",
       "      <td>0.124215</td>\n",
       "      <td>...</td>\n",
       "      <td>-0.011005</td>\n",
       "      <td>-0.053319</td>\n",
       "      <td>0.038946</td>\n",
       "      <td>0.227309</td>\n",
       "      <td>-0.098782</td>\n",
       "      <td>-0.010643</td>\n",
       "      <td>-0.008123</td>\n",
       "      <td>-0.109980</td>\n",
       "      <td>-0.452291</td>\n",
       "      <td>0.044741</td>\n",
       "    </tr>\n",
       "    <tr>\n",
       "      <th>9998</th>\n",
       "      <td>0.029193</td>\n",
       "      <td>-0.338788</td>\n",
       "      <td>-0.156301</td>\n",
       "      <td>0.411484</td>\n",
       "      <td>-0.238195</td>\n",
       "      <td>0.180359</td>\n",
       "      <td>0.104713</td>\n",
       "      <td>-0.556004</td>\n",
       "      <td>-0.114128</td>\n",
       "      <td>0.110989</td>\n",
       "      <td>...</td>\n",
       "      <td>-0.124579</td>\n",
       "      <td>-0.139452</td>\n",
       "      <td>-0.006695</td>\n",
       "      <td>0.380276</td>\n",
       "      <td>0.427506</td>\n",
       "      <td>-0.127269</td>\n",
       "      <td>0.093560</td>\n",
       "      <td>-0.091723</td>\n",
       "      <td>-0.333427</td>\n",
       "      <td>0.414560</td>\n",
       "    </tr>\n",
       "    <tr>\n",
       "      <th>9999</th>\n",
       "      <td>0.058770</td>\n",
       "      <td>-0.446600</td>\n",
       "      <td>0.172679</td>\n",
       "      <td>-0.055914</td>\n",
       "      <td>-0.240991</td>\n",
       "      <td>0.181980</td>\n",
       "      <td>0.084089</td>\n",
       "      <td>-0.498122</td>\n",
       "      <td>-0.052693</td>\n",
       "      <td>-0.087972</td>\n",
       "      <td>...</td>\n",
       "      <td>-0.040652</td>\n",
       "      <td>-0.001297</td>\n",
       "      <td>0.028905</td>\n",
       "      <td>0.381122</td>\n",
       "      <td>0.050090</td>\n",
       "      <td>-0.148928</td>\n",
       "      <td>-0.101097</td>\n",
       "      <td>-0.168629</td>\n",
       "      <td>-0.309749</td>\n",
       "      <td>0.454358</td>\n",
       "    </tr>\n",
       "  </tbody>\n",
       "</table>\n",
       "<p>10000 rows × 128 columns</p>\n",
       "</div>"
      ],
      "text/plain": [
       "           0         1         2         3         4         5         6    \\\n",
       "0     0.205558 -0.549858 -0.010372 -0.001015  0.106710  0.112846  0.061868   \n",
       "1     0.264342 -0.471126  0.000111  0.059682  0.046580 -0.030317  0.209417   \n",
       "2     0.485248 -0.402157 -0.081506  0.173331 -0.014992  0.121864  0.044546   \n",
       "3     0.185492 -0.513908  0.272651 -0.281112 -0.513187 -0.164930 -0.103625   \n",
       "4    -0.275669 -0.240927  0.326665 -0.243178 -0.486763  0.047126  0.199459   \n",
       "...        ...       ...       ...       ...       ...       ...       ...   \n",
       "9995  0.103335 -0.408755  0.171988 -0.342412  0.005188  0.316246 -0.200033   \n",
       "9996 -0.347946 -0.516035  0.309900 -0.164733 -0.011400 -0.010823 -0.578932   \n",
       "9997  0.025714 -0.185953 -0.095428  0.159698  0.140166  0.135561 -0.089855   \n",
       "9998  0.029193 -0.338788 -0.156301  0.411484 -0.238195  0.180359  0.104713   \n",
       "9999  0.058770 -0.446600  0.172679 -0.055914 -0.240991  0.181980  0.084089   \n",
       "\n",
       "           7         8         9    ...       118       119       120  \\\n",
       "0    -0.273407 -0.209030  0.275132  ... -0.110709 -0.218948 -0.063908   \n",
       "1    -0.368387 -0.253560  0.047254  ... -0.242377 -0.088781  0.031660   \n",
       "2    -0.332607  0.116668  0.197019  ... -0.186756  0.035104 -0.232732   \n",
       "3    -0.682512 -0.347612 -0.300425  ...  0.082985  0.027347 -0.011163   \n",
       "4    -0.696897 -0.115973 -0.082230  ...  0.171470 -0.250154  0.456184   \n",
       "...        ...       ...       ...  ...       ...       ...       ...   \n",
       "9995 -0.511636 -0.188914  0.290497  ...  0.141682 -0.042653 -0.401405   \n",
       "9996 -0.335797 -0.028046  0.343457  ...  0.014794  0.012678 -0.563896   \n",
       "9997 -0.255621 -0.406268  0.124215  ... -0.011005 -0.053319  0.038946   \n",
       "9998 -0.556004 -0.114128  0.110989  ... -0.124579 -0.139452 -0.006695   \n",
       "9999 -0.498122 -0.052693 -0.087972  ... -0.040652 -0.001297  0.028905   \n",
       "\n",
       "           121       122       123       124       125       126       127  \n",
       "0    -0.010703  0.082755  0.102317 -0.247031 -0.071898 -0.299757  0.084156  \n",
       "1     0.138457 -0.155862 -0.239310 -0.262626 -0.201650 -0.256575  0.106410  \n",
       "2     0.074273  0.199689 -0.385045 -0.355483 -0.020882 -0.340386  0.095688  \n",
       "3     0.413078  0.053207  0.117761  0.148984  0.150359 -0.801583  0.434573  \n",
       "4    -0.082806 -0.331706 -0.486387  0.322386 -0.078420 -0.343329  0.246050  \n",
       "...        ...       ...       ...       ...       ...       ...       ...  \n",
       "9995  0.291501  0.076117  0.094388 -0.445031  0.272265 -0.536612  0.343468  \n",
       "9996  0.784911  0.611087 -0.669784  0.251679  0.277002 -0.503013  0.427498  \n",
       "9997  0.227309 -0.098782 -0.010643 -0.008123 -0.109980 -0.452291  0.044741  \n",
       "9998  0.380276  0.427506 -0.127269  0.093560 -0.091723 -0.333427  0.414560  \n",
       "9999  0.381122  0.050090 -0.148928 -0.101097 -0.168629 -0.309749  0.454358  \n",
       "\n",
       "[10000 rows x 128 columns]"
      ]
     },
     "execution_count": 90,
     "metadata": {},
     "output_type": "execute_result"
    }
   ],
   "source": [
    "model_test_df = pd.DataFrame(model_test_array)\n",
    "model_test_df"
   ]
  },
  {
   "cell_type": "code",
   "execution_count": 91,
   "metadata": {},
   "outputs": [
    {
     "name": "stderr",
     "output_type": "stream",
     "text": [
      "C:\\Users\\Carolina\\anaconda3\\lib\\site-packages\\sklearn\\linear_model\\_sag.py:352: ConvergenceWarning: The max_iter was reached which means the coef_ did not converge\n",
      "  warnings.warn(\n"
     ]
    }
   ],
   "source": [
    "LR.fit(model_train_df,y_train)\n",
    "Y_hat_LR = LR.predict(model_test_array)"
   ]
  },
  {
   "cell_type": "code",
   "execution_count": 92,
   "metadata": {},
   "outputs": [
    {
     "name": "stdout",
     "output_type": "stream",
     "text": [
      "Precisión del modelo LR:\t  0.8681\n"
     ]
    }
   ],
   "source": [
    "print('Precisión del modelo LR:\\t ',(accuracy_score(y_test, Y_hat_LR)))"
   ]
  },
  {
   "cell_type": "code",
   "execution_count": 93,
   "metadata": {},
   "outputs": [],
   "source": [
    "RFC.fit(model_train_df,y_train)\n",
    "Y_hat_RFC = RFC.predict(model_test_array)"
   ]
  },
  {
   "cell_type": "code",
   "execution_count": 94,
   "metadata": {},
   "outputs": [
    {
     "name": "stdout",
     "output_type": "stream",
     "text": [
      "Precisión del modelo RFC:\t  0.5025\n"
     ]
    }
   ],
   "source": [
    "print('Precisión del modelo RFC:\\t ',(accuracy_score(y_test, Y_hat_RFC)))"
   ]
  },
  {
   "cell_type": "code",
   "execution_count": 95,
   "metadata": {},
   "outputs": [],
   "source": [
    "GBC.fit(model_train_df,y_train)\n",
    "Y_hat_GBC = GBC.predict(model_test_array)"
   ]
  },
  {
   "cell_type": "code",
   "execution_count": 96,
   "metadata": {},
   "outputs": [
    {
     "name": "stdout",
     "output_type": "stream",
     "text": [
      "Precisión del modelo GBC:\t  0.6612\n"
     ]
    }
   ],
   "source": [
    "print('Precisión del modelo GBC:\\t ',(accuracy_score(y_test, Y_hat_GBC)))"
   ]
  },
  {
   "cell_type": "code",
   "execution_count": 106,
   "metadata": {},
   "outputs": [],
   "source": [
    "SGD.fit(model_train_df,y_train)\n",
    "Y_hat_SGD = SGD.predict(model_test_array)"
   ]
  },
  {
   "cell_type": "code",
   "execution_count": 108,
   "metadata": {},
   "outputs": [
    {
     "name": "stdout",
     "output_type": "stream",
     "text": [
      "Precisión del modelo SGD:\t  0.5006\n"
     ]
    }
   ],
   "source": [
    "print('Precisión del modelo SGD:\\t ',(accuracy_score(y_test, Y_hat_SGD)))"
   ]
  },
  {
   "cell_type": "code",
   "execution_count": 107,
   "metadata": {},
   "outputs": [],
   "source": [
    "ABC.fit(model_train_df,y_train)\n",
    "Y_hat_ABC = SGD.predict(model_test_array)"
   ]
  },
  {
   "cell_type": "code",
   "execution_count": 109,
   "metadata": {},
   "outputs": [
    {
     "name": "stdout",
     "output_type": "stream",
     "text": [
      "Precisión del modelo ABC:\t  0.5006\n"
     ]
    }
   ],
   "source": [
    "print('Precisión del modelo ABC:\\t ',(accuracy_score(y_test, Y_hat_ABC)))"
   ]
  },
  {
   "cell_type": "code",
   "execution_count": 110,
   "metadata": {},
   "outputs": [],
   "source": [
    "HGBC.fit(model_train_df,y_train)\n",
    "Y_hat_HGBC = HGBC.predict(model_test_array)"
   ]
  },
  {
   "cell_type": "code",
   "execution_count": 111,
   "metadata": {},
   "outputs": [
    {
     "name": "stdout",
     "output_type": "stream",
     "text": [
      "Precisión del modelo HGBC:\t  0.5005\n"
     ]
    }
   ],
   "source": [
    "print('Precisión del modelo HGBC:\\t ',(accuracy_score(y_test, Y_hat_HGBC)))"
   ]
  },
  {
   "cell_type": "code",
   "execution_count": 112,
   "metadata": {},
   "outputs": [],
   "source": [
    "SVM.fit(model_train_df,y_train)\n",
    "Y_hat_SVM = SVM.predict(model_test_array)"
   ]
  },
  {
   "cell_type": "code",
   "execution_count": 113,
   "metadata": {},
   "outputs": [
    {
     "name": "stdout",
     "output_type": "stream",
     "text": [
      "Precisión del modelo SVM:\t  0.5\n"
     ]
    }
   ],
   "source": [
    "print('Precisión del modelo SVM:\\t ',(accuracy_score(y_test, Y_hat_SVM)))"
   ]
  },
  {
   "cell_type": "code",
   "execution_count": 81,
   "metadata": {},
   "outputs": [
    {
     "data": {
      "text/plain": [
       "[2, 3, 12, 96, 1]"
      ]
     },
     "execution_count": 81,
     "metadata": {},
     "output_type": "execute_result"
    }
   ],
   "source": [
    "def tokens(sentence):\n",
    "    tokens = []\n",
    "    for word in sentence:\n",
    "        tokens += [model.wv.key_to_index.get(word,-1) + 2]\n",
    "    return tokens\n",
    "sentence = ['movi','film','watch','horror', 'jajaja']\n",
    "tokens(sentence)"
   ]
  },
  {
   "cell_type": "code",
   "execution_count": 82,
   "metadata": {},
   "outputs": [
    {
     "data": {
      "text/html": [
       "<div>\n",
       "<style scoped>\n",
       "    .dataframe tbody tr th:only-of-type {\n",
       "        vertical-align: middle;\n",
       "    }\n",
       "\n",
       "    .dataframe tbody tr th {\n",
       "        vertical-align: top;\n",
       "    }\n",
       "\n",
       "    .dataframe thead th {\n",
       "        text-align: right;\n",
       "    }\n",
       "</style>\n",
       "<table border=\"1\" class=\"dataframe\">\n",
       "  <thead>\n",
       "    <tr style=\"text-align: right;\">\n",
       "      <th></th>\n",
       "      <th>review</th>\n",
       "      <th>sentiment</th>\n",
       "      <th>review_clean</th>\n",
       "      <th>sentiment_encoded</th>\n",
       "      <th>review_vectorized</th>\n",
       "      <th>review_tokens</th>\n",
       "    </tr>\n",
       "  </thead>\n",
       "  <tbody>\n",
       "    <tr>\n",
       "      <th>30036</th>\n",
       "      <td>league of gentleman has been the most disturbi...</td>\n",
       "      <td>positive</td>\n",
       "      <td>[leagu, gentleman, disturb, british, sitcom, v...</td>\n",
       "      <td>1</td>\n",
       "      <td>[[1.0, 355817.0, 365459.0]]</td>\n",
       "      <td>[2297, 3726, 877, 635, 1966, 1797, 74, 2, 23, ...</td>\n",
       "    </tr>\n",
       "    <tr>\n",
       "      <th>5964</th>\n",
       "      <td>\"The Hazing\" is one of them films I always wan...</td>\n",
       "      <td>negative</td>\n",
       "      <td>[haze, one, film, alway, want, see, sole, base...</td>\n",
       "      <td>0</td>\n",
       "      <td>[[1.0, 840767.0, 917492.0]]</td>\n",
       "      <td>[7633, 4, 3, 131, 48, 10, 1898, 335, 2802, 567...</td>\n",
       "    </tr>\n",
       "    <tr>\n",
       "      <th>17976</th>\n",
       "      <td>Mean spirited, and down right degrading adapta...</td>\n",
       "      <td>negative</td>\n",
       "      <td>[mean, spirit, right, degrad, adapt, classic, ...</td>\n",
       "      <td>0</td>\n",
       "      <td>[[1.0, 244303.0, 249799.0]]</td>\n",
       "      <td>[153, 770, 113, 4054, 687, 237, 351, 584, 301,...</td>\n",
       "    </tr>\n",
       "    <tr>\n",
       "      <th>28407</th>\n",
       "      <td>This movie just screened on Channel Seven - Au...</td>\n",
       "      <td>positive</td>\n",
       "      <td>[movi, screen, channel, seven, australian, tv,...</td>\n",
       "      <td>1</td>\n",
       "      <td>[[1.0, 172047.0, 179053.0]]</td>\n",
       "      <td>[2, 162, 909, 1425, 1749, 158, 417, 510, 70, 4...</td>\n",
       "    </tr>\n",
       "    <tr>\n",
       "      <th>6508</th>\n",
       "      <td>Everyone's already commented on the obvious fa...</td>\n",
       "      <td>negative</td>\n",
       "      <td>[everyon, alreadi, comment, obviou, fact, firs...</td>\n",
       "      <td>0</td>\n",
       "      <td>[[1.0, 808779.0, 937203.0]]</td>\n",
       "      <td>[216, 399, 322, 524, 103, 29, 322, 459, 25, 29...</td>\n",
       "    </tr>\n",
       "  </tbody>\n",
       "</table>\n",
       "</div>"
      ],
      "text/plain": [
       "                                                  review sentiment  \\\n",
       "30036  league of gentleman has been the most disturbi...  positive   \n",
       "5964   \"The Hazing\" is one of them films I always wan...  negative   \n",
       "17976  Mean spirited, and down right degrading adapta...  negative   \n",
       "28407  This movie just screened on Channel Seven - Au...  positive   \n",
       "6508   Everyone's already commented on the obvious fa...  negative   \n",
       "\n",
       "                                            review_clean  sentiment_encoded  \\\n",
       "30036  [leagu, gentleman, disturb, british, sitcom, v...                  1   \n",
       "5964   [haze, one, film, alway, want, see, sole, base...                  0   \n",
       "17976  [mean, spirit, right, degrad, adapt, classic, ...                  0   \n",
       "28407  [movi, screen, channel, seven, australian, tv,...                  1   \n",
       "6508   [everyon, alreadi, comment, obviou, fact, firs...                  0   \n",
       "\n",
       "                 review_vectorized  \\\n",
       "30036  [[1.0, 355817.0, 365459.0]]   \n",
       "5964   [[1.0, 840767.0, 917492.0]]   \n",
       "17976  [[1.0, 244303.0, 249799.0]]   \n",
       "28407  [[1.0, 172047.0, 179053.0]]   \n",
       "6508   [[1.0, 808779.0, 937203.0]]   \n",
       "\n",
       "                                           review_tokens  \n",
       "30036  [2297, 3726, 877, 635, 1966, 1797, 74, 2, 23, ...  \n",
       "5964   [7633, 4, 3, 131, 48, 10, 1898, 335, 2802, 567...  \n",
       "17976  [153, 770, 113, 4054, 687, 237, 351, 584, 301,...  \n",
       "28407  [2, 162, 909, 1425, 1749, 158, 417, 510, 70, 4...  \n",
       "6508   [216, 399, 322, 524, 103, 29, 322, 459, 25, 29...  "
      ]
     },
     "execution_count": 82,
     "metadata": {},
     "output_type": "execute_result"
    }
   ],
   "source": [
    "data_train['review_tokens'] = data_train.review_clean.apply(tokens)\n",
    "data_train.head()"
   ]
  },
  {
   "cell_type": "code",
   "execution_count": 83,
   "metadata": {},
   "outputs": [
    {
     "data": {
      "text/html": [
       "<div>\n",
       "<style scoped>\n",
       "    .dataframe tbody tr th:only-of-type {\n",
       "        vertical-align: middle;\n",
       "    }\n",
       "\n",
       "    .dataframe tbody tr th {\n",
       "        vertical-align: top;\n",
       "    }\n",
       "\n",
       "    .dataframe thead th {\n",
       "        text-align: right;\n",
       "    }\n",
       "</style>\n",
       "<table border=\"1\" class=\"dataframe\">\n",
       "  <thead>\n",
       "    <tr style=\"text-align: right;\">\n",
       "      <th></th>\n",
       "      <th>review</th>\n",
       "      <th>sentiment</th>\n",
       "      <th>review_clean</th>\n",
       "      <th>sentiment_encoded</th>\n",
       "      <th>review_vectorized</th>\n",
       "      <th>review_tokens</th>\n",
       "    </tr>\n",
       "  </thead>\n",
       "  <tbody>\n",
       "    <tr>\n",
       "      <th>6895</th>\n",
       "      <td>Basil Rathbone and Nigel Bruce as Sherlock Hol...</td>\n",
       "      <td>positive</td>\n",
       "      <td>[basil, rathbon, nigel, bruce, sherlock, holm,...</td>\n",
       "      <td>1</td>\n",
       "      <td>[[1.0, 174300.0, 166804.0]]</td>\n",
       "      <td>[6115, 6001, 6695, 1248, 4856, 1772, 709, 3629...</td>\n",
       "    </tr>\n",
       "    <tr>\n",
       "      <th>3712</th>\n",
       "      <td>As a Canadian History major, my first thing to...</td>\n",
       "      <td>negative</td>\n",
       "      <td>[canadian, histori, major, first, thing, say, ...</td>\n",
       "      <td>0</td>\n",
       "      <td>[[1.0, 318935.0, 307243.0]]</td>\n",
       "      <td>[1947, 412, 454, 29, 34, 38, 904, 103, 1328, 2...</td>\n",
       "    </tr>\n",
       "    <tr>\n",
       "      <th>463</th>\n",
       "      <td>I'm glad I didn't pay to see 'The Wog Boy'.&lt;br...</td>\n",
       "      <td>negative</td>\n",
       "      <td>[glad, pay, see, wog, boy, sat, hope, wait, so...</td>\n",
       "      <td>0</td>\n",
       "      <td>[[1.0, 54673.0, 65011.0]]</td>\n",
       "      <td>[1149, 596, 10, 16148, 209, 1602, 186, 395, 65...</td>\n",
       "    </tr>\n",
       "    <tr>\n",
       "      <th>5781</th>\n",
       "      <td>I had long wanted to watch this romantic drama...</td>\n",
       "      <td>positive</td>\n",
       "      <td>[long, want, watch, romant, drama, wwii, set, ...</td>\n",
       "      <td>1</td>\n",
       "      <td>[[1.0, 785297.0, 716833.0]]</td>\n",
       "      <td>[111, 48, 12, 648, 348, 2350, 87, 38, 7884, 74...</td>\n",
       "    </tr>\n",
       "    <tr>\n",
       "      <th>3123</th>\n",
       "      <td>This is the movie that, pretty much, sounded t...</td>\n",
       "      <td>negative</td>\n",
       "      <td>[movi, pretti, much, sound, death, knell, aute...</td>\n",
       "      <td>0</td>\n",
       "      <td>[[1.0, 770489.0, 926861.0]]</td>\n",
       "      <td>[2, 104, 21, 202, 230, 26412, 5216, 294, 980, ...</td>\n",
       "    </tr>\n",
       "  </tbody>\n",
       "</table>\n",
       "</div>"
      ],
      "text/plain": [
       "                                                 review sentiment  \\\n",
       "6895  Basil Rathbone and Nigel Bruce as Sherlock Hol...  positive   \n",
       "3712  As a Canadian History major, my first thing to...  negative   \n",
       "463   I'm glad I didn't pay to see 'The Wog Boy'.<br...  negative   \n",
       "5781  I had long wanted to watch this romantic drama...  positive   \n",
       "3123  This is the movie that, pretty much, sounded t...  negative   \n",
       "\n",
       "                                           review_clean  sentiment_encoded  \\\n",
       "6895  [basil, rathbon, nigel, bruce, sherlock, holm,...                  1   \n",
       "3712  [canadian, histori, major, first, thing, say, ...                  0   \n",
       "463   [glad, pay, see, wog, boy, sat, hope, wait, so...                  0   \n",
       "5781  [long, want, watch, romant, drama, wwii, set, ...                  1   \n",
       "3123  [movi, pretti, much, sound, death, knell, aute...                  0   \n",
       "\n",
       "                review_vectorized  \\\n",
       "6895  [[1.0, 174300.0, 166804.0]]   \n",
       "3712  [[1.0, 318935.0, 307243.0]]   \n",
       "463     [[1.0, 54673.0, 65011.0]]   \n",
       "5781  [[1.0, 785297.0, 716833.0]]   \n",
       "3123  [[1.0, 770489.0, 926861.0]]   \n",
       "\n",
       "                                          review_tokens  \n",
       "6895  [6115, 6001, 6695, 1248, 4856, 1772, 709, 3629...  \n",
       "3712  [1947, 412, 454, 29, 34, 38, 904, 103, 1328, 2...  \n",
       "463   [1149, 596, 10, 16148, 209, 1602, 186, 395, 65...  \n",
       "5781  [111, 48, 12, 648, 348, 2350, 87, 38, 7884, 74...  \n",
       "3123  [2, 104, 21, 202, 230, 26412, 5216, 294, 980, ...  "
      ]
     },
     "execution_count": 83,
     "metadata": {},
     "output_type": "execute_result"
    }
   ],
   "source": [
    "data_test['review_tokens'] = data_test.review_clean.apply(tokens)\n",
    "data_test.head()"
   ]
  },
  {
   "cell_type": "code",
   "execution_count": 141,
   "metadata": {},
   "outputs": [],
   "source": [
    "from sklearn.decomposition import PCA\n",
    "pca = PCA(n_components=10)\n",
    "embeddings_pca = pca.fit_transform(word_vec_df)"
   ]
  },
  {
   "cell_type": "code",
   "execution_count": 142,
   "metadata": {},
   "outputs": [
    {
     "data": {
      "text/html": [
       "<div>\n",
       "<style scoped>\n",
       "    .dataframe tbody tr th:only-of-type {\n",
       "        vertical-align: middle;\n",
       "    }\n",
       "\n",
       "    .dataframe tbody tr th {\n",
       "        vertical-align: top;\n",
       "    }\n",
       "\n",
       "    .dataframe thead th {\n",
       "        text-align: right;\n",
       "    }\n",
       "</style>\n",
       "<table border=\"1\" class=\"dataframe\">\n",
       "  <thead>\n",
       "    <tr style=\"text-align: right;\">\n",
       "      <th></th>\n",
       "      <th>0</th>\n",
       "      <th>1</th>\n",
       "      <th>2</th>\n",
       "      <th>3</th>\n",
       "      <th>4</th>\n",
       "      <th>5</th>\n",
       "      <th>6</th>\n",
       "      <th>7</th>\n",
       "      <th>8</th>\n",
       "      <th>9</th>\n",
       "    </tr>\n",
       "  </thead>\n",
       "  <tbody>\n",
       "    <tr>\n",
       "      <th>movi</th>\n",
       "      <td>-7.240289</td>\n",
       "      <td>2.042861</td>\n",
       "      <td>2.723533</td>\n",
       "      <td>0.799788</td>\n",
       "      <td>2.719062</td>\n",
       "      <td>0.002452</td>\n",
       "      <td>1.342457</td>\n",
       "      <td>1.462591</td>\n",
       "      <td>-0.858227</td>\n",
       "      <td>-1.635453</td>\n",
       "    </tr>\n",
       "    <tr>\n",
       "      <th>film</th>\n",
       "      <td>-6.006563</td>\n",
       "      <td>3.114308</td>\n",
       "      <td>0.045759</td>\n",
       "      <td>1.755502</td>\n",
       "      <td>0.261581</td>\n",
       "      <td>0.569892</td>\n",
       "      <td>0.141606</td>\n",
       "      <td>0.659745</td>\n",
       "      <td>-0.761500</td>\n",
       "      <td>-1.215129</td>\n",
       "    </tr>\n",
       "    <tr>\n",
       "      <th>one</th>\n",
       "      <td>-3.967717</td>\n",
       "      <td>0.480181</td>\n",
       "      <td>1.351796</td>\n",
       "      <td>0.248546</td>\n",
       "      <td>1.784655</td>\n",
       "      <td>0.778294</td>\n",
       "      <td>0.206635</td>\n",
       "      <td>1.485994</td>\n",
       "      <td>-1.562362</td>\n",
       "      <td>-0.904597</td>\n",
       "    </tr>\n",
       "    <tr>\n",
       "      <th>like</th>\n",
       "      <td>-3.083910</td>\n",
       "      <td>0.374424</td>\n",
       "      <td>2.990185</td>\n",
       "      <td>0.042523</td>\n",
       "      <td>1.268239</td>\n",
       "      <td>0.174632</td>\n",
       "      <td>2.109394</td>\n",
       "      <td>0.513352</td>\n",
       "      <td>-1.429642</td>\n",
       "      <td>-0.200041</td>\n",
       "    </tr>\n",
       "    <tr>\n",
       "      <th>time</th>\n",
       "      <td>-5.171416</td>\n",
       "      <td>0.155264</td>\n",
       "      <td>1.544261</td>\n",
       "      <td>1.222701</td>\n",
       "      <td>2.472508</td>\n",
       "      <td>2.104264</td>\n",
       "      <td>-0.856558</td>\n",
       "      <td>0.601702</td>\n",
       "      <td>-1.073137</td>\n",
       "      <td>-0.760819</td>\n",
       "    </tr>\n",
       "    <tr>\n",
       "      <th>...</th>\n",
       "      <td>...</td>\n",
       "      <td>...</td>\n",
       "      <td>...</td>\n",
       "      <td>...</td>\n",
       "      <td>...</td>\n",
       "      <td>...</td>\n",
       "      <td>...</td>\n",
       "      <td>...</td>\n",
       "      <td>...</td>\n",
       "      <td>...</td>\n",
       "    </tr>\n",
       "    <tr>\n",
       "      <th>maladroit</th>\n",
       "      <td>-0.177320</td>\n",
       "      <td>0.123040</td>\n",
       "      <td>0.043587</td>\n",
       "      <td>-0.104913</td>\n",
       "      <td>0.094657</td>\n",
       "      <td>0.029279</td>\n",
       "      <td>-0.016152</td>\n",
       "      <td>-0.007621</td>\n",
       "      <td>0.022439</td>\n",
       "      <td>0.031265</td>\n",
       "    </tr>\n",
       "    <tr>\n",
       "      <th>canadien</th>\n",
       "      <td>-0.168454</td>\n",
       "      <td>0.192732</td>\n",
       "      <td>0.171549</td>\n",
       "      <td>0.175749</td>\n",
       "      <td>0.159944</td>\n",
       "      <td>0.034406</td>\n",
       "      <td>0.036524</td>\n",
       "      <td>0.016104</td>\n",
       "      <td>0.036315</td>\n",
       "      <td>-0.020727</td>\n",
       "    </tr>\n",
       "    <tr>\n",
       "      <th>volt</th>\n",
       "      <td>-0.195650</td>\n",
       "      <td>0.046528</td>\n",
       "      <td>0.237435</td>\n",
       "      <td>-0.004202</td>\n",
       "      <td>-0.021724</td>\n",
       "      <td>-0.001915</td>\n",
       "      <td>0.075505</td>\n",
       "      <td>0.072886</td>\n",
       "      <td>0.116505</td>\n",
       "      <td>-0.043741</td>\n",
       "    </tr>\n",
       "    <tr>\n",
       "      <th>ticker</th>\n",
       "      <td>-0.313556</td>\n",
       "      <td>0.095373</td>\n",
       "      <td>0.312883</td>\n",
       "      <td>0.070233</td>\n",
       "      <td>0.121030</td>\n",
       "      <td>-0.008774</td>\n",
       "      <td>0.083364</td>\n",
       "      <td>0.086736</td>\n",
       "      <td>0.019697</td>\n",
       "      <td>-0.021466</td>\n",
       "    </tr>\n",
       "    <tr>\n",
       "      <th>selenium</th>\n",
       "      <td>-0.135042</td>\n",
       "      <td>0.041734</td>\n",
       "      <td>0.292439</td>\n",
       "      <td>0.028878</td>\n",
       "      <td>0.077712</td>\n",
       "      <td>-0.054272</td>\n",
       "      <td>-0.018453</td>\n",
       "      <td>-0.028448</td>\n",
       "      <td>0.101353</td>\n",
       "      <td>-0.050038</td>\n",
       "    </tr>\n",
       "  </tbody>\n",
       "</table>\n",
       "<p>26556 rows × 10 columns</p>\n",
       "</div>"
      ],
      "text/plain": [
       "                  0         1         2         3         4         5  \\\n",
       "movi      -7.240289  2.042861  2.723533  0.799788  2.719062  0.002452   \n",
       "film      -6.006563  3.114308  0.045759  1.755502  0.261581  0.569892   \n",
       "one       -3.967717  0.480181  1.351796  0.248546  1.784655  0.778294   \n",
       "like      -3.083910  0.374424  2.990185  0.042523  1.268239  0.174632   \n",
       "time      -5.171416  0.155264  1.544261  1.222701  2.472508  2.104264   \n",
       "...             ...       ...       ...       ...       ...       ...   \n",
       "maladroit -0.177320  0.123040  0.043587 -0.104913  0.094657  0.029279   \n",
       "canadien  -0.168454  0.192732  0.171549  0.175749  0.159944  0.034406   \n",
       "volt      -0.195650  0.046528  0.237435 -0.004202 -0.021724 -0.001915   \n",
       "ticker    -0.313556  0.095373  0.312883  0.070233  0.121030 -0.008774   \n",
       "selenium  -0.135042  0.041734  0.292439  0.028878  0.077712 -0.054272   \n",
       "\n",
       "                  6         7         8         9  \n",
       "movi       1.342457  1.462591 -0.858227 -1.635453  \n",
       "film       0.141606  0.659745 -0.761500 -1.215129  \n",
       "one        0.206635  1.485994 -1.562362 -0.904597  \n",
       "like       2.109394  0.513352 -1.429642 -0.200041  \n",
       "time      -0.856558  0.601702 -1.073137 -0.760819  \n",
       "...             ...       ...       ...       ...  \n",
       "maladroit -0.016152 -0.007621  0.022439  0.031265  \n",
       "canadien   0.036524  0.016104  0.036315 -0.020727  \n",
       "volt       0.075505  0.072886  0.116505 -0.043741  \n",
       "ticker     0.083364  0.086736  0.019697 -0.021466  \n",
       "selenium  -0.018453 -0.028448  0.101353 -0.050038  \n",
       "\n",
       "[26556 rows x 10 columns]"
      ]
     },
     "execution_count": 142,
     "metadata": {},
     "output_type": "execute_result"
    }
   ],
   "source": [
    "embeddings_pca_df = pd.DataFrame(embeddings_pca, index=tokens)\n",
    "embeddings_pca_df"
   ]
  },
  {
   "cell_type": "code",
   "execution_count": null,
   "metadata": {},
   "outputs": [],
   "source": []
  },
  {
   "cell_type": "code",
   "execution_count": null,
   "metadata": {},
   "outputs": [],
   "source": []
  },
  {
   "cell_type": "code",
   "execution_count": null,
   "metadata": {},
   "outputs": [],
   "source": []
  },
  {
   "cell_type": "markdown",
   "metadata": {
    "id": "qrIZfgoD7gSu"
   },
   "source": [
    "#  <font size=6> Visualización"
   ]
  },
  {
   "cell_type": "markdown",
   "metadata": {
    "id": "HyozGaCTFZk7"
   },
   "source": [
    "Para tener una visualización mas gráficas de nuestra data decidimos realizar dos formas de visualizarlas\n",
    "\n",
    "Primero haremos un TreeMap con nuestros valores de reseñas negativas y positivas"
   ]
  },
  {
   "cell_type": "code",
   "execution_count": null,
   "metadata": {
    "colab": {
     "base_uri": "https://localhost:8080/",
     "height": 416
    },
    "id": "Zy_bhF98Fi_Z",
    "outputId": "b42be572-3552-4456-a86c-219f15e7304d"
   },
   "outputs": [
    {
     "data": {
      "text/html": [
       "<html>\n",
       "<head><meta charset=\"utf-8\" /></head>\n",
       "<body>\n",
       "    <div>            <script src=\"https://cdnjs.cloudflare.com/ajax/libs/mathjax/2.7.5/MathJax.js?config=TeX-AMS-MML_SVG\"></script><script type=\"text/javascript\">if (window.MathJax) {MathJax.Hub.Config({SVG: {font: \"STIX-Web\"}});}</script>                <script type=\"text/javascript\">window.PlotlyConfig = {MathJaxConfig: 'local'};</script>\n",
       "        <script src=\"https://cdn.plot.ly/plotly-2.8.3.min.js\"></script>                <div id=\"25c2a78c-e76f-4ae9-bad1-3d355b8c505a\" class=\"plotly-graph-div\" style=\"height:400px; width:800px;\"></div>            <script type=\"text/javascript\">                                    window.PLOTLYENV=window.PLOTLYENV || {};                                    if (document.getElementById(\"25c2a78c-e76f-4ae9-bad1-3d355b8c505a\")) {                    Plotly.newPlot(                        \"25c2a78c-e76f-4ae9-bad1-3d355b8c505a\",                        [{\"branchvalues\":\"total\",\"domain\":{\"x\":[0.0,1.0],\"y\":[0.0,1.0]},\"hovertemplate\":\"labels=%{label}<br>review=%{value}<br>parent=%{parent}<br>id=%{id}<extra></extra>\",\"ids\":[\"negative\",\"positive\"],\"labels\":[\"negative\",\"positive\"],\"name\":\"\",\"parents\":[\"\",\"\"],\"values\":[25000,25000],\"type\":\"treemap\",\"textinfo\":\"label+value\"}],                        {\"template\":{\"data\":{\"bar\":[{\"error_x\":{\"color\":\"#2a3f5f\"},\"error_y\":{\"color\":\"#2a3f5f\"},\"marker\":{\"line\":{\"color\":\"#E5ECF6\",\"width\":0.5},\"pattern\":{\"fillmode\":\"overlay\",\"size\":10,\"solidity\":0.2}},\"type\":\"bar\"}],\"barpolar\":[{\"marker\":{\"line\":{\"color\":\"#E5ECF6\",\"width\":0.5},\"pattern\":{\"fillmode\":\"overlay\",\"size\":10,\"solidity\":0.2}},\"type\":\"barpolar\"}],\"carpet\":[{\"aaxis\":{\"endlinecolor\":\"#2a3f5f\",\"gridcolor\":\"white\",\"linecolor\":\"white\",\"minorgridcolor\":\"white\",\"startlinecolor\":\"#2a3f5f\"},\"baxis\":{\"endlinecolor\":\"#2a3f5f\",\"gridcolor\":\"white\",\"linecolor\":\"white\",\"minorgridcolor\":\"white\",\"startlinecolor\":\"#2a3f5f\"},\"type\":\"carpet\"}],\"choropleth\":[{\"colorbar\":{\"outlinewidth\":0,\"ticks\":\"\"},\"type\":\"choropleth\"}],\"contour\":[{\"colorbar\":{\"outlinewidth\":0,\"ticks\":\"\"},\"colorscale\":[[0.0,\"#0d0887\"],[0.1111111111111111,\"#46039f\"],[0.2222222222222222,\"#7201a8\"],[0.3333333333333333,\"#9c179e\"],[0.4444444444444444,\"#bd3786\"],[0.5555555555555556,\"#d8576b\"],[0.6666666666666666,\"#ed7953\"],[0.7777777777777778,\"#fb9f3a\"],[0.8888888888888888,\"#fdca26\"],[1.0,\"#f0f921\"]],\"type\":\"contour\"}],\"contourcarpet\":[{\"colorbar\":{\"outlinewidth\":0,\"ticks\":\"\"},\"type\":\"contourcarpet\"}],\"heatmap\":[{\"colorbar\":{\"outlinewidth\":0,\"ticks\":\"\"},\"colorscale\":[[0.0,\"#0d0887\"],[0.1111111111111111,\"#46039f\"],[0.2222222222222222,\"#7201a8\"],[0.3333333333333333,\"#9c179e\"],[0.4444444444444444,\"#bd3786\"],[0.5555555555555556,\"#d8576b\"],[0.6666666666666666,\"#ed7953\"],[0.7777777777777778,\"#fb9f3a\"],[0.8888888888888888,\"#fdca26\"],[1.0,\"#f0f921\"]],\"type\":\"heatmap\"}],\"heatmapgl\":[{\"colorbar\":{\"outlinewidth\":0,\"ticks\":\"\"},\"colorscale\":[[0.0,\"#0d0887\"],[0.1111111111111111,\"#46039f\"],[0.2222222222222222,\"#7201a8\"],[0.3333333333333333,\"#9c179e\"],[0.4444444444444444,\"#bd3786\"],[0.5555555555555556,\"#d8576b\"],[0.6666666666666666,\"#ed7953\"],[0.7777777777777778,\"#fb9f3a\"],[0.8888888888888888,\"#fdca26\"],[1.0,\"#f0f921\"]],\"type\":\"heatmapgl\"}],\"histogram\":[{\"marker\":{\"pattern\":{\"fillmode\":\"overlay\",\"size\":10,\"solidity\":0.2}},\"type\":\"histogram\"}],\"histogram2d\":[{\"colorbar\":{\"outlinewidth\":0,\"ticks\":\"\"},\"colorscale\":[[0.0,\"#0d0887\"],[0.1111111111111111,\"#46039f\"],[0.2222222222222222,\"#7201a8\"],[0.3333333333333333,\"#9c179e\"],[0.4444444444444444,\"#bd3786\"],[0.5555555555555556,\"#d8576b\"],[0.6666666666666666,\"#ed7953\"],[0.7777777777777778,\"#fb9f3a\"],[0.8888888888888888,\"#fdca26\"],[1.0,\"#f0f921\"]],\"type\":\"histogram2d\"}],\"histogram2dcontour\":[{\"colorbar\":{\"outlinewidth\":0,\"ticks\":\"\"},\"colorscale\":[[0.0,\"#0d0887\"],[0.1111111111111111,\"#46039f\"],[0.2222222222222222,\"#7201a8\"],[0.3333333333333333,\"#9c179e\"],[0.4444444444444444,\"#bd3786\"],[0.5555555555555556,\"#d8576b\"],[0.6666666666666666,\"#ed7953\"],[0.7777777777777778,\"#fb9f3a\"],[0.8888888888888888,\"#fdca26\"],[1.0,\"#f0f921\"]],\"type\":\"histogram2dcontour\"}],\"mesh3d\":[{\"colorbar\":{\"outlinewidth\":0,\"ticks\":\"\"},\"type\":\"mesh3d\"}],\"parcoords\":[{\"line\":{\"colorbar\":{\"outlinewidth\":0,\"ticks\":\"\"}},\"type\":\"parcoords\"}],\"pie\":[{\"automargin\":true,\"type\":\"pie\"}],\"scatter\":[{\"marker\":{\"colorbar\":{\"outlinewidth\":0,\"ticks\":\"\"}},\"type\":\"scatter\"}],\"scatter3d\":[{\"line\":{\"colorbar\":{\"outlinewidth\":0,\"ticks\":\"\"}},\"marker\":{\"colorbar\":{\"outlinewidth\":0,\"ticks\":\"\"}},\"type\":\"scatter3d\"}],\"scattercarpet\":[{\"marker\":{\"colorbar\":{\"outlinewidth\":0,\"ticks\":\"\"}},\"type\":\"scattercarpet\"}],\"scattergeo\":[{\"marker\":{\"colorbar\":{\"outlinewidth\":0,\"ticks\":\"\"}},\"type\":\"scattergeo\"}],\"scattergl\":[{\"marker\":{\"colorbar\":{\"outlinewidth\":0,\"ticks\":\"\"}},\"type\":\"scattergl\"}],\"scattermapbox\":[{\"marker\":{\"colorbar\":{\"outlinewidth\":0,\"ticks\":\"\"}},\"type\":\"scattermapbox\"}],\"scatterpolar\":[{\"marker\":{\"colorbar\":{\"outlinewidth\":0,\"ticks\":\"\"}},\"type\":\"scatterpolar\"}],\"scatterpolargl\":[{\"marker\":{\"colorbar\":{\"outlinewidth\":0,\"ticks\":\"\"}},\"type\":\"scatterpolargl\"}],\"scatterternary\":[{\"marker\":{\"colorbar\":{\"outlinewidth\":0,\"ticks\":\"\"}},\"type\":\"scatterternary\"}],\"surface\":[{\"colorbar\":{\"outlinewidth\":0,\"ticks\":\"\"},\"colorscale\":[[0.0,\"#0d0887\"],[0.1111111111111111,\"#46039f\"],[0.2222222222222222,\"#7201a8\"],[0.3333333333333333,\"#9c179e\"],[0.4444444444444444,\"#bd3786\"],[0.5555555555555556,\"#d8576b\"],[0.6666666666666666,\"#ed7953\"],[0.7777777777777778,\"#fb9f3a\"],[0.8888888888888888,\"#fdca26\"],[1.0,\"#f0f921\"]],\"type\":\"surface\"}],\"table\":[{\"cells\":{\"fill\":{\"color\":\"#EBF0F8\"},\"line\":{\"color\":\"white\"}},\"header\":{\"fill\":{\"color\":\"#C8D4E3\"},\"line\":{\"color\":\"white\"}},\"type\":\"table\"}]},\"layout\":{\"annotationdefaults\":{\"arrowcolor\":\"#2a3f5f\",\"arrowhead\":0,\"arrowwidth\":1},\"autotypenumbers\":\"strict\",\"coloraxis\":{\"colorbar\":{\"outlinewidth\":0,\"ticks\":\"\"}},\"colorscale\":{\"diverging\":[[0,\"#8e0152\"],[0.1,\"#c51b7d\"],[0.2,\"#de77ae\"],[0.3,\"#f1b6da\"],[0.4,\"#fde0ef\"],[0.5,\"#f7f7f7\"],[0.6,\"#e6f5d0\"],[0.7,\"#b8e186\"],[0.8,\"#7fbc41\"],[0.9,\"#4d9221\"],[1,\"#276419\"]],\"sequential\":[[0.0,\"#0d0887\"],[0.1111111111111111,\"#46039f\"],[0.2222222222222222,\"#7201a8\"],[0.3333333333333333,\"#9c179e\"],[0.4444444444444444,\"#bd3786\"],[0.5555555555555556,\"#d8576b\"],[0.6666666666666666,\"#ed7953\"],[0.7777777777777778,\"#fb9f3a\"],[0.8888888888888888,\"#fdca26\"],[1.0,\"#f0f921\"]],\"sequentialminus\":[[0.0,\"#0d0887\"],[0.1111111111111111,\"#46039f\"],[0.2222222222222222,\"#7201a8\"],[0.3333333333333333,\"#9c179e\"],[0.4444444444444444,\"#bd3786\"],[0.5555555555555556,\"#d8576b\"],[0.6666666666666666,\"#ed7953\"],[0.7777777777777778,\"#fb9f3a\"],[0.8888888888888888,\"#fdca26\"],[1.0,\"#f0f921\"]]},\"colorway\":[\"#636efa\",\"#EF553B\",\"#00cc96\",\"#ab63fa\",\"#FFA15A\",\"#19d3f3\",\"#FF6692\",\"#B6E880\",\"#FF97FF\",\"#FECB52\"],\"font\":{\"color\":\"#2a3f5f\"},\"geo\":{\"bgcolor\":\"white\",\"lakecolor\":\"white\",\"landcolor\":\"#E5ECF6\",\"showlakes\":true,\"showland\":true,\"subunitcolor\":\"white\"},\"hoverlabel\":{\"align\":\"left\"},\"hovermode\":\"closest\",\"mapbox\":{\"style\":\"light\"},\"paper_bgcolor\":\"white\",\"plot_bgcolor\":\"#E5ECF6\",\"polar\":{\"angularaxis\":{\"gridcolor\":\"white\",\"linecolor\":\"white\",\"ticks\":\"\"},\"bgcolor\":\"#E5ECF6\",\"radialaxis\":{\"gridcolor\":\"white\",\"linecolor\":\"white\",\"ticks\":\"\"}},\"scene\":{\"xaxis\":{\"backgroundcolor\":\"#E5ECF6\",\"gridcolor\":\"white\",\"gridwidth\":2,\"linecolor\":\"white\",\"showbackground\":true,\"ticks\":\"\",\"zerolinecolor\":\"white\"},\"yaxis\":{\"backgroundcolor\":\"#E5ECF6\",\"gridcolor\":\"white\",\"gridwidth\":2,\"linecolor\":\"white\",\"showbackground\":true,\"ticks\":\"\",\"zerolinecolor\":\"white\"},\"zaxis\":{\"backgroundcolor\":\"#E5ECF6\",\"gridcolor\":\"white\",\"gridwidth\":2,\"linecolor\":\"white\",\"showbackground\":true,\"ticks\":\"\",\"zerolinecolor\":\"white\"}},\"shapedefaults\":{\"line\":{\"color\":\"#2a3f5f\"}},\"ternary\":{\"aaxis\":{\"gridcolor\":\"white\",\"linecolor\":\"white\",\"ticks\":\"\"},\"baxis\":{\"gridcolor\":\"white\",\"linecolor\":\"white\",\"ticks\":\"\"},\"bgcolor\":\"#E5ECF6\",\"caxis\":{\"gridcolor\":\"white\",\"linecolor\":\"white\",\"ticks\":\"\"}},\"title\":{\"x\":0.05},\"xaxis\":{\"automargin\":true,\"gridcolor\":\"white\",\"linecolor\":\"white\",\"ticks\":\"\",\"title\":{\"standoff\":15},\"zerolinecolor\":\"white\",\"zerolinewidth\":2},\"yaxis\":{\"automargin\":true,\"gridcolor\":\"white\",\"linecolor\":\"white\",\"ticks\":\"\",\"title\":{\"standoff\":15},\"zerolinecolor\":\"white\",\"zerolinewidth\":2}}},\"legend\":{\"tracegroupgap\":0},\"margin\":{\"t\":60},\"height\":400,\"width\":800,\"hovermode\":false},                        {\"responsive\": true}                    ).then(function(){\n",
       "                            \n",
       "var gd = document.getElementById('25c2a78c-e76f-4ae9-bad1-3d355b8c505a');\n",
       "var x = new MutationObserver(function (mutations, observer) {{\n",
       "        var display = window.getComputedStyle(gd).display;\n",
       "        if (!display || display === 'none') {{\n",
       "            console.log([gd, 'removed!']);\n",
       "            Plotly.purge(gd);\n",
       "            observer.disconnect();\n",
       "        }}\n",
       "}});\n",
       "\n",
       "// Listen for the removal of the full notebook cells\n",
       "var notebookContainer = gd.closest('#notebook-container');\n",
       "if (notebookContainer) {{\n",
       "    x.observe(notebookContainer, {childList: true});\n",
       "}}\n",
       "\n",
       "// Listen for the clearing of the current output cell\n",
       "var outputEl = gd.closest('.output');\n",
       "if (outputEl) {{\n",
       "    x.observe(outputEl, {childList: true});\n",
       "}}\n",
       "\n",
       "                        })                };                            </script>        </div>\n",
       "</body>\n",
       "</html>"
      ]
     },
     "metadata": {},
     "output_type": "display_data"
    }
   ],
   "source": [
    "import plotly.express as px\n",
    "dataTree=pd.DataFrame(data.groupby('sentiment').count())#Realizamos la agrupación para obtener el total de Reviews\n",
    "dataTree['sentiment'] = dataTree.index #Convertimos nuestros indices en las etiquetas a usar\n",
    "fig = px.treemap(dataTree, path=['sentiment'], values='review', width=800, height=400)\n",
    "fig.data[0].textinfo='label+value'\n",
    "fig.layout.hovermode = False\n",
    "fig.show()\n"
   ]
  },
  {
   "cell_type": "markdown",
   "metadata": {
    "id": "0ZU9x0KA7oOZ"
   },
   "source": [
    "Cómo lo mencionamos Previamente nuestra Reviews contienen el mismo numero de posigivas y Negativas. Lo cuál es más fácil de visualizar con el Gráfico\n",
    "\n",
    "La siguiente será un \"WordCloud\", con la cual podremos identificar de manéra gráfica las palabras mas usadas"
   ]
  },
  {
   "cell_type": "code",
   "execution_count": null,
   "metadata": {
    "id": "IF7YIjptOb6l"
   },
   "outputs": [],
   "source": [
    "from wordcloud import WordCloud\n",
    "wordcloud = WordCloud(colormap='winter')\n",
    "neg_words = neg_rev.review_clean.apply(lambda x: ' '.join(x))\n",
    "pos_words = pos_rev.review_clean.apply(lambda x: ' '.join(x))\n"
   ]
  },
  {
   "cell_type": "markdown",
   "metadata": {
    "id": "AA3Uzn3GSdWL"
   },
   "source": [
    "Valoraciones Negativas"
   ]
  },
  {
   "cell_type": "code",
   "execution_count": null,
   "metadata": {
    "colab": {
     "base_uri": "https://localhost:8080/",
     "height": 216
    },
    "id": "MtSqSgEBOb32",
    "outputId": "a6fc79ec-dac1-4a57-8ac8-f52e862391fd"
   },
   "outputs": [
    {
     "data": {
      "text/plain": [
       "(-0.5, 399.5, 199.5, -0.5)"
      ]
     },
     "execution_count": 167,
     "metadata": {},
     "output_type": "execute_result"
    },
    {
     "data": {
      "image/png": "[encoded data removed]",
      "text/plain": [
       "<Figure size 432x288 with 1 Axes>"
      ]
     },
     "metadata": {
      "needs_background": "light"
     },
     "output_type": "display_data"
    }
   ],
   "source": [
    "wordcloud.generate(str(neg_words))\n",
    "plt.imshow(wordcloud, interpolation ='bilinear')\n",
    "plt.axis('off')"
   ]
  },
  {
   "cell_type": "markdown",
   "metadata": {
    "id": "VITRPzskSZXk"
   },
   "source": [
    "Valoraciones Positivas"
   ]
  },
  {
   "cell_type": "code",
   "execution_count": null,
   "metadata": {
    "colab": {
     "base_uri": "https://localhost:8080/",
     "height": 216
    },
    "id": "hIXuo1IqOa4m",
    "outputId": "843c6c18-f996-4dbe-879d-07fe6be0a3c9"
   },
   "outputs": [
    {
     "data": {
      "text/plain": [
       "(-0.5, 399.5, 199.5, -0.5)"
      ]
     },
     "execution_count": 168,
     "metadata": {},
     "output_type": "execute_result"
    },
    {
     "data": {
      "image/png": "[encoded data removed]",
      "text/plain": [
       "<Figure size 432x288 with 1 Axes>"
      ]
     },
     "metadata": {
      "needs_background": "light"
     },
     "output_type": "display_data"
    }
   ],
   "source": [
    "wordcloud = WordCloud(colormap='autumn')\n",
    "wordcloud.generate(str(pos_words))\n",
    "plt.imshow(wordcloud, interpolation='bilinear')\n",
    "plt.axis('off')"
   ]
  },
  {
   "cell_type": "markdown",
   "metadata": {
    "id": "Hq89uGpzR5mI"
   },
   "source": [
    "Con esta última Visualización podemos se logra ver que las palabras mas usadas en conmentarios negativos son Bad y Film.\n",
    "\n",
    "Mientras que de las valoraciones positivas Son Wonder, Right y Love"
   ]
  }
 ],
 "metadata": {
  "colab": {
   "collapsed_sections": [
    "pJZFoI1vJcCy",
    "qJxplWY50Phv",
    "T2_j2uyX0PeQ"
   ],
   "provenance": []
  },
  "gpuClass": "standard",
  "kernelspec": {
   "display_name": "Python 3 (ipykernel)",
   "language": "python",
   "name": "python3"
  },
  "language_info": {
   "codemirror_mode": {
    "name": "ipython",
    "version": 3
   },
   "file_extension": ".py",
   "mimetype": "text/x-python",
   "name": "python",
   "nbconvert_exporter": "python",
   "pygments_lexer": "ipython3",
   "version": "3.9.12"
  },
  "latex_envs": {
   "LaTeX_envs_menu_present": true,
   "autoclose": false,
   "autocomplete": true,
   "bibliofile": "biblio.bib",
   "cite_by": "apalike",
   "current_citInitial": 1,
   "eqLabelWithNumbers": true,
   "eqNumInitial": 1,
   "hotkeys": {
    "equation": "Ctrl-E",
    "itemize": "Ctrl-I"
   },
   "labels_anchors": false,
   "latex_user_defs": false,
   "report_style_numbering": false,
   "user_envs_cfg": false
  },
  "toc": {
   "base_numbering": 1,
   "nav_menu": {},
   "number_sections": true,
   "sideBar": true,
   "skip_h1_title": false,
   "title_cell": "Table of Contents",
   "title_sidebar": "Contents",
   "toc_cell": false,
   "toc_position": {},
   "toc_section_display": true,
   "toc_window_display": false
  }
 },
 "nbformat": 4,
 "nbformat_minor": 1
}
